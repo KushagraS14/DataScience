{
  "cells": [
    {
      "cell_type": "code",
      "execution_count": null,
      "metadata": {
        "id": "jf3OAnhxiBhK"
      },
      "outputs": [],
      "source": []
    },
    {
      "cell_type": "markdown",
      "metadata": {
        "id": "x2iNQzh4jVjF"
      },
      "source": [
        "#today we are having an exciting case study  Hr analytics case study and we would develop and extract insights from it\n"
      ]
    },
    {
      "cell_type": "code",
      "execution_count": null,
      "metadata": {
        "id": "wZUUR9UUstKc"
      },
      "outputs": [],
      "source": []
    },
    {
      "cell_type": "markdown",
      "metadata": {
        "id": "VEtmgaNdk98f"
      },
      "source": [
        "# Step 1: Importing of Libraries"
      ]
    },
    {
      "cell_type": "code",
      "execution_count": null,
      "metadata": {
        "id": "Au8ZYX-nlP40"
      },
      "outputs": [],
      "source": [
        "#Configuration Libraries"
      ]
    },
    {
      "cell_type": "code",
      "execution_count": null,
      "metadata": {
        "id": "ZNyGd8iMjikX"
      },
      "outputs": [],
      "source": [
        "import warnings\n",
        "warnings.filterwarnings('ignore')"
      ]
    },
    {
      "cell_type": "code",
      "execution_count": null,
      "metadata": {
        "id": "maqGqdwylX0a"
      },
      "outputs": [],
      "source": [
        "#Mandatory libraires"
      ]
    },
    {
      "cell_type": "code",
      "execution_count": null,
      "metadata": {
        "id": "T4fLIMNIlw2m"
      },
      "outputs": [],
      "source": [
        "import numpy as np\n",
        "import pandas as pd\n",
        "import seaborn as sns\n",
        "import matplotlib.pyplot as plt\n",
        "\n",
        "\n"
      ]
    },
    {
      "cell_type": "markdown",
      "metadata": {
        "id": "Z4LDPTd8n1bM"
      },
      "source": [
        "Other Libraries"
      ]
    },
    {
      "cell_type": "code",
      "execution_count": null,
      "metadata": {
        "id": "ckIBO0wGmINR"
      },
      "outputs": [],
      "source": [
        "from sklearn.preprocessing import LabelEncoder\n"
      ]
    },
    {
      "cell_type": "markdown",
      "metadata": {
        "id": "rSGcW9qqoTTT"
      },
      "source": [
        "Data Loading and inspection"
      ]
    },
    {
      "cell_type": "code",
      "execution_count": null,
      "metadata": {
        "id": "zt67uv4UoPoP"
      },
      "outputs": [],
      "source": [
        "df3=pd.read_csv('/content/people.csv')"
      ]
    },
    {
      "cell_type": "code",
      "execution_count": null,
      "metadata": {
        "id": "6q6zpx04povY"
      },
      "outputs": [],
      "source": [
        "df3.head()"
      ]
    },
    {
      "cell_type": "markdown",
      "metadata": {
        "id": "oxu0X4XTrzXP"
      },
      "source": [
        "#Insights\n",
        "We need to rename this column [timespent.company]"
      ]
    },
    {
      "cell_type": "code",
      "execution_count": null,
      "metadata": {
        "id": "MLBkpQtQqcXW"
      },
      "outputs": [],
      "source": [
        "df3['lastEvaluation']"
      ]
    },
    {
      "cell_type": "code",
      "execution_count": null,
      "metadata": {
        "id": "8iIn_8bAsdDW"
      },
      "outputs": [],
      "source": [
        "df3['timeSpent.company']"
      ]
    },
    {
      "cell_type": "code",
      "execution_count": null,
      "metadata": {
        "id": "-wpUenb4tDnY"
      },
      "outputs": [],
      "source": [
        "df3.lastEvaluation"
      ]
    },
    {
      "cell_type": "code",
      "execution_count": null,
      "metadata": {
        "id": "epIVBpYItKGu"
      },
      "outputs": [],
      "source": [
        "df3.timespent.company          #we can't aceess this column so we need to rename it."
      ]
    },
    {
      "cell_type": "markdown",
      "metadata": {
        "id": "c1d3cvUAtrsb"
      },
      "source": [
        "Shape Inspection"
      ]
    },
    {
      "cell_type": "code",
      "execution_count": null,
      "metadata": {
        "id": "B5f0c14-teHK"
      },
      "outputs": [],
      "source": [
        "a=df3.shape\n",
        "print(f'There are {a[0]} rows and {a[1]} columns')"
      ]
    },
    {
      "cell_type": "markdown",
      "metadata": {
        "id": "ktfHFLx0ucFf"
      },
      "source": [
        "Information Phase"
      ]
    },
    {
      "cell_type": "code",
      "execution_count": null,
      "metadata": {
        "id": "ZhZ9RR6uuebr"
      },
      "outputs": [],
      "source": [
        "df3.info()"
      ]
    },
    {
      "cell_type": "markdown",
      "metadata": {
        "id": "XOZf_XxOu2VL"
      },
      "source": [
        "# Insights :there is no null **values**\n",
        "\n",
        "*   there is no null **values**\n",
        "*   WE need to perform encoding\n",
        "\n",
        "\n",
        "\n",
        "*   Duplicates check if there are any\n",
        "\n",
        "\n"
      ]
    },
    {
      "cell_type": "markdown",
      "metadata": {
        "id": "rADJxP19wZCw"
      },
      "source": [
        "# StatisticalInferencen:to get the statistical *idea*"
      ]
    },
    {
      "cell_type": "code",
      "execution_count": null,
      "metadata": {
        "id": "UD7ViuRquiTA"
      },
      "outputs": [],
      "source": [
        "df3.describe()         #statistical analysis  of df3 dataset"
      ]
    },
    {
      "cell_type": "code",
      "execution_count": null,
      "metadata": {
        "id": "0P11KqAFwpwB"
      },
      "outputs": [],
      "source": [
        "df3.describe().T                        #transpose of a matrix"
      ]
    },
    {
      "cell_type": "markdown",
      "metadata": {
        "id": "orAjaq0a1jhl"
      },
      "source": [
        "#Insights\n",
        "Satisfactory level column says that on  an average the satisfactory level column has 60 % level of satisfaction moreover it also seems to have a normal\n",
        "distribution.\n",
        "\n",
        "\n",
        "*   Left and work accident are not normal distribution may be right skewd graph\n",
        "*   promotion in last 5 years may be a right skewed graph\n",
        "\n",
        "\n",
        "\n"
      ]
    },
    {
      "cell_type": "code",
      "execution_count": null,
      "metadata": {
        "id": "MAunhzz67GMD"
      },
      "outputs": [],
      "source": [
        "df3.describe(include=['O']).T"
      ]
    },
    {
      "cell_type": "markdown",
      "metadata": {
        "id": "_a8HutrLKOr3"
      },
      "source": [
        "# Data Preprocessing"
      ]
    },
    {
      "cell_type": "code",
      "execution_count": null,
      "metadata": {
        "id": "BX6TkBO-KUT4"
      },
      "outputs": [],
      "source": [
        "df3.rename(columns={'timeSpent.company':'timespent_company'},inplace=True)"
      ]
    },
    {
      "cell_type": "markdown",
      "metadata": {
        "id": "xA-S6xH3MHd6"
      },
      "source": [
        "#Check for duplicates"
      ]
    },
    {
      "cell_type": "code",
      "execution_count": null,
      "metadata": {
        "id": "eDo01uCJLeX8"
      },
      "outputs": [],
      "source": [
        "df3.duplicated().sum()"
      ]
    },
    {
      "cell_type": "code",
      "execution_count": null,
      "metadata": {
        "id": "B_UIehiFPO1r"
      },
      "outputs": [],
      "source": [
        "df3=df3.drop_duplicates(keep='first')"
      ]
    },
    {
      "cell_type": "markdown",
      "metadata": {
        "id": "_kjWpPaOR4L_"
      },
      "source": [
        "#Encoding"
      ]
    },
    {
      "cell_type": "code",
      "execution_count": null,
      "metadata": {
        "id": "q0OgPkCWTd5q"
      },
      "outputs": [],
      "source": [
        "df3['dept'].unique()               #after encoding"
      ]
    },
    {
      "cell_type": "code",
      "execution_count": null,
      "metadata": {
        "id": "VS2sAqFmTmvd"
      },
      "outputs": [],
      "source": [
        "df3['salary'].unique()                 #after encoding"
      ]
    },
    {
      "cell_type": "code",
      "execution_count": null,
      "metadata": {
        "id": "WSb6HHlzRrXy"
      },
      "outputs": [],
      "source": [
        "col_list=['dept','salary']"
      ]
    },
    {
      "cell_type": "code",
      "execution_count": null,
      "metadata": {
        "id": "l4OCVQV_SGv3"
      },
      "outputs": [],
      "source": [
        "le=LabelEncoder()"
      ]
    },
    {
      "cell_type": "code",
      "execution_count": null,
      "metadata": {
        "id": "W7-0QYO9RzZv"
      },
      "outputs": [],
      "source": [
        "for x in col_list:\n",
        "  df3[x]=le.fit_transform(df3[x])\n",
        "  print(le.classes_)\n",
        "  mapped=dict(zip(le.classes_,le.transform(le.classes_)))\n",
        "  print(mapped)"
      ]
    },
    {
      "cell_type": "markdown",
      "metadata": {
        "id": "h-6QHLYyQRwk"
      },
      "source": [
        "#ShapeInspection"
      ]
    },
    {
      "cell_type": "code",
      "execution_count": null,
      "metadata": {
        "id": "z7v9vmBVQWKs"
      },
      "outputs": [],
      "source": [
        "a=df3.shape"
      ]
    },
    {
      "cell_type": "code",
      "execution_count": null,
      "metadata": {
        "id": "Fl0Wn5e8Qs9A"
      },
      "outputs": [],
      "source": [
        "print(f\"there are {a[0]} rows and {a[1]} columns\")"
      ]
    },
    {
      "cell_type": "markdown",
      "metadata": {
        "id": "h0stgspyRfV3"
      },
      "source": [
        "Check for nulls"
      ]
    },
    {
      "cell_type": "code",
      "execution_count": null,
      "metadata": {
        "id": "C64T6wpoROQM"
      },
      "outputs": [],
      "source": [
        "df3.isnull().sum()"
      ]
    },
    {
      "cell_type": "markdown",
      "metadata": {
        "id": "8AnZe9QcUU0L"
      },
      "source": [
        "Step4 : Statistical Analysis Portion"
      ]
    },
    {
      "cell_type": "code",
      "execution_count": null,
      "metadata": {
        "id": "sDKcQkb4R5Km"
      },
      "outputs": [],
      "source": [
        "#Check using test that Satisfactory column  is normally distributed or not"
      ]
    },
    {
      "cell_type": "code",
      "execution_count": null,
      "metadata": {
        "id": "OzhVM0WRV6OD"
      },
      "outputs": [],
      "source": [
        "#Test for Normality:Shapiro wilk Test"
      ]
    },
    {
      "cell_type": "code",
      "execution_count": null,
      "metadata": {
        "id": "Vn_Hejc-dkbl"
      },
      "outputs": [],
      "source": [
        "#visualise the satisfactory level"
      ]
    },
    {
      "cell_type": "code",
      "execution_count": null,
      "metadata": {
        "id": "jIBLM6uLfBi8"
      },
      "outputs": [],
      "source": [
        "plt.figure(figsize=(10,8))\n",
        "plt.hist(df3['satisfactoryLevel'])\n",
        "plt.show()"
      ]
    },
    {
      "cell_type": "code",
      "execution_count": null,
      "metadata": {
        "id": "__XAPPGuh7en"
      },
      "outputs": [],
      "source": [
        "#by looking at the graph  we can conclude that the graph is not normally distributed,it may be the left skewd graph."
      ]
    },
    {
      "cell_type": "markdown",
      "metadata": {
        "id": "04NpJgIDokD9"
      },
      "source": [
        "Visualisation using seaborn"
      ]
    },
    {
      "cell_type": "code",
      "execution_count": null,
      "metadata": {
        "id": "hm__kI8NfSN8"
      },
      "outputs": [],
      "source": [
        "sns.distplot(df3['satisfactoryLevel'])"
      ]
    },
    {
      "cell_type": "code",
      "execution_count": null,
      "metadata": {
        "id": "dv7gtFowpocH"
      },
      "outputs": [],
      "source": [
        "sns.kdeplot(x='satisfactoryLevel',data=df3)          #only the perfect distribution we are having"
      ]
    },
    {
      "cell_type": "markdown",
      "metadata": {
        "id": "a9xx_z0eq3AR"
      },
      "source": []
    },
    {
      "cell_type": "code",
      "execution_count": null,
      "metadata": {
        "id": "qPafAnKNroEj"
      },
      "outputs": [],
      "source": [
        "#by looking at the graph  we can conclude that the graph is not normally distributed,it may be the left skewd graph."
      ]
    },
    {
      "cell_type": "markdown",
      "metadata": {
        "id": "sFg76jg-sG2P"
      },
      "source": [
        "Shapiro Wilks Test"
      ]
    },
    {
      "cell_type": "code",
      "execution_count": null,
      "metadata": {
        "id": "37ddtfclrtwJ"
      },
      "outputs": [],
      "source": [
        "from scipy.stats import shapiro\n"
      ]
    },
    {
      "cell_type": "markdown",
      "metadata": {
        "id": "TiF9WzSGtefP"
      },
      "source": [
        "**Framing the hypothesis**\n",
        "\n",
        "\n",
        "* NUll Hypothesis:The data is normally distributed\n",
        "*  Alternate Hypotheisis:THe data is not normally distributed.\n",
        "\n"
      ]
    },
    {
      "cell_type": "code",
      "execution_count": null,
      "metadata": {
        "id": "IfysVd8QuKdX"
      },
      "outputs": [],
      "source": [
        "stats,pvalue=shapiro(df3['satisfactoryLevel'])"
      ]
    },
    {
      "cell_type": "markdown",
      "metadata": {
        "id": "h83BLHJZ2lKj"
      },
      "source": [
        "Results"
      ]
    },
    {
      "cell_type": "code",
      "execution_count": null,
      "metadata": {
        "id": "b-O0_Ew0uBvW"
      },
      "outputs": [],
      "source": [
        "if pvalue>0.05:\n",
        "  print('Accept the null hypothesis and will conclude that the data is normally distributed')\n",
        "\n",
        "else:\n",
        "  print('Failed to accept the null hypotheisis and will conclude that the data is not normally distributed')\n",
        "\n",
        "\n",
        "\n",
        "\n",
        "\n",
        "\n",
        "\n",
        "\n"
      ]
    },
    {
      "cell_type": "markdown",
      "metadata": {
        "id": "ZNIeOaV7ZqBS"
      },
      "source": [
        "2.)Create a filter of data when satisfactory level is from 0 to 0.50 . and time spent in the company is 2 years and avg montly hours is in between 130 to 200 hrs.\n"
      ]
    },
    {
      "cell_type": "code",
      "execution_count": null,
      "metadata": {
        "id": "uTJDqDo-aE7W"
      },
      "outputs": [],
      "source": [
        "df3[(df3['satisfactoryLevel']>0)& (df3['satisfactoryLevel']<0.50)& (df3['timeSpent.company']==2) & (df3['avgMonthlyHours']>130)& (df3['avgMonthlyHours']<200)]"
      ]
    },
    {
      "cell_type": "markdown",
      "metadata": {
        "id": "yZEUe9-23uka"
      },
      "source": [
        "\n",
        "\n",
        "*   Find the average of averagemonthlyhours\n",
        "*   Find the data that is having thefilters\n",
        "\n",
        "\n",
        "*   Then take a sample out of data\n",
        "*   Perform the test\n",
        "\n",
        "One Samplet test:It tells us whether the means the sample and the population are different or not\n"
      ]
    },
    {
      "cell_type": "markdown",
      "metadata": {
        "id": "dbj6q7NvXfZj"
      },
      "source": [
        "# Average Monthly hours of an employee having 2 years of experience is 167.Is it same for employees having more than  2 years of experience?\n",
        "Condition -Satisfactory level of an employee is from 0 to 0.5 and average Monthly hours is from 130 -200 **"
      ]
    },
    {
      "cell_type": "markdown",
      "metadata": {
        "id": "1_6ttZQ-ZFNv"
      },
      "source": [
        "GET OUR DATA"
      ]
    },
    {
      "cell_type": "code",
      "execution_count": null,
      "metadata": {
        "id": "rVyEkZs8xyDE"
      },
      "outputs": [],
      "source": [
        "new_df=df3[((df3['satisfactoryLevel']>0) & (df3['satisfactoryLevel']<=0.50) & (df3['timeSpent.company']>2) & (df3['avgMonthlyHours']>=130) & (df3['avgMonthlyHours']<=200))]"
      ]
    },
    {
      "cell_type": "code",
      "execution_count": null,
      "metadata": {
        "id": "tZZziemWLAFo"
      },
      "outputs": [],
      "source": [
        "proposed_mean=167"
      ]
    },
    {
      "cell_type": "code",
      "execution_count": null,
      "metadata": {
        "colab": {
          "base_uri": "https://localhost:8080/",
          "height": 423
        },
        "id": "8ezNCmqaZvoD",
        "outputId": "b7598699-dec9-46c0-a921-54a6439f8193"
      },
      "outputs": [
        {
          "data": {
            "application/vnd.google.colaboratory.intrinsic+json": {
              "summary": "{\n  \"name\": \"new_df\",\n  \"rows\": 2221,\n  \"fields\": [\n    {\n      \"column\": \"satisfactoryLevel\",\n      \"properties\": {\n        \"dtype\": \"number\",\n        \"std\": 0.09248426775850312,\n        \"min\": 0.1,\n        \"max\": 0.5,\n        \"num_unique_values\": 41,\n        \"samples\": [\n          0.48,\n          0.15,\n          0.43\n        ],\n        \"semantic_type\": \"\",\n        \"description\": \"\"\n      }\n    },\n    {\n      \"column\": \"lastEvaluation\",\n      \"properties\": {\n        \"dtype\": \"number\",\n        \"std\": 0.14001909119725173,\n        \"min\": 0.36,\n        \"max\": 1.0,\n        \"num_unique_values\": 65,\n        \"samples\": [\n          0.91,\n          0.36,\n          0.53\n        ],\n        \"semantic_type\": \"\",\n        \"description\": \"\"\n      }\n    },\n    {\n      \"column\": \"numberOfProjects\",\n      \"properties\": {\n        \"dtype\": \"number\",\n        \"std\": 1,\n        \"min\": 2,\n        \"max\": 7,\n        \"num_unique_values\": 6,\n        \"samples\": [\n          2,\n          7,\n          4\n        ],\n        \"semantic_type\": \"\",\n        \"description\": \"\"\n      }\n    },\n    {\n      \"column\": \"avgMonthlyHours\",\n      \"properties\": {\n        \"dtype\": \"number\",\n        \"std\": 17,\n        \"min\": 130,\n        \"max\": 200,\n        \"num_unique_values\": 71,\n        \"samples\": [\n          138,\n          157,\n          195\n        ],\n        \"semantic_type\": \"\",\n        \"description\": \"\"\n      }\n    },\n    {\n      \"column\": \"timeSpent.company\",\n      \"properties\": {\n        \"dtype\": \"number\",\n        \"std\": 1,\n        \"min\": 3,\n        \"max\": 10,\n        \"num_unique_values\": 7,\n        \"samples\": [\n          3,\n          5,\n          10\n        ],\n        \"semantic_type\": \"\",\n        \"description\": \"\"\n      }\n    },\n    {\n      \"column\": \"workAccident\",\n      \"properties\": {\n        \"dtype\": \"number\",\n        \"std\": 0,\n        \"min\": 0,\n        \"max\": 1,\n        \"num_unique_values\": 2,\n        \"samples\": [\n          1,\n          0\n        ],\n        \"semantic_type\": \"\",\n        \"description\": \"\"\n      }\n    },\n    {\n      \"column\": \"left\",\n      \"properties\": {\n        \"dtype\": \"number\",\n        \"std\": 0,\n        \"min\": 0,\n        \"max\": 1,\n        \"num_unique_values\": 2,\n        \"samples\": [\n          0,\n          1\n        ],\n        \"semantic_type\": \"\",\n        \"description\": \"\"\n      }\n    },\n    {\n      \"column\": \"promotionInLast5years\",\n      \"properties\": {\n        \"dtype\": \"number\",\n        \"std\": 0,\n        \"min\": 0,\n        \"max\": 1,\n        \"num_unique_values\": 2,\n        \"samples\": [\n          1,\n          0\n        ],\n        \"semantic_type\": \"\",\n        \"description\": \"\"\n      }\n    },\n    {\n      \"column\": \"dept\",\n      \"properties\": {\n        \"dtype\": \"category\",\n        \"num_unique_values\": 10,\n        \"samples\": [\n          \"management\",\n          \"accounting\"\n        ],\n        \"semantic_type\": \"\",\n        \"description\": \"\"\n      }\n    },\n    {\n      \"column\": \"salary\",\n      \"properties\": {\n        \"dtype\": \"category\",\n        \"num_unique_values\": 3,\n        \"samples\": [\n          \"low\",\n          \"high\"\n        ],\n        \"semantic_type\": \"\",\n        \"description\": \"\"\n      }\n    }\n  ]\n}",
              "type": "dataframe",
              "variable_name": "new_df"
            },
            "text/html": [
              "\n",
              "  <div id=\"df-b94d2fd2-664a-4cfc-a346-889017a65b0c\" class=\"colab-df-container\">\n",
              "    <div>\n",
              "<style scoped>\n",
              "    .dataframe tbody tr th:only-of-type {\n",
              "        vertical-align: middle;\n",
              "    }\n",
              "\n",
              "    .dataframe tbody tr th {\n",
              "        vertical-align: top;\n",
              "    }\n",
              "\n",
              "    .dataframe thead th {\n",
              "        text-align: right;\n",
              "    }\n",
              "</style>\n",
              "<table border=\"1\" class=\"dataframe\">\n",
              "  <thead>\n",
              "    <tr style=\"text-align: right;\">\n",
              "      <th></th>\n",
              "      <th>satisfactoryLevel</th>\n",
              "      <th>lastEvaluation</th>\n",
              "      <th>numberOfProjects</th>\n",
              "      <th>avgMonthlyHours</th>\n",
              "      <th>timeSpent.company</th>\n",
              "      <th>workAccident</th>\n",
              "      <th>left</th>\n",
              "      <th>promotionInLast5years</th>\n",
              "      <th>dept</th>\n",
              "      <th>salary</th>\n",
              "    </tr>\n",
              "  </thead>\n",
              "  <tbody>\n",
              "    <tr>\n",
              "      <th>0</th>\n",
              "      <td>0.38</td>\n",
              "      <td>0.53</td>\n",
              "      <td>2</td>\n",
              "      <td>157</td>\n",
              "      <td>3</td>\n",
              "      <td>0</td>\n",
              "      <td>1</td>\n",
              "      <td>0</td>\n",
              "      <td>sales</td>\n",
              "      <td>low</td>\n",
              "    </tr>\n",
              "    <tr>\n",
              "      <th>3</th>\n",
              "      <td>0.37</td>\n",
              "      <td>0.52</td>\n",
              "      <td>2</td>\n",
              "      <td>159</td>\n",
              "      <td>3</td>\n",
              "      <td>0</td>\n",
              "      <td>1</td>\n",
              "      <td>0</td>\n",
              "      <td>sales</td>\n",
              "      <td>low</td>\n",
              "    </tr>\n",
              "    <tr>\n",
              "      <th>4</th>\n",
              "      <td>0.41</td>\n",
              "      <td>0.50</td>\n",
              "      <td>2</td>\n",
              "      <td>153</td>\n",
              "      <td>3</td>\n",
              "      <td>0</td>\n",
              "      <td>1</td>\n",
              "      <td>0</td>\n",
              "      <td>sales</td>\n",
              "      <td>low</td>\n",
              "    </tr>\n",
              "    <tr>\n",
              "      <th>7</th>\n",
              "      <td>0.42</td>\n",
              "      <td>0.53</td>\n",
              "      <td>2</td>\n",
              "      <td>142</td>\n",
              "      <td>3</td>\n",
              "      <td>0</td>\n",
              "      <td>1</td>\n",
              "      <td>0</td>\n",
              "      <td>sales</td>\n",
              "      <td>low</td>\n",
              "    </tr>\n",
              "    <tr>\n",
              "      <th>8</th>\n",
              "      <td>0.45</td>\n",
              "      <td>0.54</td>\n",
              "      <td>2</td>\n",
              "      <td>135</td>\n",
              "      <td>3</td>\n",
              "      <td>0</td>\n",
              "      <td>1</td>\n",
              "      <td>0</td>\n",
              "      <td>sales</td>\n",
              "      <td>low</td>\n",
              "    </tr>\n",
              "    <tr>\n",
              "      <th>...</th>\n",
              "      <td>...</td>\n",
              "      <td>...</td>\n",
              "      <td>...</td>\n",
              "      <td>...</td>\n",
              "      <td>...</td>\n",
              "      <td>...</td>\n",
              "      <td>...</td>\n",
              "      <td>...</td>\n",
              "      <td>...</td>\n",
              "      <td>...</td>\n",
              "    </tr>\n",
              "    <tr>\n",
              "      <th>14970</th>\n",
              "      <td>0.43</td>\n",
              "      <td>0.48</td>\n",
              "      <td>2</td>\n",
              "      <td>135</td>\n",
              "      <td>3</td>\n",
              "      <td>0</td>\n",
              "      <td>1</td>\n",
              "      <td>0</td>\n",
              "      <td>sales</td>\n",
              "      <td>medium</td>\n",
              "    </tr>\n",
              "    <tr>\n",
              "      <th>14971</th>\n",
              "      <td>0.42</td>\n",
              "      <td>0.48</td>\n",
              "      <td>2</td>\n",
              "      <td>143</td>\n",
              "      <td>3</td>\n",
              "      <td>0</td>\n",
              "      <td>1</td>\n",
              "      <td>0</td>\n",
              "      <td>sales</td>\n",
              "      <td>low</td>\n",
              "    </tr>\n",
              "    <tr>\n",
              "      <th>14979</th>\n",
              "      <td>0.37</td>\n",
              "      <td>0.46</td>\n",
              "      <td>2</td>\n",
              "      <td>149</td>\n",
              "      <td>3</td>\n",
              "      <td>0</td>\n",
              "      <td>1</td>\n",
              "      <td>0</td>\n",
              "      <td>marketing</td>\n",
              "      <td>high</td>\n",
              "    </tr>\n",
              "    <tr>\n",
              "      <th>14988</th>\n",
              "      <td>0.43</td>\n",
              "      <td>0.57</td>\n",
              "      <td>2</td>\n",
              "      <td>157</td>\n",
              "      <td>3</td>\n",
              "      <td>0</td>\n",
              "      <td>1</td>\n",
              "      <td>0</td>\n",
              "      <td>sales</td>\n",
              "      <td>low</td>\n",
              "    </tr>\n",
              "    <tr>\n",
              "      <th>14997</th>\n",
              "      <td>0.24</td>\n",
              "      <td>0.91</td>\n",
              "      <td>5</td>\n",
              "      <td>177</td>\n",
              "      <td>5</td>\n",
              "      <td>0</td>\n",
              "      <td>0</td>\n",
              "      <td>0</td>\n",
              "      <td>sales</td>\n",
              "      <td>low</td>\n",
              "    </tr>\n",
              "  </tbody>\n",
              "</table>\n",
              "<p>2221 rows × 10 columns</p>\n",
              "</div>\n",
              "    <div class=\"colab-df-buttons\">\n",
              "\n",
              "  <div class=\"colab-df-container\">\n",
              "    <button class=\"colab-df-convert\" onclick=\"convertToInteractive('df-b94d2fd2-664a-4cfc-a346-889017a65b0c')\"\n",
              "            title=\"Convert this dataframe to an interactive table.\"\n",
              "            style=\"display:none;\">\n",
              "\n",
              "  <svg xmlns=\"http://www.w3.org/2000/svg\" height=\"24px\" viewBox=\"0 -960 960 960\">\n",
              "    <path d=\"M120-120v-720h720v720H120Zm60-500h600v-160H180v160Zm220 220h160v-160H400v160Zm0 220h160v-160H400v160ZM180-400h160v-160H180v160Zm440 0h160v-160H620v160ZM180-180h160v-160H180v160Zm440 0h160v-160H620v160Z\"/>\n",
              "  </svg>\n",
              "    </button>\n",
              "\n",
              "  <style>\n",
              "    .colab-df-container {\n",
              "      display:flex;\n",
              "      gap: 12px;\n",
              "    }\n",
              "\n",
              "    .colab-df-convert {\n",
              "      background-color: #E8F0FE;\n",
              "      border: none;\n",
              "      border-radius: 50%;\n",
              "      cursor: pointer;\n",
              "      display: none;\n",
              "      fill: #1967D2;\n",
              "      height: 32px;\n",
              "      padding: 0 0 0 0;\n",
              "      width: 32px;\n",
              "    }\n",
              "\n",
              "    .colab-df-convert:hover {\n",
              "      background-color: #E2EBFA;\n",
              "      box-shadow: 0px 1px 2px rgba(60, 64, 67, 0.3), 0px 1px 3px 1px rgba(60, 64, 67, 0.15);\n",
              "      fill: #174EA6;\n",
              "    }\n",
              "\n",
              "    .colab-df-buttons div {\n",
              "      margin-bottom: 4px;\n",
              "    }\n",
              "\n",
              "    [theme=dark] .colab-df-convert {\n",
              "      background-color: #3B4455;\n",
              "      fill: #D2E3FC;\n",
              "    }\n",
              "\n",
              "    [theme=dark] .colab-df-convert:hover {\n",
              "      background-color: #434B5C;\n",
              "      box-shadow: 0px 1px 3px 1px rgba(0, 0, 0, 0.15);\n",
              "      filter: drop-shadow(0px 1px 2px rgba(0, 0, 0, 0.3));\n",
              "      fill: #FFFFFF;\n",
              "    }\n",
              "  </style>\n",
              "\n",
              "    <script>\n",
              "      const buttonEl =\n",
              "        document.querySelector('#df-b94d2fd2-664a-4cfc-a346-889017a65b0c button.colab-df-convert');\n",
              "      buttonEl.style.display =\n",
              "        google.colab.kernel.accessAllowed ? 'block' : 'none';\n",
              "\n",
              "      async function convertToInteractive(key) {\n",
              "        const element = document.querySelector('#df-b94d2fd2-664a-4cfc-a346-889017a65b0c');\n",
              "        const dataTable =\n",
              "          await google.colab.kernel.invokeFunction('convertToInteractive',\n",
              "                                                    [key], {});\n",
              "        if (!dataTable) return;\n",
              "\n",
              "        const docLinkHtml = 'Like what you see? Visit the ' +\n",
              "          '<a target=\"_blank\" href=https://colab.research.google.com/notebooks/data_table.ipynb>data table notebook</a>'\n",
              "          + ' to learn more about interactive tables.';\n",
              "        element.innerHTML = '';\n",
              "        dataTable['output_type'] = 'display_data';\n",
              "        await google.colab.output.renderOutput(dataTable, element);\n",
              "        const docLink = document.createElement('div');\n",
              "        docLink.innerHTML = docLinkHtml;\n",
              "        element.appendChild(docLink);\n",
              "      }\n",
              "    </script>\n",
              "  </div>\n",
              "\n",
              "\n",
              "<div id=\"df-618eefa8-9a26-4afb-b036-399d6d02bf0c\">\n",
              "  <button class=\"colab-df-quickchart\" onclick=\"quickchart('df-618eefa8-9a26-4afb-b036-399d6d02bf0c')\"\n",
              "            title=\"Suggest charts\"\n",
              "            style=\"display:none;\">\n",
              "\n",
              "<svg xmlns=\"http://www.w3.org/2000/svg\" height=\"24px\"viewBox=\"0 0 24 24\"\n",
              "     width=\"24px\">\n",
              "    <g>\n",
              "        <path d=\"M19 3H5c-1.1 0-2 .9-2 2v14c0 1.1.9 2 2 2h14c1.1 0 2-.9 2-2V5c0-1.1-.9-2-2-2zM9 17H7v-7h2v7zm4 0h-2V7h2v10zm4 0h-2v-4h2v4z\"/>\n",
              "    </g>\n",
              "</svg>\n",
              "  </button>\n",
              "\n",
              "<style>\n",
              "  .colab-df-quickchart {\n",
              "      --bg-color: #E8F0FE;\n",
              "      --fill-color: #1967D2;\n",
              "      --hover-bg-color: #E2EBFA;\n",
              "      --hover-fill-color: #174EA6;\n",
              "      --disabled-fill-color: #AAA;\n",
              "      --disabled-bg-color: #DDD;\n",
              "  }\n",
              "\n",
              "  [theme=dark] .colab-df-quickchart {\n",
              "      --bg-color: #3B4455;\n",
              "      --fill-color: #D2E3FC;\n",
              "      --hover-bg-color: #434B5C;\n",
              "      --hover-fill-color: #FFFFFF;\n",
              "      --disabled-bg-color: #3B4455;\n",
              "      --disabled-fill-color: #666;\n",
              "  }\n",
              "\n",
              "  .colab-df-quickchart {\n",
              "    background-color: var(--bg-color);\n",
              "    border: none;\n",
              "    border-radius: 50%;\n",
              "    cursor: pointer;\n",
              "    display: none;\n",
              "    fill: var(--fill-color);\n",
              "    height: 32px;\n",
              "    padding: 0;\n",
              "    width: 32px;\n",
              "  }\n",
              "\n",
              "  .colab-df-quickchart:hover {\n",
              "    background-color: var(--hover-bg-color);\n",
              "    box-shadow: 0 1px 2px rgba(60, 64, 67, 0.3), 0 1px 3px 1px rgba(60, 64, 67, 0.15);\n",
              "    fill: var(--button-hover-fill-color);\n",
              "  }\n",
              "\n",
              "  .colab-df-quickchart-complete:disabled,\n",
              "  .colab-df-quickchart-complete:disabled:hover {\n",
              "    background-color: var(--disabled-bg-color);\n",
              "    fill: var(--disabled-fill-color);\n",
              "    box-shadow: none;\n",
              "  }\n",
              "\n",
              "  .colab-df-spinner {\n",
              "    border: 2px solid var(--fill-color);\n",
              "    border-color: transparent;\n",
              "    border-bottom-color: var(--fill-color);\n",
              "    animation:\n",
              "      spin 1s steps(1) infinite;\n",
              "  }\n",
              "\n",
              "  @keyframes spin {\n",
              "    0% {\n",
              "      border-color: transparent;\n",
              "      border-bottom-color: var(--fill-color);\n",
              "      border-left-color: var(--fill-color);\n",
              "    }\n",
              "    20% {\n",
              "      border-color: transparent;\n",
              "      border-left-color: var(--fill-color);\n",
              "      border-top-color: var(--fill-color);\n",
              "    }\n",
              "    30% {\n",
              "      border-color: transparent;\n",
              "      border-left-color: var(--fill-color);\n",
              "      border-top-color: var(--fill-color);\n",
              "      border-right-color: var(--fill-color);\n",
              "    }\n",
              "    40% {\n",
              "      border-color: transparent;\n",
              "      border-right-color: var(--fill-color);\n",
              "      border-top-color: var(--fill-color);\n",
              "    }\n",
              "    60% {\n",
              "      border-color: transparent;\n",
              "      border-right-color: var(--fill-color);\n",
              "    }\n",
              "    80% {\n",
              "      border-color: transparent;\n",
              "      border-right-color: var(--fill-color);\n",
              "      border-bottom-color: var(--fill-color);\n",
              "    }\n",
              "    90% {\n",
              "      border-color: transparent;\n",
              "      border-bottom-color: var(--fill-color);\n",
              "    }\n",
              "  }\n",
              "</style>\n",
              "\n",
              "  <script>\n",
              "    async function quickchart(key) {\n",
              "      const quickchartButtonEl =\n",
              "        document.querySelector('#' + key + ' button');\n",
              "      quickchartButtonEl.disabled = true;  // To prevent multiple clicks.\n",
              "      quickchartButtonEl.classList.add('colab-df-spinner');\n",
              "      try {\n",
              "        const charts = await google.colab.kernel.invokeFunction(\n",
              "            'suggestCharts', [key], {});\n",
              "      } catch (error) {\n",
              "        console.error('Error during call to suggestCharts:', error);\n",
              "      }\n",
              "      quickchartButtonEl.classList.remove('colab-df-spinner');\n",
              "      quickchartButtonEl.classList.add('colab-df-quickchart-complete');\n",
              "    }\n",
              "    (() => {\n",
              "      let quickchartButtonEl =\n",
              "        document.querySelector('#df-618eefa8-9a26-4afb-b036-399d6d02bf0c button');\n",
              "      quickchartButtonEl.style.display =\n",
              "        google.colab.kernel.accessAllowed ? 'block' : 'none';\n",
              "    })();\n",
              "  </script>\n",
              "</div>\n",
              "\n",
              "  <div id=\"id_5f3ccf98-94e4-4d08-85f1-52fe617dcddf\">\n",
              "    <style>\n",
              "      .colab-df-generate {\n",
              "        background-color: #E8F0FE;\n",
              "        border: none;\n",
              "        border-radius: 50%;\n",
              "        cursor: pointer;\n",
              "        display: none;\n",
              "        fill: #1967D2;\n",
              "        height: 32px;\n",
              "        padding: 0 0 0 0;\n",
              "        width: 32px;\n",
              "      }\n",
              "\n",
              "      .colab-df-generate:hover {\n",
              "        background-color: #E2EBFA;\n",
              "        box-shadow: 0px 1px 2px rgba(60, 64, 67, 0.3), 0px 1px 3px 1px rgba(60, 64, 67, 0.15);\n",
              "        fill: #174EA6;\n",
              "      }\n",
              "\n",
              "      [theme=dark] .colab-df-generate {\n",
              "        background-color: #3B4455;\n",
              "        fill: #D2E3FC;\n",
              "      }\n",
              "\n",
              "      [theme=dark] .colab-df-generate:hover {\n",
              "        background-color: #434B5C;\n",
              "        box-shadow: 0px 1px 3px 1px rgba(0, 0, 0, 0.15);\n",
              "        filter: drop-shadow(0px 1px 2px rgba(0, 0, 0, 0.3));\n",
              "        fill: #FFFFFF;\n",
              "      }\n",
              "    </style>\n",
              "    <button class=\"colab-df-generate\" onclick=\"generateWithVariable('new_df')\"\n",
              "            title=\"Generate code using this dataframe.\"\n",
              "            style=\"display:none;\">\n",
              "\n",
              "  <svg xmlns=\"http://www.w3.org/2000/svg\" height=\"24px\"viewBox=\"0 0 24 24\"\n",
              "       width=\"24px\">\n",
              "    <path d=\"M7,19H8.4L18.45,9,17,7.55,7,17.6ZM5,21V16.75L18.45,3.32a2,2,0,0,1,2.83,0l1.4,1.43a1.91,1.91,0,0,1,.58,1.4,1.91,1.91,0,0,1-.58,1.4L9.25,21ZM18.45,9,17,7.55Zm-12,3A5.31,5.31,0,0,0,4.9,8.1,5.31,5.31,0,0,0,1,6.5,5.31,5.31,0,0,0,4.9,4.9,5.31,5.31,0,0,0,6.5,1,5.31,5.31,0,0,0,8.1,4.9,5.31,5.31,0,0,0,12,6.5,5.46,5.46,0,0,0,6.5,12Z\"/>\n",
              "  </svg>\n",
              "    </button>\n",
              "    <script>\n",
              "      (() => {\n",
              "      const buttonEl =\n",
              "        document.querySelector('#id_5f3ccf98-94e4-4d08-85f1-52fe617dcddf button.colab-df-generate');\n",
              "      buttonEl.style.display =\n",
              "        google.colab.kernel.accessAllowed ? 'block' : 'none';\n",
              "\n",
              "      buttonEl.onclick = () => {\n",
              "        google.colab.notebook.generateWithVariable('new_df');\n",
              "      }\n",
              "      })();\n",
              "    </script>\n",
              "  </div>\n",
              "\n",
              "    </div>\n",
              "  </div>\n"
            ],
            "text/plain": [
              "       satisfactoryLevel  lastEvaluation  numberOfProjects  avgMonthlyHours  \\\n",
              "0                   0.38            0.53                 2              157   \n",
              "3                   0.37            0.52                 2              159   \n",
              "4                   0.41            0.50                 2              153   \n",
              "7                   0.42            0.53                 2              142   \n",
              "8                   0.45            0.54                 2              135   \n",
              "...                  ...             ...               ...              ...   \n",
              "14970               0.43            0.48                 2              135   \n",
              "14971               0.42            0.48                 2              143   \n",
              "14979               0.37            0.46                 2              149   \n",
              "14988               0.43            0.57                 2              157   \n",
              "14997               0.24            0.91                 5              177   \n",
              "\n",
              "       timeSpent.company  workAccident  left  promotionInLast5years  \\\n",
              "0                      3             0     1                      0   \n",
              "3                      3             0     1                      0   \n",
              "4                      3             0     1                      0   \n",
              "7                      3             0     1                      0   \n",
              "8                      3             0     1                      0   \n",
              "...                  ...           ...   ...                    ...   \n",
              "14970                  3             0     1                      0   \n",
              "14971                  3             0     1                      0   \n",
              "14979                  3             0     1                      0   \n",
              "14988                  3             0     1                      0   \n",
              "14997                  5             0     0                      0   \n",
              "\n",
              "            dept  salary  \n",
              "0          sales     low  \n",
              "3          sales     low  \n",
              "4          sales     low  \n",
              "7          sales     low  \n",
              "8          sales     low  \n",
              "...          ...     ...  \n",
              "14970      sales  medium  \n",
              "14971      sales     low  \n",
              "14979  marketing    high  \n",
              "14988      sales     low  \n",
              "14997      sales     low  \n",
              "\n",
              "[2221 rows x 10 columns]"
            ]
          },
          "execution_count": 16,
          "metadata": {},
          "output_type": "execute_result"
        }
      ],
      "source": [
        "new_df"
      ]
    },
    {
      "cell_type": "markdown",
      "metadata": {
        "id": "oVWuHEVVdqf7"
      },
      "source": [
        "Formulation of Alternate and Null hypothesis\n",
        "\n",
        "*Null Hypothesis:Average Monthly hours of people having 2 years of experience and more than 2 years of experience  is exactly the same.\n",
        "*  Alternate Hypothesis:Average Monthly working hours of people having 2 years of experience and more than 2 years of experience is not the same.\n",
        "\n"
      ]
    },
    {
      "cell_type": "markdown",
      "metadata": {
        "id": "_A08ZViagUZw"
      },
      "source": [
        "Samples"
      ]
    },
    {
      "cell_type": "code",
      "execution_count": null,
      "metadata": {
        "id": "ImMa74VEdnB-"
      },
      "outputs": [],
      "source": [
        "sample_df=new_df.sample(100,random_state=0)"
      ]
    },
    {
      "cell_type": "markdown",
      "metadata": {
        "id": "2J4uwg5Ag8SJ"
      },
      "source": [
        "\n",
        "\n",
        "*   Implement the test(Test_1samp)\n",
        "*   \n",
        "\n"
      ]
    },
    {
      "cell_type": "code",
      "execution_count": null,
      "metadata": {
        "id": "YIcdgKG8iWJF"
      },
      "outputs": [],
      "source": [
        "from scipy.stats import ttest_1samp"
      ]
    },
    {
      "cell_type": "code",
      "execution_count": null,
      "metadata": {
        "id": "HoU1q9RLgvbL"
      },
      "outputs": [],
      "source": [
        "_,p_value=ttest_1samp(sample_df['avgMonthlyHours'],proposed_mean)"
      ]
    },
    {
      "cell_type": "code",
      "execution_count": null,
      "metadata": {
        "id": "IUhjeNd1kzXj"
      },
      "outputs": [],
      "source": [
        "#conclusion"
      ]
    },
    {
      "cell_type": "code",
      "execution_count": null,
      "metadata": {
        "colab": {
          "base_uri": "https://localhost:8080/"
        },
        "id": "vov6ArGlk4b8",
        "outputId": "5cf78a5c-8986-4cd7-fe12-e5a980702945"
      },
      "outputs": [
        {
          "name": "stdout",
          "output_type": "stream",
          "text": [
            "Failed to accept the null hypothesis :Average Monthly working hours of people having 2 years of experience and more than 2 years of experience is not the same.\n"
          ]
        }
      ],
      "source": [
        "if p_value>0.05:\n",
        "  print('we can conclude that Average Monthly hours of people having 2 years of experience and more than 2 years of experience  is exactly the same.')\n",
        "else:\n",
        "  print('Failed to accept the null hypothesis :Average Monthly working hours of people having 2 years of experience and more than 2 years of experience is not the same.')\n",
        "\n"
      ]
    },
    {
      "cell_type": "markdown",
      "metadata": {
        "id": "mHumzNuGMltt"
      },
      "source": [
        "# The Percentage of employee leaving the company is 3% having experience of 2 years.Is it same for employees having more than 2 years experience?"
      ]
    },
    {
      "cell_type": "markdown",
      "metadata": {
        "id": "WQcqPpmXOAY3"
      },
      "source": [
        "Condition:Satisfactory level of a employee is from 0 - 0.5 and average monthly hours is from 130-200."
      ]
    },
    {
      "cell_type": "code",
      "execution_count": null,
      "metadata": {
        "id": "1Vy0J3zHLYTP"
      },
      "outputs": [],
      "source": [
        "#FORMULATION  OF HYPOTHESIS\n",
        "#"
      ]
    },
    {
      "cell_type": "markdown",
      "metadata": {
        "id": "Urqu5igrPRnU"
      },
      "source": [
        "\n",
        "\n",
        "\n",
        "\n",
        "*  ** NULL HYPOTHESIS:H0:%OF EMPLOYEES  LEAVING THE COMPANY IS THE SAME FOR EMPLOYEE WITH 2 YEARS OF EXPERIENCE AND MORE THAN 2 YEARS EXERIENCE. **\n",
        "*   **ALTERNATE HYPOTHESIS:%OF EMPLOYEES  LEAVING THE COMPANY IS  NOT THE SAME FOR EMPLOYEE WITH 2 YEARS OF EXPERIENCE AND MORE THAN 2 YEARS EXERIENCE**\n",
        "\n"
      ]
    },
    {
      "cell_type": "markdown",
      "metadata": {
        "id": "-Pt3G-HTROFy"
      },
      "source": [
        "sample out of data"
      ]
    },
    {
      "cell_type": "code",
      "execution_count": null,
      "metadata": {
        "id": "SAejc9qQQKMJ"
      },
      "outputs": [],
      "source": [
        "sample_df=new_df.sample(100,random_state=0)\n"
      ]
    },
    {
      "cell_type": "code",
      "execution_count": null,
      "metadata": {
        "colab": {
          "base_uri": "https://localhost:8080/"
        },
        "id": "D90wXT2gSaQk",
        "outputId": "cf494fcf-700b-4e79-fcaf-c1555b7cead9"
      },
      "outputs": [
        {
          "data": {
            "text/plain": [
              "left\n",
              "1    64\n",
              "0    36\n",
              "Name: count, dtype: int64"
            ]
          },
          "execution_count": 27,
          "metadata": {},
          "output_type": "execute_result"
        }
      ],
      "source": [
        "sample_df['left'].value_counts()"
      ]
    },
    {
      "cell_type": "code",
      "execution_count": null,
      "metadata": {
        "id": "tnnHw-IXS-6Y"
      },
      "outputs": [],
      "source": [
        "nobs=len(sample_df['left'])"
      ]
    },
    {
      "cell_type": "markdown",
      "metadata": {
        "id": "a7hmjGBuURV7"
      },
      "source": [
        "Proportion"
      ]
    },
    {
      "cell_type": "code",
      "execution_count": null,
      "metadata": {
        "id": "6ZUzPWQiT7KQ"
      },
      "outputs": [],
      "source": [
        "proposed_proportion=0.03"
      ]
    },
    {
      "cell_type": "markdown",
      "metadata": {
        "id": "mG0eeYquVF01"
      },
      "source": [
        "Manual Approach"
      ]
    },
    {
      "cell_type": "code",
      "execution_count": null,
      "metadata": {
        "id": "7TYGl2Y9Uz7e"
      },
      "outputs": [],
      "source": [
        "count=sample_df['left'].value_counts()/nobs\n",
        "\n"
      ]
    },
    {
      "cell_type": "markdown",
      "metadata": {
        "id": "l_oJxJ5jcFv8"
      },
      "source": [
        "Implementation"
      ]
    },
    {
      "cell_type": "code",
      "execution_count": null,
      "metadata": {
        "colab": {
          "base_uri": "https://localhost:8080/"
        },
        "id": "_wgknt73UjMr",
        "outputId": "7c4b92b7-35ab-49b5-a578-99db05147ea5"
      },
      "outputs": [
        {
          "name": "stdout",
          "output_type": "stream",
          "text": [
            "% OF EMPLOYEES LEAVING THE COMPANY IS NOT THE SAME FOR EMPLOYEE WITH 2 YEARS OF EXPERIENCE AND MORE THAN 2 YEARS EXERIENCE\n"
          ]
        }
      ],
      "source": [
        "from statsmodels.stats.proportion import proportions_ztest\n",
        "stats,p_value=proportions_ztest(count,nobs,proposed_proportion,alternative=\"two-sided\")\n",
        "\n",
        "if p_value>0.05:\n",
        "  print('%OF EMPLOYEES LEAVING THE COMPANY IS THE SAME FOR EMPLOYEE WITH 2 YEARS OF EXPERIENCE AND MORE THAN 2 YEARS EXERIENCE. ')\n",
        "else:\n",
        "  print('We failed to accept the null hypothesis i.e % OF EMPLOYEES LEAVING THE COMPANY IS NOT THE SAME FOR EMPLOYEE WITH 2 YEARS OF EXPERIENCE AND MORE THAN 2 YEARS EXERIENCE')\n"
      ]
    },
    {
      "cell_type": "markdown",
      "metadata": {
        "id": "juPD1qw0wTCq"
      },
      "source": [
        "# Is the mean average monthly hours of an employee having experience 2 to 5 years is the same as that of an employee having exp 6 to 10 years."
      ]
    },
    {
      "cell_type": "markdown",
      "metadata": {
        "id": "ahHr7eD5OZWD"
      },
      "source": [
        "Formulation of Hypothesis * Null Hypothesis:Mean Avg monthly hours of employee having experienceof 2 to 5 years is same as that of employee having experince 6 to 10 years.\n",
        "\n",
        "Null Hypothesis:Mean Avg monthly hours of employee having experienceof 2 to 5 years is same as that of employee having experince 6 to 10 years.\n",
        "** Alternate Hypothesis** :Mean Avg monthly hours of employee having experienceof 2 to 5 years is not the same as that of employee having experince 6 to 10 years."
      ]
    },
    {
      "cell_type": "markdown",
      "metadata": {
        "id": "P7oiSwJTOeTC"
      },
      "source": [
        "**Grab the data**"
      ]
    },
    {
      "cell_type": "code",
      "execution_count": null,
      "metadata": {
        "colab": {
          "background_save": true
        },
        "id": "aFbAhSIDu9aQ"
      },
      "outputs": [],
      "source": [
        "new_df1=df3[(df3['timeSpent.company']>=2) &((df3['timeSpent.company']<=5))]\n",
        "new_df2=df3[(df3['timeSpent.company']>=6) &((df3['timeSpent.company']<=10))]\n"
      ]
    },
    {
      "cell_type": "markdown",
      "metadata": {
        "id": "L6IvNN3NOoSi"
      },
      "source": [
        "**Sampling**"
      ]
    },
    {
      "cell_type": "code",
      "execution_count": null,
      "metadata": {
        "colab": {
          "background_save": true
        },
        "id": "Kfr-VhdDOpWa"
      },
      "outputs": [],
      "source": [
        "sample1=new_df1.sample(200,random_state=0)\n",
        "sample2=new_df2.sample(200,random_state=0)\n"
      ]
    },
    {
      "cell_type": "markdown",
      "metadata": {
        "id": "JSmTAjwCPJIy"
      },
      "source": [
        "**Implement the test**"
      ]
    },
    {
      "cell_type": "code",
      "execution_count": null,
      "metadata": {
        "colab": {
          "background_save": true
        },
        "id": "obBi2aV6PGA_"
      },
      "outputs": [],
      "source": [
        "from scipy.stats import ttest_ind"
      ]
    },
    {
      "cell_type": "code",
      "execution_count": null,
      "metadata": {
        "colab": {
          "background_save": true
        },
        "id": "mPHDsQUCPRZY"
      },
      "outputs": [],
      "source": [
        "stats,p_value=ttest_ind(sample1['avgMonthlyHours'],sample2['avgMonthlyHours'])"
      ]
    },
    {
      "cell_type": "markdown",
      "metadata": {
        "id": "GbWECux7aQqT"
      },
      "source": [
        "**Conclusion**"
      ]
    },
    {
      "cell_type": "code",
      "execution_count": null,
      "metadata": {
        "colab": {
          "base_uri": "https://localhost:8080/"
        },
        "id": "N4aLNt-8aOrz",
        "outputId": "b7e3d7d8-ec06-43a4-9253-469b63d48495"
      },
      "outputs": [
        {
          "name": "stdout",
          "output_type": "stream",
          "text": [
            "Mean Avg monthly hours of employee having experienceof 2 to 5 years is not the same as that of employee having experince 6 to 10 years. \n"
          ]
        }
      ],
      "source": [
        "\n",
        "if p_value>0.05:\n",
        "  print('We can conclude that Mean Avg monthly hours of employee having experienceof 2 to 5 years is same as that of employee having experince 6 to 10 years. ')\n",
        "else:\n",
        "  print('Mean Avg monthly hours of employee having experienceof 2 to 5 years is not the same as that of employee having experince 6 to 10 years. ')"
      ]
    },
    {
      "cell_type": "markdown",
      "metadata": {
        "id": "m0veeenZb9FN"
      },
      "source": [
        "Using the F test for the same problem"
      ]
    },
    {
      "cell_type": "markdown",
      "metadata": {
        "id": "KLSqXUUVcQOv"
      },
      "source": [
        "**F test for variance is used to testif the variance of two population are equal or not.**"
      ]
    },
    {
      "cell_type": "markdown",
      "metadata": {
        "id": "Y4nMMYPgdzoS"
      },
      "source": [
        "**Sample Variance**"
      ]
    },
    {
      "cell_type": "code",
      "execution_count": null,
      "metadata": {
        "id": "sFf7DEcRbqk6"
      },
      "outputs": [],
      "source": [
        "var1=sample1['avgMonthlyHours'].var()\n",
        "var2=sample2['avgMonthlyHours'].var()"
      ]
    },
    {
      "cell_type": "markdown",
      "metadata": {
        "id": "yFzsOwi3fvda"
      },
      "source": [
        "F statistics"
      ]
    },
    {
      "cell_type": "code",
      "execution_count": null,
      "metadata": {
        "id": "XEtTeIlwfgKC"
      },
      "outputs": [],
      "source": [
        "from scipy.stats import f\n",
        "F=var1/var2"
      ]
    },
    {
      "cell_type": "code",
      "execution_count": null,
      "metadata": {
        "colab": {
          "base_uri": "https://localhost:8080/"
        },
        "id": "NERaAKkngBdI",
        "outputId": "0e8a6133-2321-4cbc-cb2a-28f430b2599d"
      },
      "outputs": [
        {
          "name": "stdout",
          "output_type": "stream",
          "text": [
            "F-stats0.9510146318634557\n"
          ]
        }
      ],
      "source": [
        "print(f'F-stats{F}')"
      ]
    },
    {
      "cell_type": "markdown",
      "metadata": {
        "id": "PoShjajTm2Mh"
      },
      "source": [
        "![image.png](data:image/png;base64,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)"
      ]
    },
    {
      "cell_type": "markdown",
      "metadata": {
        "id": "J9OwEesuhm2n"
      },
      "source": [
        "Degrees of freedom"
      ]
    },
    {
      "cell_type": "code",
      "execution_count": null,
      "metadata": {
        "id": "7VIKeKLJgfpd"
      },
      "outputs": [],
      "source": [
        "dof1=len(sample1)-1\n",
        "dof2=len(sample2)-2"
      ]
    },
    {
      "cell_type": "markdown",
      "metadata": {
        "id": "Ltdi3AkBojml"
      },
      "source": [
        "**Implementation**"
      ]
    },
    {
      "cell_type": "code",
      "execution_count": null,
      "metadata": {
        "id": "_bsYvPJEomf9"
      },
      "outputs": [],
      "source": [
        "from scipy.stats import f"
      ]
    },
    {
      "cell_type": "code",
      "execution_count": null,
      "metadata": {
        "colab": {
          "base_uri": "https://localhost:8080/"
        },
        "id": "LLDEsAc-pFWq",
        "outputId": "9d73e6a8-cc2d-4e4e-ad63-ed390f7e4a25"
      },
      "outputs": [
        {
          "data": {
            "text/plain": [
              "0.7752965573418765"
            ]
          },
          "execution_count": 25,
          "metadata": {},
          "output_type": "execute_result"
        }
      ],
      "source": [
        "f.cdf(F,dof1,dof2)"
      ]
    },
    {
      "cell_type": "markdown",
      "metadata": {
        "id": "YY8-AjIgdeOi"
      },
      "source": [
        "Question for two tailed t test:We are working in a biscuit company.The weight of each biscuit is 10gm on an average.Now,one day employee notices the difference in weights of few biscuits and report to the quality assurance department.Now ,takingthis thing on a note,QA department conducts a test.Here they have taken a sample ,now they want to find out whether the average weight of the sample taken is same as population or not.\n",
        "\n",
        "\n",
        "\n",
        "*  NUll hypothesis:The average weightis 10 grams\n",
        "*  Alternate Hypotheisis:The average weightisnot 10gms\n",
        "\n"
      ]
    },
    {
      "cell_type": "code",
      "execution_count": null,
      "metadata": {
        "id": "5BRNVlrJprqY"
      },
      "outputs": [],
      "source": [
        "import numpy  as np\n",
        "from scipy import stats\n",
        "#Population Size\n",
        "n=100\n",
        "#Population mean\n",
        "mu=10\n",
        "#standard deviation\n",
        "sigma=5\n",
        "#sample data\n",
        "sample=np.random.normal(mu,sigma,30)"
      ]
    },
    {
      "cell_type": "code",
      "execution_count": null,
      "metadata": {
        "colab": {
          "base_uri": "https://localhost:8080/"
        },
        "id": "CyZRSd0ak3Hq",
        "outputId": "dba5413b-e78f-41fc-d4ba-68a9c28b8cfb"
      },
      "outputs": [
        {
          "data": {
            "text/plain": [
              "array([15.87271257, 12.44293144, -2.00660815,  9.02786972,  3.65404889,\n",
              "        2.5460017 , 10.05319953,  9.34904727,  4.57340727,  6.80575351,\n",
              "       10.21772699,  6.99891165, 14.19177754, 14.22343847,  5.50824191,\n",
              "        1.41686873,  7.057633  , 13.47614386,  4.52484247,  9.02259662,\n",
              "        9.67131681, 14.05847798, 11.45200549,  9.5053075 ,  1.75548829,\n",
              "        6.20023155,  7.23431636, 10.70273489,  9.08612262,  3.52890767])"
            ]
          },
          "execution_count": 2,
          "metadata": {},
          "output_type": "execute_result"
        }
      ],
      "source": [
        "sample"
      ]
    },
    {
      "cell_type": "code",
      "execution_count": null,
      "metadata": {
        "colab": {
          "base_uri": "https://localhost:8080/"
        },
        "id": "yMOY5Dpwdt0g",
        "outputId": "5a3d58e4-d05e-463a-bb13-dc6ff0f06610"
      },
      "outputs": [
        {
          "name": "stdout",
          "output_type": "stream",
          "text": [
            "Failed to reject the null hypothesis.There is not enough evidence to conclude the average weight of the sample is different fromn the population mean\n",
            "Here are the parameter results:,end=\n",
            "Population_Mean:10, \n",
            "standard deviation:5 , Sample Mean10.913803358297477 , T test value 0.2317313344051666  P_value0.8183740929912939 , Level of significance0.05\n"
          ]
        }
      ],
      "source": [
        "#NULL hypothesis:THe average weiht of the sample is the same as the population mean\n",
        "#Alternate hypothesis:The average weight of the sample  is different from the population mean.(two tailed)\n",
        "#Perform two tailed t test\n",
        "import numpy  as np\n",
        "from scipy import stats\n",
        "#Population Size\n",
        "n=100\n",
        "#Population mean\n",
        "mu=10\n",
        "#standard deviation\n",
        "sigma=5\n",
        "#sample data\n",
        "sample=np.random.normal(mu,sigma,30)\n",
        "t_statistic,p_value=stats.ttest_ind(sample,mu,alternative='two-sided')\n",
        "\n",
        "#significance level\n",
        "alpha=0.05\n",
        "#Decision\n",
        "if p_value<0.05:\n",
        "  print('Reject the null hypothesis.The average weight of the sample is statistically different from the population mean')\n",
        "\n",
        "else:\n",
        "  print('Failed to reject the null hypothesis.There is not enough evidence to conclude the average weight of the sample is different fromn the population mean')\n",
        "\n",
        "\n",
        "print('Here are the parameter results:,end=')\n",
        "#print(f\"Population_Mean:{mu}\", f\"\\nstandard deviation:{sigma}\",f\"Sample Mean{sample.mean()}\" ,f\"T test value\" {t_statistic} \" P_value\"{p_value}\", \"Level of significance{alpha}\" )\n",
        "print(f\"Population_Mean:{mu}, \\nstandard deviation:{sigma} , Sample Mean{sample.mean()} , T test value {t_statistic}  P_value{p_value} , Level of significance{alpha}\" )"
      ]
    }
  ],
  "metadata": {
    "colab": {
      "provenance": []
    },
    "kernelspec": {
      "display_name": "Python 3",
      "name": "python3"
    },
    "language_info": {
      "name": "python"
    }
  },
  "nbformat": 4,
  "nbformat_minor": 0
}