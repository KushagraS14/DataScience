{
  "nbformat": 4,
  "nbformat_minor": 0,
  "metadata": {
    "colab": {
      "provenance": []
    },
    "kernelspec": {
      "name": "python3",
      "display_name": "Python 3"
    },
    "language_info": {
      "name": "python"
    }
  },
  "cells": [
    {
      "cell_type": "code",
      "execution_count": null,
      "metadata": {
        "id": "VKTetMru3wKK"
      },
      "outputs": [],
      "source": [
        "#classes:It is like the blueprint of anything .It has attributes and Behaviours\n",
        "#objects:It is the instance of classes.It is the real life implementation of anything or the copy of class"
      ]
    },
    {
      "cell_type": "code",
      "source": [
        "\n"
      ],
      "metadata": {
        "id": "SD7HV-P04XKA"
      },
      "execution_count": null,
      "outputs": []
    },
    {
      "cell_type": "markdown",
      "source": [
        "#Abstraction"
      ],
      "metadata": {
        "id": "rFRgFsn819Cy"
      }
    },
    {
      "cell_type": "code",
      "source": [
        "#it is the technique of hiding the complexities and  exposing only the essential  details to the end users\n",
        "#it is the imaginary class or just a mere imagination that cant have a object of its own ,you need to inherit those classes into another real class.\n",
        "#Moreover this class can have abstract methods or the normal methods\n",
        "#abstact methods : this class doesn't have its implementation of its own.the Behaviour of the class is given in derived class.\n",
        "\n"
      ],
      "metadata": {
        "id": "gVuPCafC1_QZ"
      },
      "execution_count": null,
      "outputs": []
    },
    {
      "cell_type": "code",
      "source": [
        "from abc import ABC ,abstractmethod\n",
        "class Animal(ABC):\n",
        "  @abstractmethod\n",
        "  def sound(self):                       #inherit ABC  in abstraction\n",
        "    pass\n",
        "  #NORMAL METHOD\n",
        "  def info(self):\n",
        "    return f'This is the animal class'\n",
        "\n"
      ],
      "metadata": {
        "id": "GfZb7Y6B3F9i"
      },
      "execution_count": null,
      "outputs": []
    },
    {
      "cell_type": "code",
      "source": [
        "#constructor is something that is created automatically once you create object of class\n",
        "#in order to utilise this base class you need to inherit it properly\n",
        "#abc is abstract based class\n",
        "#IN ORDER TO INHERIT ABC,YOU NEED TO INHERIT THIS CLASS  ABC AS ABSTRACT\n",
        "#ABSTRACT CLASS BECAUSE WE HAVE INHERITED ABC AS ABSTRACT\n",
        "#WHEN YOU ARE CREATING THE ABSTRACT METHOD YOU NEED TO MENTION IT EXPLICITLY THAT THIS IS A ABSTRACT METHOD\n",
        "class Dog(Animal):\n",
        "  def sound(self):\n",
        "    return f'this is the sound of dog'\n",
        "\n",
        "\n"
      ],
      "metadata": {
        "id": "7i-F1stuBln3"
      },
      "execution_count": null,
      "outputs": []
    },
    {
      "cell_type": "code",
      "source": [
        "obj=Dog()\n",
        "obj.sound()\n",
        "obj.info()"
      ],
      "metadata": {
        "colab": {
          "base_uri": "https://localhost:8080/",
          "height": 35
        },
        "id": "QVQXD3Z3HWKa",
        "outputId": "770d7723-d72f-42a9-e76e-76a45bca58da"
      },
      "execution_count": null,
      "outputs": [
        {
          "output_type": "execute_result",
          "data": {
            "text/plain": [
              "'This is the animal class'"
            ],
            "application/vnd.google.colaboratory.intrinsic+json": {
              "type": "string"
            }
          },
          "metadata": {},
          "execution_count": 4
        }
      ]
    },
    {
      "cell_type": "code",
      "source": [
        "from abc import ABC,abstractmethod\n",
        "\n",
        "class SoftwareSolutions(ABC):\n",
        "    @abstractmethod\n",
        "    def onclickpayment(self):\n",
        "      pass\n",
        "    @abstractmethod\n",
        "    def onpaymentgateway(self):                                                  #abstract class is hidden to the end users  they can't see it\n",
        "                                                                                 #the class is imaginary class  doesn't exist\n",
        "      pass\n",
        "\n",
        "\n"
      ],
      "metadata": {
        "id": "4edF-7VuHsFs"
      },
      "execution_count": null,
      "outputs": []
    },
    {
      "cell_type": "code",
      "source": [
        "def factor(N):\n",
        "  fact=1\n",
        "  for i in range(1,N+1):\n",
        "    fact=fact*i\n",
        "  return fact"
      ],
      "metadata": {
        "id": "ooHkLL1Dgmkc"
      },
      "execution_count": null,
      "outputs": []
    },
    {
      "cell_type": "code",
      "source": [
        "ans=factor(5)\n",
        "ans"
      ],
      "metadata": {
        "colab": {
          "base_uri": "https://localhost:8080/"
        },
        "id": "AxknlvzCkgYi",
        "outputId": "0aa99cf8-db13-479d-a6d2-b400755cfc9c"
      },
      "execution_count": null,
      "outputs": [
        {
          "output_type": "execute_result",
          "data": {
            "text/plain": [
              "120"
            ]
          },
          "metadata": {},
          "execution_count": 9
        }
      ]
    },
    {
      "cell_type": "code",
      "source": [
        "def check_string():\n",
        "  p=input('Enter the string name')\n",
        "  p=p.lower()\n",
        "  for i in range(0,len(p)+1):\n",
        "    if (p[i]=='s'):\n",
        "      print('the string is containing the letter s')\n",
        "      print(len(p))\n",
        "      break\n",
        "  else:\n",
        "    print('the string doesnt contain the letter s')\n",
        "\n",
        "\n"
      ],
      "metadata": {
        "id": "J3iyqfrLkxr_"
      },
      "execution_count": null,
      "outputs": []
    },
    {
      "cell_type": "code",
      "source": [
        "check_string()"
      ],
      "metadata": {
        "colab": {
          "base_uri": "https://localhost:8080/"
        },
        "id": "xtwLRbUCpiLM",
        "outputId": "ba8845ec-895b-4849-c541-3b1eab7f9938"
      },
      "execution_count": null,
      "outputs": [
        {
          "output_type": "stream",
          "name": "stdout",
          "text": [
            "Enter the string namehandsome\n",
            "the string is containing the letter s\n",
            "8\n"
          ]
        }
      ]
    },
    {
      "cell_type": "code",
      "source": [
        "class Student:\n",
        "  def func1(self):\n",
        "    self.f=input(\"Enter your query\")\n",
        "    self.f=self.f.lower()\n",
        "    return self.f\n",
        "\n",
        "  def message(self):\n",
        "    print(self.f)"
      ],
      "metadata": {
        "id": "p7Ekxgf2S0jB"
      },
      "execution_count": null,
      "outputs": []
    },
    {
      "cell_type": "code",
      "source": [
        "y=Student()\n",
        "r=y.func1()\n",
        "y.message()"
      ],
      "metadata": {
        "colab": {
          "base_uri": "https://localhost:8080/"
        },
        "id": "X10jO6vDT_aA",
        "outputId": "4a02a748-1b11-413d-de4a-4ecc56f73a68"
      },
      "execution_count": null,
      "outputs": [
        {
          "output_type": "stream",
          "name": "stdout",
          "text": [
            "Enter your queryso what were you doing\n",
            "so what were you doing\n"
          ]
        }
      ]
    },
    {
      "cell_type": "code",
      "source": [
        "double_num=lambda x:x*2\n",
        "print(double_num(5))"
      ],
      "metadata": {
        "colab": {
          "base_uri": "https://localhost:8080/"
        },
        "id": "qPR3ZErSUYGA",
        "outputId": "9095823d-7904-4d95-d129-39a45bce19b3"
      },
      "execution_count": null,
      "outputs": [
        {
          "output_type": "stream",
          "name": "stdout",
          "text": [
            "10\n"
          ]
        }
      ]
    },
    {
      "cell_type": "code",
      "source": [
        "def palindrome():\n",
        "  x=input('Enter the string')\n",
        "  x=x.lower()\n",
        "  f=x[::-1]\n",
        "  if(x==f):\n",
        "    print('the string is palindrome')\n",
        "  else:\n",
        "    print('The string is not a palindrome string')\n"
      ],
      "metadata": {
        "id": "gYfP5EXEXs1_"
      },
      "execution_count": null,
      "outputs": []
    },
    {
      "cell_type": "code",
      "source": [
        "palindrome()"
      ],
      "metadata": {
        "colab": {
          "base_uri": "https://localhost:8080/"
        },
        "id": "di0bLKmAbOBn",
        "outputId": "a235452a-6c4d-43fc-ce52-09cde913b478"
      },
      "execution_count": null,
      "outputs": [
        {
          "output_type": "stream",
          "name": "stdout",
          "text": [
            "Enter the stringRadar\n",
            "the string is palindrome\n"
          ]
        }
      ]
    },
    {
      "cell_type": "code",
      "source": [
        "class Super():\n",
        "  def fun1(self):\n",
        "    print('This is fun1 in the super class')\n",
        "\n",
        "\n",
        "\n",
        "\n",
        "\n",
        "\n",
        "\n",
        "\n",
        "\n",
        "\n",
        "\n",
        "\n",
        "class Modified_Super(Super):\n",
        "\n",
        "  def fun1(self):\n",
        "    print('This is fun1 in the modified super class')\n",
        "\n",
        "  def fun2(self):\n",
        "    print('This is the 2nd function in the modified Super class')\n",
        "\n"
      ],
      "metadata": {
        "id": "fHEBJNO3bfzf"
      },
      "execution_count": null,
      "outputs": []
    },
    {
      "cell_type": "code",
      "source": [
        "class Shape():\n",
        "  def area():\n",
        "    pass\n",
        "\n",
        "\n",
        "\n",
        "class Rectangle(Shape):\n",
        "  def __init__(self):\n",
        "    self.length=int(input('enter the length of rectangle'))\n",
        "    self.breadth=int(input('enter breadth of rectangle'))\n",
        "  def area(self):\n",
        "    area=self.length*self.breadth\n",
        "    return area\n"
      ],
      "metadata": {
        "id": "yp9juvzLq7-c"
      },
      "execution_count": null,
      "outputs": []
    },
    {
      "cell_type": "code",
      "source": [
        "r=Rectangle()\n",
        "f=r.area()\n",
        "print(f)"
      ],
      "metadata": {
        "colab": {
          "base_uri": "https://localhost:8080/"
        },
        "id": "fayhywwDsFD3",
        "outputId": "3884e33f-aee3-4b55-c061-694aeb038ba8"
      },
      "execution_count": null,
      "outputs": [
        {
          "output_type": "stream",
          "name": "stdout",
          "text": [
            "enter the length of rectangle4\n",
            "enter breadth of rectangle5\n",
            "20\n",
            "None\n"
          ]
        }
      ]
    },
    {
      "cell_type": "code",
      "source": [
        "class Person:\n",
        "  def __init__(self):\n",
        "    self.name=input(\"Enter your name\")\n",
        "\n",
        "\n",
        "class Address:\n",
        "  def __init__(self):\n",
        "    self.address=input(\"enter your address\")\n",
        "\n",
        "\n",
        "class Contact(Person,Address):\n",
        "  def __init__(self):\n",
        "    Person.__init__(self)\n",
        "    Address.__init(self)\n",
        "    self.email=input(\"enter your email\")\n",
        "\n",
        "\n"
      ],
      "metadata": {
        "id": "Em7xghsly4X7"
      },
      "execution_count": null,
      "outputs": []
    },
    {
      "cell_type": "code",
      "source": [
        "class Student:\n",
        "\n",
        "  def __init__(self,student_ID,name,Marks):\n",
        "    self.Student_ID=student_ID\n",
        "    self.name=name\n",
        "    self.Marks=Marks\n",
        "  def get_average(self):\n",
        "    if not self.Marks:\n",
        "      return 0\n",
        "\n",
        "    else :\n",
        "      return sum(self.Marks)/len(self.Marks)\n",
        "\n",
        "  def __str__(self):\n",
        "    return f\"The name of the student: {self.name} \\n StudentId:{self.Student_ID} \\n Marks:{self.Marks}\\n average_marks:{self.get_average()}\"\n",
        "\n",
        "\n",
        "\n",
        "\n",
        "\n",
        "\n",
        "\n",
        "\n",
        "\n"
      ],
      "metadata": {
        "id": "7_W4--zl8YU1"
      },
      "execution_count": null,
      "outputs": []
    },
    {
      "cell_type": "code",
      "source": [
        "\n",
        "class StudentManagementSystem():\n",
        "  def __init__(self):\n",
        "    self.studentList=[]\n",
        "\n",
        "  def add_student(self,Student_ID,name,marks):\n",
        "    objofstudent=Student(Student_ID,name,marks)\n",
        "    self.studentList.append(objofstudent)\n",
        "\n",
        "\n",
        "  def display_students(self):\n",
        "    for x in self.studentList:\n",
        "      print(x)\n",
        "      print('==============')\n",
        "\n",
        "\n",
        "\n"
      ],
      "metadata": {
        "id": "YlWtC5deEcDs"
      },
      "execution_count": null,
      "outputs": []
    },
    {
      "cell_type": "code",
      "source": [
        "SMS=StudentManagementSystem()\n",
        "\n",
        "SMS.add_student(1,'kushagra',[95,99,100])\n",
        "SMS.add_student(2,'Mohit',[93,96,84])"
      ],
      "metadata": {
        "id": "npleQNa0HfCi"
      },
      "execution_count": null,
      "outputs": []
    },
    {
      "cell_type": "code",
      "source": [
        "SMS.display_students()"
      ],
      "metadata": {
        "colab": {
          "base_uri": "https://localhost:8080/"
        },
        "id": "W1SM6ZyoH6BV",
        "outputId": "c413cd36-5bf5-40dc-c048-aebb608ef8e4"
      },
      "execution_count": null,
      "outputs": [
        {
          "output_type": "stream",
          "name": "stdout",
          "text": [
            "The name of the student: kushagra \n",
            " StudentId:1 \n",
            " Marks:[95, 99, 100]\n",
            " average_marks:98.0\n",
            "==============\n",
            "The name of the student: Mohit \n",
            " StudentId:2 \n",
            " Marks:[93, 96, 84]\n",
            " average_marks:91.0\n",
            "==============\n"
          ]
        }
      ]
    }
  ]
}