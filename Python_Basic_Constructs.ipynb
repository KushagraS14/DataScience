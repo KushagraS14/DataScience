{
  "nbformat": 4,
  "nbformat_minor": 0,
  "metadata": {
    "colab": {
      "provenance": []
    },
    "kernelspec": {
      "name": "python3",
      "display_name": "Python 3"
    },
    "language_info": {
      "name": "python"
    }
  },
  "cells": [
    {
      "cell_type": "markdown",
      "source": [
        "Q1. Using Python script as a calculator\n",
        "Create the variables n, r, p and assign them values 10, 5, and 100 respectively. Then\n",
        "evaluate the following expression in the Python console.\n",
        "𝐴 = 𝑝 (1 + 𝑟/ 100)n\n",
        "a. 100\n",
        "b. 162.89\n",
        "c. 189\n",
        "d. None of the above"
      ],
      "metadata": {
        "id": "wQXM_-QPRNlO"
      }
    },
    {
      "cell_type": "code",
      "execution_count": null,
      "metadata": {
        "id": "Sbfut1LGLbN0"
      },
      "outputs": [],
      "source": [
        "def Calculator(n,r,p):\n",
        "  A=p*(1+r/100)**n\n",
        "  print(A)"
      ]
    },
    {
      "cell_type": "code",
      "source": [
        "Calculator(10,5,100)\n",
        "#Ans (b)162.89"
      ],
      "metadata": {
        "colab": {
          "base_uri": "https://localhost:8080/"
        },
        "id": "KQKjPuyGL_8Q",
        "outputId": "901098e0-032e-4918-d69f-0fbddd7e1c36"
      },
      "execution_count": null,
      "outputs": [
        {
          "output_type": "stream",
          "name": "stdout",
          "text": [
            "162.8894626777442\n"
          ]
        }
      ]
    },
    {
      "cell_type": "code",
      "source": [
        "\n",
        "A=10\n",
        "B=20\n",
        "Str=\"There are {} students in a class ,with {} who play at least one sports\"\n",
        "\n",
        "print(Str.format(B,A))\n",
        "\n",
        "\n",
        "#ans (d)None of the above"
      ],
      "metadata": {
        "colab": {
          "base_uri": "https://localhost:8080/"
        },
        "id": "l4XmahuCNAEl",
        "outputId": "de7dfb26-d293-4a0f-9789-1c90b19b6bfd"
      },
      "execution_count": null,
      "outputs": [
        {
          "output_type": "stream",
          "name": "stdout",
          "text": [
            "There are 20 students in a class ,with 10 who play at least one sports\n"
          ]
        }
      ]
    },
    {
      "cell_type": "code",
      "source": [
        "#Q3. In a given sample string, How do you print a double quoted string in between a\n",
        "#regular\n",
        "#string using the escape character?\n",
        "#Sample output = It goes without saying, “Time is Money”, and none can deny it.\n",
        "#a. print(“It goes without saying, \\“Time is Money\\”, and none can deny it.”)\n",
        "#b. print(“It goes without saying, \\Time is Money\\, and none can deny it.”)\n",
        "#c. print(“It goes without saying” + “Time is Money” + “and none can deny it.”)\n",
        "#d. None of the above.\n"
      ],
      "metadata": {
        "id": "5sH2Gj4iONig"
      },
      "execution_count": null,
      "outputs": []
    },
    {
      "cell_type": "code",
      "source": [
        "print(\"It goes without saying, \\\"Time is Money\\\"  ,and none can deny it\")\n",
        "\n",
        "#Ans(a)"
      ],
      "metadata": {
        "colab": {
          "base_uri": "https://localhost:8080/"
        },
        "id": "NrOdUYuLOUHY",
        "outputId": "fe962daf-ccb6-41b6-9bc6-354312c4b6be"
      },
      "execution_count": null,
      "outputs": [
        {
          "output_type": "stream",
          "name": "stdout",
          "text": [
            "It goes without saying, \"Time is Money\"  ,and none can deny it\n"
          ]
        }
      ]
    },
    {
      "cell_type": "markdown",
      "source": [
        "4. What will be the output of the following code?\n",
        "x = lambda a,b: a//b\n",
        "x(10,3)\n",
        "a. 3.3333333333\n",
        "b. 3\n",
        "c. 30\n",
        "d. 1000"
      ],
      "metadata": {
        "id": "e65W_bGCQgX7"
      }
    },
    {
      "cell_type": "code",
      "source": [
        "x=lambda a,b:a//b"
      ],
      "metadata": {
        "id": "91Sj-i_UQZBJ"
      },
      "execution_count": null,
      "outputs": []
    },
    {
      "cell_type": "code",
      "source": [
        "x(10,3)"
      ],
      "metadata": {
        "colab": {
          "base_uri": "https://localhost:8080/"
        },
        "id": "Bk1KvWLGQu2F",
        "outputId": "ea5dbd36-3ac1-489c-a104-e29578a98357"
      },
      "execution_count": null,
      "outputs": [
        {
          "output_type": "execute_result",
          "data": {
            "text/plain": [
              "3"
            ]
          },
          "metadata": {},
          "execution_count": 18
        }
      ]
    },
    {
      "cell_type": "code",
      "source": [
        "#ans (b)"
      ],
      "metadata": {
        "id": "cnRVkKEvQ0wI"
      },
      "execution_count": null,
      "outputs": []
    },
    {
      "cell_type": "markdown",
      "source": [
        ". What will be the output of the following code?\n",
        "A = 10\n",
        "B = 12\n",
        "print(\"Smaller\") if A == B else print(\"Greater\") if A < B else print(\"True\")\n",
        "a. True\n",
        "b. Smaller\n",
        "c. Greater\n",
        "d. None of the above\n"
      ],
      "metadata": {
        "id": "sag2T7PLRH2C"
      }
    },
    {
      "cell_type": "code",
      "source": [],
      "metadata": {
        "colab": {
          "base_uri": "https://localhost:8080/",
          "height": 141
        },
        "id": "95K-VqAjSmzK",
        "outputId": "591d2937-e797-4554-8130-9dc948b9d8ae"
      },
      "execution_count": null,
      "outputs": [
        {
          "output_type": "error",
          "ename": "SyntaxError",
          "evalue": "invalid syntax (<ipython-input-20-a1a0496a5a01>, line 1)",
          "traceback": [
            "\u001b[0;36m  File \u001b[0;32m\"<ipython-input-20-a1a0496a5a01>\"\u001b[0;36m, line \u001b[0;32m1\u001b[0m\n\u001b[0;31m    A = 10 B = 12 print(\"Smaller\") if A == B else print(\"Greater\") if A < B else print(\"True\")\u001b[0m\n\u001b[0m           ^\u001b[0m\n\u001b[0;31mSyntaxError\u001b[0m\u001b[0;31m:\u001b[0m invalid syntax\n"
          ]
        }
      ]
    },
    {
      "cell_type": "markdown",
      "source": [
        "Q5. What will be the output of the following code?"
      ],
      "metadata": {
        "id": "zNbUfvBS0ByZ"
      }
    },
    {
      "cell_type": "code",
      "source": [
        "A = 10\n",
        "B = 12\n",
        "print(\"Smaller\") if A == B else print(\"Greater\") if A < B else print(\"True\")\n",
        "\n",
        "#ans(c)"
      ],
      "metadata": {
        "colab": {
          "base_uri": "https://localhost:8080/"
        },
        "id": "DrviUKh_Q4Dg",
        "outputId": "e73a4343-e19b-4558-afed-e76569cc6ae9"
      },
      "execution_count": null,
      "outputs": [
        {
          "output_type": "stream",
          "name": "stdout",
          "text": [
            "Greater\n"
          ]
        }
      ]
    },
    {
      "cell_type": "markdown",
      "source": [
        "Q6. What will be the output of the following code?\n"
      ],
      "metadata": {
        "id": "xePquNfjTt_u"
      }
    },
    {
      "cell_type": "code",
      "source": [
        "import os\n",
        "import numpy as np\n",
        "my_list1=[2,7,3,5,4,6]\n",
        "print(my_list1)\n",
        "arr_1=numpy.array(my_list1,dtype=int)\n",
        "print(arr_1)"
      ],
      "metadata": {
        "colab": {
          "base_uri": "https://localhost:8080/",
          "height": 245
        },
        "id": "0aFtgZE8Szxo",
        "outputId": "26f5008b-3111-4f9d-be3b-b1229a21ad51"
      },
      "execution_count": null,
      "outputs": [
        {
          "output_type": "stream",
          "name": "stdout",
          "text": [
            "[2, 7, 3, 5, 4, 6]\n"
          ]
        },
        {
          "output_type": "error",
          "ename": "NameError",
          "evalue": "name 'numpy' is not defined",
          "traceback": [
            "\u001b[0;31m---------------------------------------------------------------------------\u001b[0m",
            "\u001b[0;31mNameError\u001b[0m                                 Traceback (most recent call last)",
            "\u001b[0;32m<ipython-input-23-41b13d25d02d>\u001b[0m in \u001b[0;36m<cell line: 5>\u001b[0;34m()\u001b[0m\n\u001b[1;32m      3\u001b[0m \u001b[0mmy_list1\u001b[0m\u001b[0;34m=\u001b[0m\u001b[0;34m[\u001b[0m\u001b[0;36m2\u001b[0m\u001b[0;34m,\u001b[0m\u001b[0;36m7\u001b[0m\u001b[0;34m,\u001b[0m\u001b[0;36m3\u001b[0m\u001b[0;34m,\u001b[0m\u001b[0;36m5\u001b[0m\u001b[0;34m,\u001b[0m\u001b[0;36m4\u001b[0m\u001b[0;34m,\u001b[0m\u001b[0;36m6\u001b[0m\u001b[0;34m]\u001b[0m\u001b[0;34m\u001b[0m\u001b[0;34m\u001b[0m\u001b[0m\n\u001b[1;32m      4\u001b[0m \u001b[0mprint\u001b[0m\u001b[0;34m(\u001b[0m\u001b[0mmy_list1\u001b[0m\u001b[0;34m)\u001b[0m\u001b[0;34m\u001b[0m\u001b[0;34m\u001b[0m\u001b[0m\n\u001b[0;32m----> 5\u001b[0;31m \u001b[0marr_1\u001b[0m\u001b[0;34m=\u001b[0m\u001b[0mnumpy\u001b[0m\u001b[0;34m.\u001b[0m\u001b[0marray\u001b[0m\u001b[0;34m(\u001b[0m\u001b[0mmy_list1\u001b[0m\u001b[0;34m,\u001b[0m\u001b[0mdtype\u001b[0m\u001b[0;34m=\u001b[0m\u001b[0mint\u001b[0m\u001b[0;34m)\u001b[0m\u001b[0;34m\u001b[0m\u001b[0;34m\u001b[0m\u001b[0m\n\u001b[0m\u001b[1;32m      6\u001b[0m \u001b[0mprint\u001b[0m\u001b[0;34m(\u001b[0m\u001b[0marr_1\u001b[0m\u001b[0;34m)\u001b[0m\u001b[0;34m\u001b[0m\u001b[0;34m\u001b[0m\u001b[0m\n",
            "\u001b[0;31mNameError\u001b[0m: name 'numpy' is not defined"
          ]
        }
      ]
    },
    {
      "cell_type": "code",
      "source": [
        "#ans (c)NameError: name 'numpy' is not defined"
      ],
      "metadata": {
        "id": "caHMBVO5ToEG"
      },
      "execution_count": null,
      "outputs": []
    },
    {
      "cell_type": "markdown",
      "source": [
        "Q7. Create a string called ‘string’ with the value as “Machine Learning”. Which code(s)\n",
        "is/are appropriate to slice the substring “Learn”?\n",
        "a. string[slice(13,8,1)]\n",
        "b. string[slice(1,8,1)]\n",
        "c. string[8:14]\n",
        "d. string[slice(8,13,1)"
      ],
      "metadata": {
        "id": "en45lYmyT26L"
      }
    },
    {
      "cell_type": "code",
      "source": [
        "string=\"Machine Learning\"\n",
        "string[8:13]"
      ],
      "metadata": {
        "colab": {
          "base_uri": "https://localhost:8080/",
          "height": 35
        },
        "id": "_7envCy7T2fl",
        "outputId": "1f86a9af-c4bb-44e9-9a4f-91a90914a325"
      },
      "execution_count": null,
      "outputs": [
        {
          "output_type": "execute_result",
          "data": {
            "text/plain": [
              "'Learn'"
            ],
            "application/vnd.google.colaboratory.intrinsic+json": {
              "type": "string"
            }
          },
          "metadata": {},
          "execution_count": 26
        }
      ]
    },
    {
      "cell_type": "code",
      "source": [
        " string[slice(8,13,1)]   #ans (d)string[slice(8,13,1)]"
      ],
      "metadata": {
        "colab": {
          "base_uri": "https://localhost:8080/",
          "height": 35
        },
        "id": "S1-dfcPcUks3",
        "outputId": "4867fac8-787d-4405-f36f-bc10f3dc8a56"
      },
      "execution_count": null,
      "outputs": [
        {
          "output_type": "execute_result",
          "data": {
            "text/plain": [
              "'Learn'"
            ],
            "application/vnd.google.colaboratory.intrinsic+json": {
              "type": "string"
            }
          },
          "metadata": {},
          "execution_count": 25
        }
      ]
    },
    {
      "cell_type": "markdown",
      "source": [
        " Create a sequence of numbers from 10 to 25 and increment by 4. What is the index\n",
        "of the\n",
        "value 18?"
      ],
      "metadata": {
        "id": "M7_9eu8sVRcQ"
      }
    },
    {
      "cell_type": "code",
      "source": [
        "a=[]\n",
        "for i in range(10,26,4):\n",
        "  a.append(i)\n",
        "\n",
        "a\n",
        "\n"
      ],
      "metadata": {
        "colab": {
          "base_uri": "https://localhost:8080/"
        },
        "id": "z9lg96RNVHSP",
        "outputId": "59fac187-c371-4b80-f821-54de3c454b4a"
      },
      "execution_count": null,
      "outputs": [
        {
          "output_type": "execute_result",
          "data": {
            "text/plain": [
              "[10, 14, 18, 22]"
            ]
          },
          "metadata": {},
          "execution_count": 31
        }
      ]
    },
    {
      "cell_type": "code",
      "source": [
        "a.index(18) #ans b)2"
      ],
      "metadata": {
        "colab": {
          "base_uri": "https://localhost:8080/"
        },
        "id": "kJB9wQGqVsQm",
        "outputId": "3b61be6b-f99c-4458-bf32-ae97bf909926"
      },
      "execution_count": null,
      "outputs": [
        {
          "output_type": "execute_result",
          "data": {
            "text/plain": [
              "2"
            ]
          },
          "metadata": {},
          "execution_count": 32
        }
      ]
    },
    {
      "cell_type": "markdown",
      "source": [
        "Which of the following is true with respect to the below codes?\n",
        "a. num1 = num2\n",
        "b. num1 ≠ num2\n",
        "c. num1 < num2\n",
        "d. num1 > num2"
      ],
      "metadata": {
        "id": "NmtMTeioV24l"
      }
    },
    {
      "cell_type": "code",
      "source": [
        "num1=5**4\n",
        "num2=pow(5,4)\n",
        "print(num1,num2)        #ans a)num1=num2"
      ],
      "metadata": {
        "colab": {
          "base_uri": "https://localhost:8080/"
        },
        "id": "dv1YL5jHV5ww",
        "outputId": "bd00a82f-d294-4b03-9d8e-bf0691f4b87c"
      },
      "execution_count": null,
      "outputs": [
        {
          "output_type": "stream",
          "name": "stdout",
          "text": [
            "625 625\n"
          ]
        }
      ]
    },
    {
      "cell_type": "markdown",
      "source": [
        "Q10.A Python NameError exception is raised when: -\n",
        "a. Trying to access a variable which has not been defined\n",
        "b. Trying to access a key in a dictionary that does not exist\n",
        "c. Accessing a column with misspelled column name\n",
        "d. Accessing the function from a module that has not been imported\n"
      ],
      "metadata": {
        "id": "TxVMuCA-WUOd"
      }
    },
    {
      "cell_type": "code",
      "source": [
        "#ans (a)Trying to access a variable which has not been defined"
      ],
      "metadata": {
        "id": "UNO9WcHtWU_p"
      },
      "execution_count": null,
      "outputs": []
    },
    {
      "cell_type": "markdown",
      "source": [
        "1.What type of exception will be raised for the code given below?\n",
        "a. NameError\n",
        "b. KeyError\n",
        "c. ValueError\n",
        "d. AttributeErro"
      ],
      "metadata": {
        "id": "Lj2U2980YSNr"
      }
    },
    {
      "cell_type": "code",
      "source": [
        "x=\"string\"\n",
        "int(x)\n"
      ],
      "metadata": {
        "colab": {
          "base_uri": "https://localhost:8080/",
          "height": 193
        },
        "id": "gzhpjA3lYUN5",
        "outputId": "2c7448a3-2da6-4cf4-9396-9e9fdf9a9430"
      },
      "execution_count": null,
      "outputs": [
        {
          "output_type": "error",
          "ename": "ValueError",
          "evalue": "invalid literal for int() with base 10: 'string'",
          "traceback": [
            "\u001b[0;31m---------------------------------------------------------------------------\u001b[0m",
            "\u001b[0;31mValueError\u001b[0m                                Traceback (most recent call last)",
            "\u001b[0;32m<ipython-input-34-bf55c56f7aa2>\u001b[0m in \u001b[0;36m<cell line: 2>\u001b[0;34m()\u001b[0m\n\u001b[1;32m      1\u001b[0m \u001b[0mx\u001b[0m\u001b[0;34m=\u001b[0m\u001b[0;34m\"string\"\u001b[0m\u001b[0;34m\u001b[0m\u001b[0;34m\u001b[0m\u001b[0m\n\u001b[0;32m----> 2\u001b[0;31m \u001b[0mint\u001b[0m\u001b[0;34m(\u001b[0m\u001b[0mx\u001b[0m\u001b[0;34m)\u001b[0m\u001b[0;34m\u001b[0m\u001b[0;34m\u001b[0m\u001b[0m\n\u001b[0m",
            "\u001b[0;31mValueError\u001b[0m: invalid literal for int() with base 10: 'string'"
          ]
        }
      ]
    },
    {
      "cell_type": "code",
      "source": [
        "#ans(c)Value Error"
      ],
      "metadata": {
        "id": "3wwZJmI0Xz0S"
      },
      "execution_count": null,
      "outputs": []
    },
    {
      "cell_type": "code",
      "source": [
        "#Q12.A FileNotFoundError exception is raised by operating system errors when: -\n",
        "#a. Trying to create a file or directory which already exists\n",
        "#b. A file or directory is requested but does not exist in the working directory\n",
        "#c. Trying to run an operation without the adequate access rights\n",
        "##d. A directory operation, os.listdir() is requested on something which is not a\n",
        "#directory"
      ],
      "metadata": {
        "id": "6qcdi3IcYzyw"
      },
      "execution_count": null,
      "outputs": []
    },
    {
      "cell_type": "code",
      "source": [
        "#ans(b)A file or directory is requested but does not exist in the working directory"
      ],
      "metadata": {
        "id": "rjRGYopvZE2Q"
      },
      "execution_count": null,
      "outputs": []
    },
    {
      "cell_type": "markdown",
      "source": [
        "3.Consider a variable Z. The value of Z is \"ID-5632\". Data type of Z is: -\n",
        "a. Complex\n",
        "b. Character\n",
        "c. Integer\n",
        "d. Boolean"
      ],
      "metadata": {
        "id": "4jxWyUqyb0DR"
      }
    },
    {
      "cell_type": "code",
      "source": [
        "Z=\"ID-5632\"\n",
        "type(Z)"
      ],
      "metadata": {
        "colab": {
          "base_uri": "https://localhost:8080/"
        },
        "id": "zlkFiOsrb2Mw",
        "outputId": "b6665205-0740-4510-de76-57c3cb0a9d45"
      },
      "execution_count": null,
      "outputs": [
        {
          "output_type": "execute_result",
          "data": {
            "text/plain": [
              "str"
            ]
          },
          "metadata": {},
          "execution_count": 35
        }
      ]
    },
    {
      "cell_type": "code",
      "source": [
        "#ans b)Character"
      ],
      "metadata": {
        "id": "4cGOFYfnbu7Z"
      },
      "execution_count": null,
      "outputs": []
    },
    {
      "cell_type": "markdown",
      "source": [
        "Q14.Which of the following variable(s) are character data type?\n",
        "a. K= “4”\n",
        "b. J= “Welcome”\n",
        "c. L= “?”\n",
        "d. All of the above"
      ],
      "metadata": {
        "id": "XO_VT1DScMmI"
      }
    },
    {
      "cell_type": "code",
      "source": [
        "J=\"Welcome\"\n",
        "type(J)\n",
        "\n"
      ],
      "metadata": {
        "colab": {
          "base_uri": "https://localhost:8080/"
        },
        "id": "0jaWPmjAcGEK",
        "outputId": "55cf3847-7ffb-42ed-d6d9-b224de4ac79c"
      },
      "execution_count": null,
      "outputs": [
        {
          "output_type": "execute_result",
          "data": {
            "text/plain": [
              "str"
            ]
          },
          "metadata": {},
          "execution_count": 37
        }
      ]
    },
    {
      "cell_type": "code",
      "source": [
        "K=\"4\"\n",
        "type(K)"
      ],
      "metadata": {
        "colab": {
          "base_uri": "https://localhost:8080/"
        },
        "id": "SOOPkx6xciL3",
        "outputId": "5be81069-5c56-4a50-c5f6-7273943bc72c"
      },
      "execution_count": null,
      "outputs": [
        {
          "output_type": "execute_result",
          "data": {
            "text/plain": [
              "str"
            ]
          },
          "metadata": {},
          "execution_count": 38
        }
      ]
    },
    {
      "cell_type": "code",
      "source": [
        "L=\"?\"\n",
        "type(L)"
      ],
      "metadata": {
        "colab": {
          "base_uri": "https://localhost:8080/"
        },
        "id": "SlX-yaHFcjhY",
        "outputId": "b4e96160-e4cf-4a0a-ecaa-e52f447b6c77"
      },
      "execution_count": null,
      "outputs": [
        {
          "output_type": "execute_result",
          "data": {
            "text/plain": [
              "str"
            ]
          },
          "metadata": {},
          "execution_count": 39
        }
      ]
    },
    {
      "cell_type": "code",
      "source": [
        "#ans (D) All of the above"
      ],
      "metadata": {
        "id": "rFzduH0Fcm4k"
      },
      "execution_count": null,
      "outputs": []
    },
    {
      "cell_type": "markdown",
      "source": [
        "Choose the symbol/s that does not have the ability to convert any values to string?\n",
        "a. ( )\n",
        "b. “ ”\n",
        "c. {}\n",
        "d. #"
      ],
      "metadata": {
        "id": "TVT6DTfddI23"
      }
    },
    {
      "cell_type": "code",
      "source": [
        "v={3}\n",
        "type(v)  # ans a) ()"
      ],
      "metadata": {
        "colab": {
          "base_uri": "https://localhost:8080/"
        },
        "id": "bkGg9hUacsYb",
        "outputId": "88a3d5f4-e130-40ff-d6fd-3e13a9c7077a"
      },
      "execution_count": null,
      "outputs": [
        {
          "output_type": "execute_result",
          "data": {
            "text/plain": [
              "set"
            ]
          },
          "metadata": {},
          "execution_count": 46
        }
      ]
    },
    {
      "cell_type": "markdown",
      "source": [
        "16.Create a dictionary ‘Country’ that maps the following countries to their capitals\n",
        "respectively:\n",
        "Country India China Japan Qatar France\n",
        "State Delhi Beijing Tokyo Doha Marseilles\n",
        "Find 2 commands to replace “Marseilles” with “Paris” is:"
      ],
      "metadata": {
        "id": "iTOh5avCfYd0"
      }
    },
    {
      "cell_type": "code",
      "source": [
        "Country={\n",
        "  'India':'Delhi',\n",
        "  'China': 'Beijing',\n",
        "  'Japan':'Tokyo',\n",
        "  'Qatar':'Doha',\n",
        "  'France':'Marseilies'\n",
        "}"
      ],
      "metadata": {
        "id": "0OaKwx_eeKdo"
      },
      "execution_count": null,
      "outputs": []
    },
    {
      "cell_type": "code",
      "source": [
        "Country"
      ],
      "metadata": {
        "id": "Hu70BCXce3nw",
        "colab": {
          "base_uri": "https://localhost:8080/"
        },
        "outputId": "a09a141b-7667-4e74-dfbc-29c40fe664a5"
      },
      "execution_count": null,
      "outputs": [
        {
          "output_type": "execute_result",
          "data": {
            "text/plain": [
              "{'India': 'Delhi',\n",
              " 'China': 'Beijing',\n",
              " 'Japan': 'Tokyo',\n",
              " 'Qatar': 'Doha',\n",
              " 'France': 'Marseilies'}"
            ]
          },
          "metadata": {},
          "execution_count": 5
        }
      ]
    },
    {
      "cell_type": "code",
      "source": [
        "Country['France']='Paris'"
      ],
      "metadata": {
        "id": "qFLBO2UWf3my"
      },
      "execution_count": null,
      "outputs": []
    },
    {
      "cell_type": "code",
      "source": [
        "Country"
      ],
      "metadata": {
        "colab": {
          "base_uri": "https://localhost:8080/"
        },
        "id": "ePH9DTgdgB8d",
        "outputId": "0ceac68e-86fb-4bce-d6be-cbb394f55b46"
      },
      "execution_count": null,
      "outputs": [
        {
          "output_type": "execute_result",
          "data": {
            "text/plain": [
              "{'India': 'Delhi',\n",
              " 'China': 'Beijing',\n",
              " 'Japan': 'Tokyo',\n",
              " 'Qatar': 'Doha',\n",
              " 'France': 'Paris'}"
            ]
          },
          "metadata": {},
          "execution_count": 7
        }
      ]
    },
    {
      "cell_type": "code",
      "source": [
        "\n",
        "varr=Country[\"France\"].replace(\"Marseilles\",\"Paris\")\n",
        "Country[\"France\"]=varr"
      ],
      "metadata": {
        "id": "911ByTjGondS"
      },
      "execution_count": null,
      "outputs": []
    },
    {
      "cell_type": "markdown",
      "source": [
        ". Create the tuples given below\n",
        "tuple_1 = (1,5,6,7,8)\n",
        "tuple_2 = (8,9,4)\n",
        "Identify which of the following code does not work on a tuple.\n",
        "a. sum(tuple_1)\n",
        "b. len(tuple_2)\n",
        "c. tuple_2 + tuple_1\n",
        "d. tuple_1[3] = 45\n"
      ],
      "metadata": {
        "id": "1P5iZwdTgJVF"
      }
    },
    {
      "cell_type": "code",
      "source": [
        "tuple_1=(1,5,6,7,8)\n",
        "tuple_2=(8,9,4)"
      ],
      "metadata": {
        "id": "TG5VC-0ugEYd"
      },
      "execution_count": null,
      "outputs": []
    },
    {
      "cell_type": "code",
      "source": [
        "sum(tuple_1)"
      ],
      "metadata": {
        "colab": {
          "base_uri": "https://localhost:8080/"
        },
        "id": "hkxffFssgcXV",
        "outputId": "c9b06db9-000e-49a7-fa05-aa529a050d37"
      },
      "execution_count": null,
      "outputs": [
        {
          "output_type": "execute_result",
          "data": {
            "text/plain": [
              "27"
            ]
          },
          "metadata": {},
          "execution_count": 58
        }
      ]
    },
    {
      "cell_type": "code",
      "source": [
        "len(tuple_2)"
      ],
      "metadata": {
        "colab": {
          "base_uri": "https://localhost:8080/"
        },
        "id": "ZwtaKHF6gkpv",
        "outputId": "b1426ecf-181a-4479-ee2e-4a58418006ed"
      },
      "execution_count": null,
      "outputs": [
        {
          "output_type": "execute_result",
          "data": {
            "text/plain": [
              "3"
            ]
          },
          "metadata": {},
          "execution_count": 59
        }
      ]
    },
    {
      "cell_type": "code",
      "source": [
        "tuple_2+tuple_1"
      ],
      "metadata": {
        "colab": {
          "base_uri": "https://localhost:8080/"
        },
        "id": "8WxDNKK5gqkZ",
        "outputId": "b6639b0a-9ca4-4ca0-ce44-3bcf880c3088"
      },
      "execution_count": null,
      "outputs": [
        {
          "output_type": "execute_result",
          "data": {
            "text/plain": [
              "(8, 9, 4, 1, 5, 6, 7, 8)"
            ]
          },
          "metadata": {},
          "execution_count": 60
        }
      ]
    },
    {
      "cell_type": "code",
      "source": [
        "tuple_1[3]             #ans d) not equal to 45"
      ],
      "metadata": {
        "colab": {
          "base_uri": "https://localhost:8080/"
        },
        "id": "OI8aBFcHgvtW",
        "outputId": "12036f4d-bdda-4568-8bfa-34b8b43a7911"
      },
      "execution_count": null,
      "outputs": [
        {
          "output_type": "execute_result",
          "data": {
            "text/plain": [
              "7"
            ]
          },
          "metadata": {},
          "execution_count": 61
        }
      ]
    },
    {
      "cell_type": "markdown",
      "source": [
        "Q18. How many elements in the following data structure?"
      ],
      "metadata": {
        "id": "rK6eY67chBuX"
      }
    },
    {
      "cell_type": "code",
      "source": [
        "S={1,2,3,4,4,4,5,6}\n"
      ],
      "metadata": {
        "id": "rvGVHWO9g8t6"
      },
      "execution_count": null,
      "outputs": []
    },
    {
      "cell_type": "code",
      "source": [
        "len(S)  #Ans 6"
      ],
      "metadata": {
        "colab": {
          "base_uri": "https://localhost:8080/"
        },
        "id": "bUVueJqBhH3P",
        "outputId": "9feac5fc-e0bf-497d-e21c-9016fc195122"
      },
      "execution_count": null,
      "outputs": [
        {
          "output_type": "execute_result",
          "data": {
            "text/plain": [
              "6"
            ]
          },
          "metadata": {},
          "execution_count": 67
        }
      ]
    },
    {
      "cell_type": "markdown",
      "source": [
        "19.Write a function which finds all pythagorean triplets of triangles whose sides are no\n",
        "greater than a natural number N."
      ],
      "metadata": {
        "id": "abPMGVAWhk4K"
      }
    },
    {
      "cell_type": "code",
      "source": [
        "def pythagoras_triplets():\n",
        "  N=int(input(\"Enter the Natural NUmber:\"))\n",
        "  for a in range(1,N):\n",
        "    for b in range(1,N):\n",
        "      for c in range(1,N):\n",
        "        if(c**2==a**2+b**2):\n",
        "          print(f\" the numbers which follow pythagoras theorem are {a},{b},{c}\")\n",
        "\n",
        "\n"
      ],
      "metadata": {
        "id": "GPJ4NhHIyIz-"
      },
      "execution_count": null,
      "outputs": []
    },
    {
      "cell_type": "code",
      "source": [
        "pythagoras_triplets()"
      ],
      "metadata": {
        "colab": {
          "base_uri": "https://localhost:8080/"
        },
        "id": "bkYYzzcL1niD",
        "outputId": "df0750f0-6eb7-4981-8850-71c950d802d4"
      },
      "execution_count": null,
      "outputs": [
        {
          "output_type": "stream",
          "name": "stdout",
          "text": [
            "Enter the Natural NUmber:20\n",
            " the numbers which follow pythagoras theorem are 3,4,5\n",
            " the numbers which follow pythagoras theorem are 4,3,5\n",
            " the numbers which follow pythagoras theorem are 5,12,13\n",
            " the numbers which follow pythagoras theorem are 6,8,10\n",
            " the numbers which follow pythagoras theorem are 8,6,10\n",
            " the numbers which follow pythagoras theorem are 8,15,17\n",
            " the numbers which follow pythagoras theorem are 9,12,15\n",
            " the numbers which follow pythagoras theorem are 12,5,13\n",
            " the numbers which follow pythagoras theorem are 12,9,15\n",
            " the numbers which follow pythagoras theorem are 15,8,17\n"
          ]
        }
      ]
    }
  ]
}