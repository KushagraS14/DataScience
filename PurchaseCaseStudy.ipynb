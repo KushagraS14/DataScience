{
  "cells": [
    {
      "cell_type": "code",
      "execution_count": null,
      "metadata": {
        "id": "d6t-XizV3F5i"
      },
      "outputs": [],
      "source": []
    },
    {
      "cell_type": "markdown",
      "metadata": {
        "id": "Z-BpYVt84H28"
      },
      "source": [
        "# Purchase Case Study"
      ]
    },
    {
      "cell_type": "markdown",
      "metadata": {
        "id": "ngO28LsQ5IiJ"
      },
      "source": [
        "# Understanding the dataset"
      ]
    },
    {
      "cell_type": "markdown",
      "metadata": {
        "id": "cm0PfG-Q5EHC"
      },
      "source": [
        "# **Understanding the dataset**\n",
        "\n",
        "* **User_ID:**\n",
        "  * **This column represents the unique identifier for each user or customer who made the purchase.**\n",
        "\n",
        "* **Product_ID:**\n",
        "  * **This column contains the unique identifier for each product that was purchased.**\n",
        "\n",
        "* **Gender:**\n",
        "  * **This column indicates the gender of the user who made the purchase. It could have values such as \"Male\" or \"Female.\"**\n",
        "\n",
        "* **Age:**\n",
        "  * **This column represents the age group or category of the user who made the purchase. It can be categorized into different age ranges, such as \"18-25,\" \"26-35,\" \"36-45,\" and so on.**\n",
        "\n",
        "* **Occupation:**\n",
        "  * **This column denotes the occupation of the user who made the purchase. It may include numerical or categorical values representing different professions or job types.**\n",
        "\n",
        "* **City_Category:**\n",
        "  * **This column categorizes the city or region from which the purchase was made. It typically includes labels like \"A,\" \"B,\" or \"C\" to represent different city categories or types.**\n",
        "\n",
        "* **Stay_In_Current_City_Years:**\n",
        "  * **This column indicates the number of years the user has been living in their current city. It may have values such as \"0\" for less than a year, \"1\" for one year, \"2\" for two years, and so on.**\n",
        "\n",
        "* **Marital_Status:**\n",
        "  * **This column represents the marital status of the user. It could be encoded as \"0\" for unmarried/single and \"1\" for married.**\n",
        "\n",
        "* **Product_Category_1:**\n",
        "  * **This column refers to the primary category of the purchased product. It may contain numerical or categorical values representing different product categories.**\n",
        "\n",
        "* **Product_Category_2:**\n",
        "  * **This column corresponds to the secondary category of the purchased product. It could also contain numerical or categorical values, but it is not necessarily present in all datasets.**\n",
        "\n",
        "* **Product_Category_3:**\n",
        "  * **This column represents the tertiary category of the purchased product. Similar to the previous column, it may include numerical or categorical values and might not be present in all datasets.**\n",
        "\n",
        "* **Purchase:**\n",
        "  * **This column contains the amount or value of the purchase made by the user. It represents the monetary value or quantity associated with the transaction.**\n",
        "\n",
        "<hr>\n",
        "\n",
        "\n",
        "\n"
      ]
    },
    {
      "cell_type": "markdown",
      "metadata": {
        "id": "d-ZHL7NAKrHy"
      },
      "source": [
        "# **Tasks to be performed**\n",
        "\n",
        "1. **Need to perform a detailed EDA (Exploratory Data Analysis) to derieve useful inferences**\n",
        "\n",
        "\n",
        "2. **Using Statistical Analysis, find out statistical evidence for the following:**\n",
        "\n",
        "    * **It was observed that the average purchase made by the Men of the age 18-25 was 10000. Is it still the same?**\n",
        "    \n",
        "    * **It was observed that the percentage of women of the age that spend more than 10000 was 35%. Is it still the same?**\n",
        "    \n",
        "    * **Are the variances of the purchase amounts significantly different between men and women in the age group 18-25?**\n",
        "    \n",
        "    * **Is the percentage of men who have spent more than 10000 the same for the ages 18-25 and 26-35?**\n"
      ]
    },
    {
      "cell_type": "code",
      "execution_count": null,
      "metadata": {
        "id": "r887Mduj-o6u"
      },
      "outputs": [],
      "source": [
        "#Step"
      ]
    },
    {
      "cell_type": "markdown",
      "metadata": {
        "id": "Ih9raLogfNYC"
      },
      "source": [
        "#Step 1\n",
        "# Importing the Libraries"
      ]
    },
    {
      "cell_type": "markdown",
      "metadata": {
        "id": "ErEBrSfbf4QY"
      },
      "source": [
        "#Configuration Libraries"
      ]
    },
    {
      "cell_type": "code",
      "execution_count": null,
      "metadata": {
        "id": "Z7QoWtJ6fSQo"
      },
      "outputs": [],
      "source": [
        "import warnings\n",
        "warnings.filterwarnings('ignore')"
      ]
    },
    {
      "cell_type": "markdown",
      "metadata": {
        "id": "vDmeTW-7hb5n"
      },
      "source": [
        "# Mandatory Libraries"
      ]
    },
    {
      "cell_type": "code",
      "execution_count": null,
      "metadata": {
        "id": "KHTIS1SlhZXi"
      },
      "outputs": [],
      "source": [
        "import numpy as np\n",
        "import pandas as pd\n",
        "import seaborn as sns\n",
        "import matplotlib.pyplot as plt\n",
        "plt.style.use('dark_background')\n"
      ]
    },
    {
      "cell_type": "markdown",
      "metadata": {
        "id": "qXnqVRxnZTeQ"
      },
      "source": [
        "Encoding Libraries"
      ]
    },
    {
      "cell_type": "code",
      "execution_count": null,
      "metadata": {
        "id": "cYpqIpiwZYOz"
      },
      "outputs": [],
      "source": [
        "from sklearn.preprocessing import LabelEncoder"
      ]
    },
    {
      "cell_type": "markdown",
      "metadata": {
        "id": "OFBFemYIiM2d"
      },
      "source": [
        "#Loading and Inspection of data"
      ]
    },
    {
      "cell_type": "code",
      "execution_count": null,
      "metadata": {
        "id": "ixswX_79iGvZ"
      },
      "outputs": [],
      "source": [
        "df=pd.read_csv('purchase_data.csv')"
      ]
    },
    {
      "cell_type": "markdown",
      "metadata": {
        "id": "9GhB8sbgqmsT"
      },
      "source": [
        "#data inspection"
      ]
    },
    {
      "cell_type": "code",
      "execution_count": null,
      "metadata": {
        "colab": {
          "base_uri": "https://localhost:8080/"
        },
        "id": "zsJe4EAwlba2",
        "outputId": "53144ec5-92d0-48b3-9238-789e6f0bd235"
      },
      "outputs": [
        {
          "data": {
            "text/plain": [
              "{'background-color': 'abcd2d0',\n",
              " 'color': 'black',\n",
              " 'border-color': 'black',\n",
              " 'border-style': 'solid'}"
            ]
          },
          "execution_count": 57,
          "metadata": {},
          "output_type": "execute_result"
        }
      ],
      "source": [
        "df.head().style.set_properties\n",
        "{\n",
        "**{    'background-color':'abcd2d0',\n",
        "       'color':'black',\n",
        "       'border-color':'black',\n",
        "       'border-style':'solid'\n",
        "}\n",
        "}"
      ]
    },
    {
      "cell_type": "code",
      "execution_count": null,
      "metadata": {
        "colab": {
          "base_uri": "https://localhost:8080/",
          "height": 295
        },
        "id": "eFsPTne51lQO",
        "outputId": "ac318eca-c207-40d3-f7aa-54fcdac31f75"
      },
      "outputs": [
        {
          "data": {
            "application/vnd.google.colaboratory.intrinsic+json": {
              "summary": "{\n  \"name\": \"df\",\n  \"rows\": 22589,\n  \"fields\": [\n    {\n      \"column\": \"User_ID\",\n      \"properties\": {\n        \"dtype\": \"number\",\n        \"std\": 1014,\n        \"min\": 1000001,\n        \"max\": 1003539,\n        \"num_unique_values\": 3110,\n        \"samples\": [\n          1000779,\n          1001964,\n          1000232\n        ],\n        \"semantic_type\": \"\",\n        \"description\": \"\"\n      }\n    },\n    {\n      \"column\": \"Product_ID\",\n      \"properties\": {\n        \"dtype\": \"category\",\n        \"num_unique_values\": 2755,\n        \"samples\": [\n          \"P00110342\",\n          \"P00337442\",\n          \"P00116042\"\n        ],\n        \"semantic_type\": \"\",\n        \"description\": \"\"\n      }\n    },\n    {\n      \"column\": \"Gender\",\n      \"properties\": {\n        \"dtype\": \"category\",\n        \"num_unique_values\": 2,\n        \"samples\": [\n          \"M\",\n          \"F\"\n        ],\n        \"semantic_type\": \"\",\n        \"description\": \"\"\n      }\n    },\n    {\n      \"column\": \"Age\",\n      \"properties\": {\n        \"dtype\": \"category\",\n        \"num_unique_values\": 8,\n        \"samples\": [\n          \"55+\",\n          \"36-45\"\n        ],\n        \"semantic_type\": \"\",\n        \"description\": \"\"\n      }\n    },\n    {\n      \"column\": \"Occupation\",\n      \"properties\": {\n        \"dtype\": \"number\",\n        \"std\": 6.54819577660339,\n        \"min\": 0.0,\n        \"max\": 20.0,\n        \"num_unique_values\": 21,\n        \"samples\": [\n          10.0,\n          5.0\n        ],\n        \"semantic_type\": \"\",\n        \"description\": \"\"\n      }\n    },\n    {\n      \"column\": \"City_Category\",\n      \"properties\": {\n        \"dtype\": \"category\",\n        \"num_unique_values\": 3,\n        \"samples\": [\n          \"A\",\n          \"C\"\n        ],\n        \"semantic_type\": \"\",\n        \"description\": \"\"\n      }\n    },\n    {\n      \"column\": \"Stay_In_Current_City_Years\",\n      \"properties\": {\n        \"dtype\": \"category\",\n        \"num_unique_values\": 5,\n        \"samples\": [\n          \"4+\",\n          \"0\"\n        ],\n        \"semantic_type\": \"\",\n        \"description\": \"\"\n      }\n    },\n    {\n      \"column\": \"Marital_Status\",\n      \"properties\": {\n        \"dtype\": \"number\",\n        \"std\": 0.49017624747555516,\n        \"min\": 0.0,\n        \"max\": 1.0,\n        \"num_unique_values\": 2,\n        \"samples\": [\n          1.0,\n          0.0\n        ],\n        \"semantic_type\": \"\",\n        \"description\": \"\"\n      }\n    },\n    {\n      \"column\": \"Product_Category_1\",\n      \"properties\": {\n        \"dtype\": \"number\",\n        \"std\": 3.687216903386367,\n        \"min\": 1.0,\n        \"max\": 18.0,\n        \"num_unique_values\": 18,\n        \"samples\": [\n          3.0,\n          1.0\n        ],\n        \"semantic_type\": \"\",\n        \"description\": \"\"\n      }\n    },\n    {\n      \"column\": \"Product_Category_2\",\n      \"properties\": {\n        \"dtype\": \"number\",\n        \"std\": 5.071523443504287,\n        \"min\": 2.0,\n        \"max\": 18.0,\n        \"num_unique_values\": 17,\n        \"samples\": [\n          6.0,\n          14.0\n        ],\n        \"semantic_type\": \"\",\n        \"description\": \"\"\n      }\n    },\n    {\n      \"column\": \"Product_Category_3\",\n      \"properties\": {\n        \"dtype\": \"number\",\n        \"std\": 4.112730791748276,\n        \"min\": 3.0,\n        \"max\": 18.0,\n        \"num_unique_values\": 15,\n        \"samples\": [\n          6.0,\n          3.0\n        ],\n        \"semantic_type\": \"\",\n        \"description\": \"\"\n      }\n    },\n    {\n      \"column\": \"Purchase\",\n      \"properties\": {\n        \"dtype\": \"number\",\n        \"std\": 4930.665787851963,\n        \"min\": 186.0,\n        \"max\": 23958.0,\n        \"num_unique_values\": 8846,\n        \"samples\": [\n          17012.0,\n          15721.0\n        ],\n        \"semantic_type\": \"\",\n        \"description\": \"\"\n      }\n    }\n  ]\n}",
              "type": "dataframe",
              "variable_name": "df"
            },
            "text/html": [
              "\n",
              "  <div id=\"df-a8249988-6143-492c-a754-33fffc7eed55\" class=\"colab-df-container\">\n",
              "    <div>\n",
              "<style scoped>\n",
              "    .dataframe tbody tr th:only-of-type {\n",
              "        vertical-align: middle;\n",
              "    }\n",
              "\n",
              "    .dataframe tbody tr th {\n",
              "        vertical-align: top;\n",
              "    }\n",
              "\n",
              "    .dataframe thead th {\n",
              "        text-align: right;\n",
              "    }\n",
              "</style>\n",
              "<table border=\"1\" class=\"dataframe\">\n",
              "  <thead>\n",
              "    <tr style=\"text-align: right;\">\n",
              "      <th></th>\n",
              "      <th>User_ID</th>\n",
              "      <th>Product_ID</th>\n",
              "      <th>Gender</th>\n",
              "      <th>Age</th>\n",
              "      <th>Occupation</th>\n",
              "      <th>City_Category</th>\n",
              "      <th>Stay_In_Current_City_Years</th>\n",
              "      <th>Marital_Status</th>\n",
              "      <th>Product_Category_1</th>\n",
              "      <th>Product_Category_2</th>\n",
              "      <th>Product_Category_3</th>\n",
              "      <th>Purchase</th>\n",
              "    </tr>\n",
              "  </thead>\n",
              "  <tbody>\n",
              "    <tr>\n",
              "      <th>0</th>\n",
              "      <td>1000001</td>\n",
              "      <td>P00069042</td>\n",
              "      <td>F</td>\n",
              "      <td>0-17</td>\n",
              "      <td>10.0</td>\n",
              "      <td>A</td>\n",
              "      <td>2</td>\n",
              "      <td>0.0</td>\n",
              "      <td>3.0</td>\n",
              "      <td>NaN</td>\n",
              "      <td>NaN</td>\n",
              "      <td>8370.0</td>\n",
              "    </tr>\n",
              "    <tr>\n",
              "      <th>1</th>\n",
              "      <td>1000001</td>\n",
              "      <td>P00248942</td>\n",
              "      <td>F</td>\n",
              "      <td>0-17</td>\n",
              "      <td>10.0</td>\n",
              "      <td>A</td>\n",
              "      <td>2</td>\n",
              "      <td>0.0</td>\n",
              "      <td>1.0</td>\n",
              "      <td>6.0</td>\n",
              "      <td>14.0</td>\n",
              "      <td>15200.0</td>\n",
              "    </tr>\n",
              "    <tr>\n",
              "      <th>2</th>\n",
              "      <td>1000001</td>\n",
              "      <td>P00087842</td>\n",
              "      <td>F</td>\n",
              "      <td>0-17</td>\n",
              "      <td>10.0</td>\n",
              "      <td>A</td>\n",
              "      <td>2</td>\n",
              "      <td>0.0</td>\n",
              "      <td>12.0</td>\n",
              "      <td>NaN</td>\n",
              "      <td>NaN</td>\n",
              "      <td>1422.0</td>\n",
              "    </tr>\n",
              "    <tr>\n",
              "      <th>3</th>\n",
              "      <td>1000001</td>\n",
              "      <td>P00085442</td>\n",
              "      <td>F</td>\n",
              "      <td>0-17</td>\n",
              "      <td>10.0</td>\n",
              "      <td>A</td>\n",
              "      <td>2</td>\n",
              "      <td>0.0</td>\n",
              "      <td>12.0</td>\n",
              "      <td>14.0</td>\n",
              "      <td>NaN</td>\n",
              "      <td>1057.0</td>\n",
              "    </tr>\n",
              "    <tr>\n",
              "      <th>4</th>\n",
              "      <td>1000002</td>\n",
              "      <td>P00285442</td>\n",
              "      <td>M</td>\n",
              "      <td>55+</td>\n",
              "      <td>16.0</td>\n",
              "      <td>C</td>\n",
              "      <td>4+</td>\n",
              "      <td>0.0</td>\n",
              "      <td>8.0</td>\n",
              "      <td>NaN</td>\n",
              "      <td>NaN</td>\n",
              "      <td>7969.0</td>\n",
              "    </tr>\n",
              "  </tbody>\n",
              "</table>\n",
              "</div>\n",
              "    <div class=\"colab-df-buttons\">\n",
              "\n",
              "  <div class=\"colab-df-container\">\n",
              "    <button class=\"colab-df-convert\" onclick=\"convertToInteractive('df-a8249988-6143-492c-a754-33fffc7eed55')\"\n",
              "            title=\"Convert this dataframe to an interactive table.\"\n",
              "            style=\"display:none;\">\n",
              "\n",
              "  <svg xmlns=\"http://www.w3.org/2000/svg\" height=\"24px\" viewBox=\"0 -960 960 960\">\n",
              "    <path d=\"M120-120v-720h720v720H120Zm60-500h600v-160H180v160Zm220 220h160v-160H400v160Zm0 220h160v-160H400v160ZM180-400h160v-160H180v160Zm440 0h160v-160H620v160ZM180-180h160v-160H180v160Zm440 0h160v-160H620v160Z\"/>\n",
              "  </svg>\n",
              "    </button>\n",
              "\n",
              "  <style>\n",
              "    .colab-df-container {\n",
              "      display:flex;\n",
              "      gap: 12px;\n",
              "    }\n",
              "\n",
              "    .colab-df-convert {\n",
              "      background-color: #E8F0FE;\n",
              "      border: none;\n",
              "      border-radius: 50%;\n",
              "      cursor: pointer;\n",
              "      display: none;\n",
              "      fill: #1967D2;\n",
              "      height: 32px;\n",
              "      padding: 0 0 0 0;\n",
              "      width: 32px;\n",
              "    }\n",
              "\n",
              "    .colab-df-convert:hover {\n",
              "      background-color: #E2EBFA;\n",
              "      box-shadow: 0px 1px 2px rgba(60, 64, 67, 0.3), 0px 1px 3px 1px rgba(60, 64, 67, 0.15);\n",
              "      fill: #174EA6;\n",
              "    }\n",
              "\n",
              "    .colab-df-buttons div {\n",
              "      margin-bottom: 4px;\n",
              "    }\n",
              "\n",
              "    [theme=dark] .colab-df-convert {\n",
              "      background-color: #3B4455;\n",
              "      fill: #D2E3FC;\n",
              "    }\n",
              "\n",
              "    [theme=dark] .colab-df-convert:hover {\n",
              "      background-color: #434B5C;\n",
              "      box-shadow: 0px 1px 3px 1px rgba(0, 0, 0, 0.15);\n",
              "      filter: drop-shadow(0px 1px 2px rgba(0, 0, 0, 0.3));\n",
              "      fill: #FFFFFF;\n",
              "    }\n",
              "  </style>\n",
              "\n",
              "    <script>\n",
              "      const buttonEl =\n",
              "        document.querySelector('#df-a8249988-6143-492c-a754-33fffc7eed55 button.colab-df-convert');\n",
              "      buttonEl.style.display =\n",
              "        google.colab.kernel.accessAllowed ? 'block' : 'none';\n",
              "\n",
              "      async function convertToInteractive(key) {\n",
              "        const element = document.querySelector('#df-a8249988-6143-492c-a754-33fffc7eed55');\n",
              "        const dataTable =\n",
              "          await google.colab.kernel.invokeFunction('convertToInteractive',\n",
              "                                                    [key], {});\n",
              "        if (!dataTable) return;\n",
              "\n",
              "        const docLinkHtml = 'Like what you see? Visit the ' +\n",
              "          '<a target=\"_blank\" href=https://colab.research.google.com/notebooks/data_table.ipynb>data table notebook</a>'\n",
              "          + ' to learn more about interactive tables.';\n",
              "        element.innerHTML = '';\n",
              "        dataTable['output_type'] = 'display_data';\n",
              "        await google.colab.output.renderOutput(dataTable, element);\n",
              "        const docLink = document.createElement('div');\n",
              "        docLink.innerHTML = docLinkHtml;\n",
              "        element.appendChild(docLink);\n",
              "      }\n",
              "    </script>\n",
              "  </div>\n",
              "\n",
              "\n",
              "<div id=\"df-65e4b942-87f8-442f-b963-bf191d9ba80f\">\n",
              "  <button class=\"colab-df-quickchart\" onclick=\"quickchart('df-65e4b942-87f8-442f-b963-bf191d9ba80f')\"\n",
              "            title=\"Suggest charts\"\n",
              "            style=\"display:none;\">\n",
              "\n",
              "<svg xmlns=\"http://www.w3.org/2000/svg\" height=\"24px\"viewBox=\"0 0 24 24\"\n",
              "     width=\"24px\">\n",
              "    <g>\n",
              "        <path d=\"M19 3H5c-1.1 0-2 .9-2 2v14c0 1.1.9 2 2 2h14c1.1 0 2-.9 2-2V5c0-1.1-.9-2-2-2zM9 17H7v-7h2v7zm4 0h-2V7h2v10zm4 0h-2v-4h2v4z\"/>\n",
              "    </g>\n",
              "</svg>\n",
              "  </button>\n",
              "\n",
              "<style>\n",
              "  .colab-df-quickchart {\n",
              "      --bg-color: #E8F0FE;\n",
              "      --fill-color: #1967D2;\n",
              "      --hover-bg-color: #E2EBFA;\n",
              "      --hover-fill-color: #174EA6;\n",
              "      --disabled-fill-color: #AAA;\n",
              "      --disabled-bg-color: #DDD;\n",
              "  }\n",
              "\n",
              "  [theme=dark] .colab-df-quickchart {\n",
              "      --bg-color: #3B4455;\n",
              "      --fill-color: #D2E3FC;\n",
              "      --hover-bg-color: #434B5C;\n",
              "      --hover-fill-color: #FFFFFF;\n",
              "      --disabled-bg-color: #3B4455;\n",
              "      --disabled-fill-color: #666;\n",
              "  }\n",
              "\n",
              "  .colab-df-quickchart {\n",
              "    background-color: var(--bg-color);\n",
              "    border: none;\n",
              "    border-radius: 50%;\n",
              "    cursor: pointer;\n",
              "    display: none;\n",
              "    fill: var(--fill-color);\n",
              "    height: 32px;\n",
              "    padding: 0;\n",
              "    width: 32px;\n",
              "  }\n",
              "\n",
              "  .colab-df-quickchart:hover {\n",
              "    background-color: var(--hover-bg-color);\n",
              "    box-shadow: 0 1px 2px rgba(60, 64, 67, 0.3), 0 1px 3px 1px rgba(60, 64, 67, 0.15);\n",
              "    fill: var(--button-hover-fill-color);\n",
              "  }\n",
              "\n",
              "  .colab-df-quickchart-complete:disabled,\n",
              "  .colab-df-quickchart-complete:disabled:hover {\n",
              "    background-color: var(--disabled-bg-color);\n",
              "    fill: var(--disabled-fill-color);\n",
              "    box-shadow: none;\n",
              "  }\n",
              "\n",
              "  .colab-df-spinner {\n",
              "    border: 2px solid var(--fill-color);\n",
              "    border-color: transparent;\n",
              "    border-bottom-color: var(--fill-color);\n",
              "    animation:\n",
              "      spin 1s steps(1) infinite;\n",
              "  }\n",
              "\n",
              "  @keyframes spin {\n",
              "    0% {\n",
              "      border-color: transparent;\n",
              "      border-bottom-color: var(--fill-color);\n",
              "      border-left-color: var(--fill-color);\n",
              "    }\n",
              "    20% {\n",
              "      border-color: transparent;\n",
              "      border-left-color: var(--fill-color);\n",
              "      border-top-color: var(--fill-color);\n",
              "    }\n",
              "    30% {\n",
              "      border-color: transparent;\n",
              "      border-left-color: var(--fill-color);\n",
              "      border-top-color: var(--fill-color);\n",
              "      border-right-color: var(--fill-color);\n",
              "    }\n",
              "    40% {\n",
              "      border-color: transparent;\n",
              "      border-right-color: var(--fill-color);\n",
              "      border-top-color: var(--fill-color);\n",
              "    }\n",
              "    60% {\n",
              "      border-color: transparent;\n",
              "      border-right-color: var(--fill-color);\n",
              "    }\n",
              "    80% {\n",
              "      border-color: transparent;\n",
              "      border-right-color: var(--fill-color);\n",
              "      border-bottom-color: var(--fill-color);\n",
              "    }\n",
              "    90% {\n",
              "      border-color: transparent;\n",
              "      border-bottom-color: var(--fill-color);\n",
              "    }\n",
              "  }\n",
              "</style>\n",
              "\n",
              "  <script>\n",
              "    async function quickchart(key) {\n",
              "      const quickchartButtonEl =\n",
              "        document.querySelector('#' + key + ' button');\n",
              "      quickchartButtonEl.disabled = true;  // To prevent multiple clicks.\n",
              "      quickchartButtonEl.classList.add('colab-df-spinner');\n",
              "      try {\n",
              "        const charts = await google.colab.kernel.invokeFunction(\n",
              "            'suggestCharts', [key], {});\n",
              "      } catch (error) {\n",
              "        console.error('Error during call to suggestCharts:', error);\n",
              "      }\n",
              "      quickchartButtonEl.classList.remove('colab-df-spinner');\n",
              "      quickchartButtonEl.classList.add('colab-df-quickchart-complete');\n",
              "    }\n",
              "    (() => {\n",
              "      let quickchartButtonEl =\n",
              "        document.querySelector('#df-65e4b942-87f8-442f-b963-bf191d9ba80f button');\n",
              "      quickchartButtonEl.style.display =\n",
              "        google.colab.kernel.accessAllowed ? 'block' : 'none';\n",
              "    })();\n",
              "  </script>\n",
              "</div>\n",
              "\n",
              "    </div>\n",
              "  </div>\n"
            ],
            "text/plain": [
              "   User_ID Product_ID Gender   Age  Occupation City_Category  \\\n",
              "0  1000001  P00069042      F  0-17        10.0             A   \n",
              "1  1000001  P00248942      F  0-17        10.0             A   \n",
              "2  1000001  P00087842      F  0-17        10.0             A   \n",
              "3  1000001  P00085442      F  0-17        10.0             A   \n",
              "4  1000002  P00285442      M   55+        16.0             C   \n",
              "\n",
              "  Stay_In_Current_City_Years  Marital_Status  Product_Category_1  \\\n",
              "0                          2             0.0                 3.0   \n",
              "1                          2             0.0                 1.0   \n",
              "2                          2             0.0                12.0   \n",
              "3                          2             0.0                12.0   \n",
              "4                         4+             0.0                 8.0   \n",
              "\n",
              "   Product_Category_2  Product_Category_3  Purchase  \n",
              "0                 NaN                 NaN    8370.0  \n",
              "1                 6.0                14.0   15200.0  \n",
              "2                 NaN                 NaN    1422.0  \n",
              "3                14.0                 NaN    1057.0  \n",
              "4                 NaN                 NaN    7969.0  "
            ]
          },
          "execution_count": 58,
          "metadata": {},
          "output_type": "execute_result"
        }
      ],
      "source": [
        "df.head()"
      ]
    },
    {
      "cell_type": "markdown",
      "metadata": {
        "id": "r108kiiC1_f2"
      },
      "source": [
        "#Insights that we have driven\n",
        "\n",
        "\n",
        "\n",
        "*   There are a lot of null values\n",
        "*   There are a lot of categorical values that means we will need encoding\n",
        "\n",
        "\n"
      ]
    },
    {
      "cell_type": "markdown",
      "metadata": {
        "id": "zue_-GhI35u_"
      },
      "source": [
        "Shape Inspection"
      ]
    },
    {
      "cell_type": "code",
      "execution_count": null,
      "metadata": {
        "colab": {
          "base_uri": "https://localhost:8080/"
        },
        "id": "TBXRo4Bh37x2",
        "outputId": "e6f740c6-2b33-4b6d-fd76-3d3bdf6ba7b4"
      },
      "outputs": [
        {
          "name": "stdout",
          "output_type": "stream",
          "text": [
            "The Data is having 22589 rows and 12 columns\n"
          ]
        }
      ],
      "source": [
        "a=df.shape #this returns you a tuple\n",
        "print(f'The Data is having {a[0] } rows and {a[1]} columns')"
      ]
    },
    {
      "cell_type": "markdown",
      "metadata": {
        "id": "r9PBUi-b50D_"
      },
      "source": [
        "# Information Inspection"
      ]
    },
    {
      "cell_type": "code",
      "execution_count": null,
      "metadata": {
        "colab": {
          "base_uri": "https://localhost:8080/"
        },
        "id": "Kl4mHGT_55cN",
        "outputId": "8db0d135-01a9-459a-b3ea-661c822727ab"
      },
      "outputs": [
        {
          "name": "stdout",
          "output_type": "stream",
          "text": [
            "<class 'pandas.core.frame.DataFrame'>\n",
            "RangeIndex: 22589 entries, 0 to 22588\n",
            "Data columns (total 12 columns):\n",
            " #   Column                      Non-Null Count  Dtype  \n",
            "---  ------                      --------------  -----  \n",
            " 0   User_ID                     22589 non-null  int64  \n",
            " 1   Product_ID                  22589 non-null  object \n",
            " 2   Gender                      22589 non-null  object \n",
            " 3   Age                         22589 non-null  object \n",
            " 4   Occupation                  22588 non-null  float64\n",
            " 5   City_Category               22588 non-null  object \n",
            " 6   Stay_In_Current_City_Years  22588 non-null  object \n",
            " 7   Marital_Status              22588 non-null  float64\n",
            " 8   Product_Category_1          22588 non-null  float64\n",
            " 9   Product_Category_2          15374 non-null  float64\n",
            " 10  Product_Category_3          6786 non-null   float64\n",
            " 11  Purchase                    22588 non-null  float64\n",
            "dtypes: float64(6), int64(1), object(5)\n",
            "memory usage: 2.1+ MB\n"
          ]
        }
      ],
      "source": [
        "df.info()"
      ]
    },
    {
      "cell_type": "markdown",
      "metadata": {
        "id": "hmoMIRxQBeBY"
      },
      "source": [
        "\n",
        "\n",
        "*  There are quite a null values in Productcategory3 column\n",
        "*   Sort with the null values inthe product category 3 columns\n",
        "\n",
        "\n",
        "*   Work with the nulls\n",
        "*   \n",
        "\n",
        "*  Stay in current  city years Needs to be converted into numeric columns\n",
        "*   Needs to encode\n",
        "\n",
        "\n",
        "\n",
        "\n",
        "\n"
      ]
    },
    {
      "cell_type": "code",
      "execution_count": null,
      "metadata": {
        "colab": {
          "base_uri": "https://localhost:8080/"
        },
        "id": "vv3YQ0WrEszW",
        "outputId": "d224a492-20a6-4825-82f4-464b6304aff1"
      },
      "outputs": [
        {
          "data": {
            "text/plain": [
              "Stay_In_Current_City_Years\n",
              "1     7919\n",
              "3     4112\n",
              "2     4023\n",
              "4+    3531\n",
              "0     3003\n",
              "Name: count, dtype: int64"
            ]
          },
          "execution_count": 61,
          "metadata": {},
          "output_type": "execute_result"
        }
      ],
      "source": [
        "df['Stay_In_Current_City_Years'].value_counts()"
      ]
    },
    {
      "cell_type": "code",
      "execution_count": null,
      "metadata": {
        "id": "5CvXhDW1uY9U"
      },
      "outputs": [],
      "source": [
        "#chaning the values for 4+ to 4\n",
        "df['Stay_In_Current_City_Years']=df['Stay_In_Current_City_Years'].replace('4+','4')"
      ]
    },
    {
      "cell_type": "code",
      "execution_count": null,
      "metadata": {
        "colab": {
          "base_uri": "https://localhost:8080/"
        },
        "id": "DGbFv3ZJuiEh",
        "outputId": "d2247528-c6fb-4695-a63f-01947d5a4b5e"
      },
      "outputs": [
        {
          "data": {
            "text/plain": [
              "Stay_In_Current_City_Years\n",
              "1    7919\n",
              "3    4112\n",
              "2    4023\n",
              "4    3531\n",
              "0    3003\n",
              "Name: count, dtype: int64"
            ]
          },
          "execution_count": 63,
          "metadata": {},
          "output_type": "execute_result"
        }
      ],
      "source": [
        "\n",
        "df['Stay_In_Current_City_Years'].value_counts()"
      ]
    },
    {
      "cell_type": "code",
      "execution_count": null,
      "metadata": {
        "id": "5mbusmN7uow0"
      },
      "outputs": [],
      "source": [
        "#change the datatype for the columns"
      ]
    },
    {
      "cell_type": "code",
      "execution_count": null,
      "metadata": {
        "id": "V1ePwyoHvEuL"
      },
      "outputs": [],
      "source": [
        "df['Stay_In_Current_City_Years']=pd.to_numeric(df['Stay_In_Current_City_Years'],errors='coerce')\n",
        "#errors=coerce will convert 4+ to Nan then it would change the data type to 4.Some datatypes do not get converted to numeric columns"
      ]
    },
    {
      "cell_type": "code",
      "execution_count": null,
      "metadata": {
        "colab": {
          "base_uri": "https://localhost:8080/"
        },
        "id": "rTYXQe0M0XFj",
        "outputId": "19ee9cd3-f699-406f-ef9f-e88508bd1670"
      },
      "outputs": [
        {
          "data": {
            "text/plain": [
              "Stay_In_Current_City_Years\n",
              "1.0    7919\n",
              "3.0    4112\n",
              "2.0    4023\n",
              "4.0    3531\n",
              "0.0    3003\n",
              "Name: count, dtype: int64"
            ]
          },
          "execution_count": 66,
          "metadata": {},
          "output_type": "execute_result"
        }
      ],
      "source": [
        "df['Stay_In_Current_City_Years'].value_counts()"
      ]
    },
    {
      "cell_type": "markdown",
      "metadata": {
        "id": "UiT-yfRm3vdz"
      },
      "source": [
        "Working with the null values"
      ]
    },
    {
      "cell_type": "code",
      "execution_count": null,
      "metadata": {
        "colab": {
          "base_uri": "https://localhost:8080/"
        },
        "id": "BugEF-8313C8",
        "outputId": "702c42ef-1dad-476a-a638-f9bcbf819069"
      },
      "outputs": [
        {
          "data": {
            "text/plain": [
              "User_ID                           0\n",
              "Product_ID                        0\n",
              "Gender                            0\n",
              "Age                               0\n",
              "Occupation                        1\n",
              "City_Category                     1\n",
              "Stay_In_Current_City_Years        1\n",
              "Marital_Status                    1\n",
              "Product_Category_1                1\n",
              "Product_Category_2             7215\n",
              "Product_Category_3            15803\n",
              "Purchase                          1\n",
              "dtype: int64"
            ]
          },
          "execution_count": 67,
          "metadata": {},
          "output_type": "execute_result"
        }
      ],
      "source": [
        "df.isnull().sum()"
      ]
    },
    {
      "cell_type": "code",
      "execution_count": null,
      "metadata": {
        "id": "S7HuRny48Lej"
      },
      "outputs": [],
      "source": [
        "df=df.dropna()"
      ]
    },
    {
      "cell_type": "code",
      "execution_count": null,
      "metadata": {
        "colab": {
          "base_uri": "https://localhost:8080/"
        },
        "id": "YgqvicRP8WC3",
        "outputId": "d81d005c-e261-485e-e312-5475890a5361"
      },
      "outputs": [
        {
          "data": {
            "text/plain": [
              "User_ID                       0\n",
              "Product_ID                    0\n",
              "Gender                        0\n",
              "Age                           0\n",
              "Occupation                    0\n",
              "City_Category                 0\n",
              "Stay_In_Current_City_Years    0\n",
              "Marital_Status                0\n",
              "Product_Category_1            0\n",
              "Product_Category_2            0\n",
              "Product_Category_3            0\n",
              "Purchase                      0\n",
              "dtype: int64"
            ]
          },
          "execution_count": 69,
          "metadata": {},
          "output_type": "execute_result"
        }
      ],
      "source": [
        "df.isnull().sum()"
      ]
    },
    {
      "cell_type": "markdown",
      "metadata": {
        "id": "tD_JvDLD-alW"
      },
      "source": [
        "Shape Inspection"
      ]
    },
    {
      "cell_type": "code",
      "execution_count": null,
      "metadata": {
        "colab": {
          "base_uri": "https://localhost:8080/"
        },
        "id": "Bh6hci6J8mcb",
        "outputId": "cb3fbc45-1066-403b-d4c7-40e7ce0cae7e"
      },
      "outputs": [
        {
          "name": "stdout",
          "output_type": "stream",
          "text": [
            "there are 6786rows and 12columns\n"
          ]
        }
      ],
      "source": [
        "a=df.shape\n",
        "print(f'there are {a[0]}rows and {a[1]}columns')"
      ]
    },
    {
      "cell_type": "markdown",
      "metadata": {
        "id": "9Yu3aazV_iiN"
      },
      "source": [
        "#Encoding of the data"
      ]
    },
    {
      "cell_type": "markdown",
      "metadata": {
        "id": "zbe4VPEvAU3G"
      },
      "source": [
        "Convert the categorical into numrical encoder"
      ]
    },
    {
      "cell_type": "markdown",
      "metadata": {
        "id": "s-SN4oyGAjWh"
      },
      "source": [
        "labelled encoder amd second is onehot encoder"
      ]
    },
    {
      "cell_type": "markdown",
      "metadata": {
        "id": "IsVbn5udEiir"
      },
      "source": [
        "![image.png](data:image/png;base64,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)"
      ]
    },
    {
      "cell_type": "code",
      "execution_count": null,
      "metadata": {
        "id": "0sY18noD_od6"
      },
      "outputs": [],
      "source": [
        "#ordered encoding means in the order in the sequence like low ,medium,high or 0,1,2  unordered means dog,cat, apple no order"
      ]
    },
    {
      "cell_type": "code",
      "execution_count": null,
      "metadata": {
        "id": "iEkuLQjw-eMZ"
      },
      "outputs": [],
      "source": [
        "#gender ,Age,City Category is having ordered category"
      ]
    },
    {
      "cell_type": "code",
      "execution_count": null,
      "metadata": {
        "id": "UBjDXOYJXeTT"
      },
      "outputs": [],
      "source": [
        "#creating a label encoder object\n",
        "le=LabelEncoder()"
      ]
    },
    {
      "cell_type": "code",
      "execution_count": null,
      "metadata": {
        "colab": {
          "base_uri": "https://localhost:8080/"
        },
        "id": "s8tnH9erZ0sY",
        "outputId": "145df975-a86e-4580-b894-437cd0ac476c"
      },
      "outputs": [
        {
          "data": {
            "text/plain": [
              "Gender\n",
              "M    5279\n",
              "F    1507\n",
              "Name: count, dtype: int64"
            ]
          },
          "execution_count": 74,
          "metadata": {},
          "output_type": "execute_result"
        }
      ],
      "source": [
        "df['Gender'].value_counts()"
      ]
    },
    {
      "cell_type": "code",
      "execution_count": null,
      "metadata": {
        "id": "N0cyAcVBZxYm"
      },
      "outputs": [],
      "source": [
        "df['Gender']=le.fit_transform(df['Gender'])\n"
      ]
    },
    {
      "cell_type": "code",
      "execution_count": null,
      "metadata": {
        "colab": {
          "base_uri": "https://localhost:8080/"
        },
        "id": "HOYCbAVIdlmJ",
        "outputId": "16d17813-95ac-4427-d5e3-67398d6f7e2f"
      },
      "outputs": [
        {
          "name": "stdout",
          "output_type": "stream",
          "text": [
            "Gender ['F' 'M']\n"
          ]
        }
      ],
      "source": [
        "print('Gender',le.classes_)"
      ]
    },
    {
      "cell_type": "code",
      "execution_count": null,
      "metadata": {
        "id": "hS3ylV4xfZr6"
      },
      "outputs": [],
      "source": [
        "label_mapping=dict(zip(le.classes_,le.transform(le.classes_)))"
      ]
    },
    {
      "cell_type": "code",
      "execution_count": null,
      "metadata": {
        "colab": {
          "base_uri": "https://localhost:8080/"
        },
        "id": "Vblo6Lkzf_Ne",
        "outputId": "c40cfebb-fea0-48ca-c1f2-6589c97c7cb2"
      },
      "outputs": [
        {
          "name": "stdout",
          "output_type": "stream",
          "text": [
            "label:F,encoded_values0\n",
            "label:M,encoded_values1\n"
          ]
        }
      ],
      "source": [
        "#print\n",
        "for label,encoded_values in label_mapping.items():\n",
        "  print(f'label:{label},encoded_values{encoded_values}')\n"
      ]
    },
    {
      "cell_type": "code",
      "execution_count": null,
      "metadata": {
        "colab": {
          "base_uri": "https://localhost:8080/"
        },
        "id": "VOA-OzjYhPTG",
        "outputId": "fb97b893-89ce-4f57-8323-d74129c58c4f"
      },
      "outputs": [
        {
          "data": {
            "text/plain": [
              "Gender\n",
              "1    5279\n",
              "0    1507\n",
              "Name: count, dtype: int64"
            ]
          },
          "execution_count": 79,
          "metadata": {},
          "output_type": "execute_result"
        }
      ],
      "source": [
        "df['Gender'].value_counts()"
      ]
    },
    {
      "cell_type": "code",
      "execution_count": null,
      "metadata": {
        "id": "6aTmRLjfsmUX"
      },
      "outputs": [],
      "source": [
        "#we would try to encode user_id column,we try to encodeproduct_id column , We try to encode agecolumn as well"
      ]
    },
    {
      "cell_type": "code",
      "execution_count": null,
      "metadata": {
        "id": "2TwqERz7u-pd"
      },
      "outputs": [],
      "source": [
        "#lets work with age columns  as well"
      ]
    },
    {
      "cell_type": "code",
      "execution_count": null,
      "metadata": {
        "colab": {
          "base_uri": "https://localhost:8080/"
        },
        "id": "V7oKvEnMxk1e",
        "outputId": "a0313c3d-dea5-4649-9dc6-e4b8514e63fc"
      },
      "outputs": [
        {
          "data": {
            "text/plain": [
              "Age\n",
              "26-35    2565\n",
              "18-25    1521\n",
              "36-45    1359\n",
              "46-50     468\n",
              "51-55     452\n",
              "55+       220\n",
              "0-17      201\n",
              "Name: count, dtype: int64"
            ]
          },
          "execution_count": 82,
          "metadata": {},
          "output_type": "execute_result"
        }
      ],
      "source": [
        "df['Age'].value_counts()"
      ]
    },
    {
      "cell_type": "code",
      "execution_count": null,
      "metadata": {
        "id": "v-PXYn85xrN0"
      },
      "outputs": [],
      "source": [
        "df['Age']=le.fit_transform(df['Age'])\n"
      ]
    },
    {
      "cell_type": "code",
      "execution_count": null,
      "metadata": {
        "colab": {
          "base_uri": "https://localhost:8080/"
        },
        "id": "WY2cjm9ux7v-",
        "outputId": "952af0e6-e788-4b66-be16-ed91eed8a4f9"
      },
      "outputs": [
        {
          "name": "stdout",
          "output_type": "stream",
          "text": [
            "Age ['0-17' '18-25' '26-35' '36-45' '46-50' '51-55' '55+']\n"
          ]
        }
      ],
      "source": [
        "print('Age',le.classes_)"
      ]
    },
    {
      "cell_type": "code",
      "execution_count": null,
      "metadata": {
        "colab": {
          "base_uri": "https://localhost:8080/"
        },
        "id": "AaIoSBd0yPac",
        "outputId": "b457cc60-2bef-4859-b940-121a1e185560"
      },
      "outputs": [
        {
          "data": {
            "text/plain": [
              "{'0-17': 0,\n",
              " '18-25': 1,\n",
              " '26-35': 2,\n",
              " '36-45': 3,\n",
              " '46-50': 4,\n",
              " '51-55': 5,\n",
              " '55+': 6}"
            ]
          },
          "execution_count": 85,
          "metadata": {},
          "output_type": "execute_result"
        }
      ],
      "source": [
        "label_mapping=dict(zip(le.classes_,le.transform(le.classes_)))\n",
        "label_mapping"
      ]
    },
    {
      "cell_type": "code",
      "execution_count": null,
      "metadata": {
        "id": "450QbZJezHuX"
      },
      "outputs": [],
      "source": []
    },
    {
      "cell_type": "markdown",
      "metadata": {
        "id": "RRxbpLJQBDcs"
      },
      "source": [
        "City Encoding"
      ]
    },
    {
      "cell_type": "code",
      "execution_count": null,
      "metadata": {
        "colab": {
          "base_uri": "https://localhost:8080/"
        },
        "id": "CtOMk4n6BGut",
        "outputId": "643d5b5a-76ed-447c-d6d6-ae73930b6a18"
      },
      "outputs": [
        {
          "data": {
            "text/plain": [
              "City_Category\n",
              "B    2808\n",
              "C    2246\n",
              "A    1732\n",
              "Name: count, dtype: int64"
            ]
          },
          "execution_count": 86,
          "metadata": {},
          "output_type": "execute_result"
        }
      ],
      "source": [
        "df['City_Category'].value_counts()"
      ]
    },
    {
      "cell_type": "code",
      "execution_count": null,
      "metadata": {
        "id": "ZbWZWDbLBGrj"
      },
      "outputs": [],
      "source": [
        "df['City_Category']=le.fit_transform(df['City_Category'])"
      ]
    },
    {
      "cell_type": "code",
      "execution_count": null,
      "metadata": {
        "colab": {
          "base_uri": "https://localhost:8080/"
        },
        "id": "q3W52yAfBGmR",
        "outputId": "a4c5ff07-9786-475a-ddb0-cd6218f3128d"
      },
      "outputs": [
        {
          "data": {
            "text/plain": [
              "{'A': 0, 'B': 1, 'C': 2}"
            ]
          },
          "execution_count": 88,
          "metadata": {},
          "output_type": "execute_result"
        }
      ],
      "source": [
        "label_mapping=dict(zip(le.classes_,le.transform(le.classes_)))\n",
        "label_mapping"
      ]
    },
    {
      "cell_type": "code",
      "execution_count": null,
      "metadata": {
        "id": "VFTFpJW4CasP"
      },
      "outputs": [],
      "source": [
        "df['Product_ID ']=le.fit_transform(df['Product_ID'])\n"
      ]
    },
    {
      "cell_type": "code",
      "execution_count": null,
      "metadata": {
        "colab": {
          "base_uri": "https://localhost:8080/"
        },
        "id": "ncrMkABTFH1Q",
        "outputId": "11883430-3b86-40d8-f18e-28570ab442e9"
      },
      "outputs": [
        {
          "data": {
            "text/plain": [
              "{'P00000142': 0,\n",
              " 'P00000242': 1,\n",
              " 'P00000642': 2,\n",
              " 'P00001042': 3,\n",
              " 'P00001142': 4,\n",
              " 'P00001542': 5,\n",
              " 'P00002142': 6,\n",
              " 'P00002242': 7,\n",
              " 'P00003442': 8,\n",
              " 'P00004242': 9,\n",
              " 'P00004842': 10,\n",
              " 'P00005942': 11,\n",
              " 'P00006942': 12,\n",
              " 'P00008042': 13,\n",
              " 'P00010542': 14,\n",
              " 'P00010742': 15,\n",
              " 'P00010942': 16,\n",
              " 'P00011942': 17,\n",
              " 'P00012242': 18,\n",
              " 'P00014642': 19,\n",
              " 'P00014842': 20,\n",
              " 'P00015542': 21,\n",
              " 'P00015642': 22,\n",
              " 'P00015842': 23,\n",
              " 'P00015942': 24,\n",
              " 'P00016342': 25,\n",
              " 'P00016442': 26,\n",
              " 'P00016542': 27,\n",
              " 'P00016742': 28,\n",
              " 'P00016842': 29,\n",
              " 'P00019042': 30,\n",
              " 'P00019342': 31,\n",
              " 'P00021842': 32,\n",
              " 'P00023342': 33,\n",
              " 'P00024142': 34,\n",
              " 'P00025242': 35,\n",
              " 'P00025342': 36,\n",
              " 'P00025442': 37,\n",
              " 'P00026042': 38,\n",
              " 'P00028442': 39,\n",
              " 'P00028542': 40,\n",
              " 'P00029542': 41,\n",
              " 'P00030842': 42,\n",
              " 'P00030942': 43,\n",
              " 'P00031842': 44,\n",
              " 'P00032042': 45,\n",
              " 'P00034042': 46,\n",
              " 'P00034142': 47,\n",
              " 'P00034242': 48,\n",
              " 'P00034442': 49,\n",
              " 'P00034742': 50,\n",
              " 'P00035042': 51,\n",
              " 'P00035342': 52,\n",
              " 'P00035542': 53,\n",
              " 'P00035842': 54,\n",
              " 'P00035942': 55,\n",
              " 'P00036842': 56,\n",
              " 'P00037142': 57,\n",
              " 'P00038142': 58,\n",
              " 'P00041342': 59,\n",
              " 'P00041442': 60,\n",
              " 'P00042142': 61,\n",
              " 'P00043842': 62,\n",
              " 'P00044242': 63,\n",
              " 'P00045042': 64,\n",
              " 'P00045142': 65,\n",
              " 'P00045342': 66,\n",
              " 'P00046742': 67,\n",
              " 'P00048042': 68,\n",
              " 'P00048342': 69,\n",
              " 'P00050342': 70,\n",
              " 'P00050442': 71,\n",
              " 'P00051942': 72,\n",
              " 'P00053042': 73,\n",
              " 'P00053342': 74,\n",
              " 'P00053442': 75,\n",
              " 'P00053842': 76,\n",
              " 'P00053942': 77,\n",
              " 'P00054242': 78,\n",
              " 'P00054542': 79,\n",
              " 'P00057442': 80,\n",
              " 'P00057542': 81,\n",
              " 'P00057642': 82,\n",
              " 'P00057742': 83,\n",
              " 'P00057942': 84,\n",
              " 'P00058142': 85,\n",
              " 'P00058242': 86,\n",
              " 'P00059442': 87,\n",
              " 'P00059642': 88,\n",
              " 'P00059742': 89,\n",
              " 'P00061342': 90,\n",
              " 'P00062842': 91,\n",
              " 'P00063342': 92,\n",
              " 'P00064042': 93,\n",
              " 'P00065242': 94,\n",
              " 'P00066242': 95,\n",
              " 'P00066542': 96,\n",
              " 'P00067842': 97,\n",
              " 'P00070042': 98,\n",
              " 'P00070342': 99,\n",
              " 'P00070942': 100,\n",
              " 'P00071242': 101,\n",
              " 'P00073842': 102,\n",
              " 'P00074142': 103,\n",
              " 'P00074642': 104,\n",
              " 'P00075342': 105,\n",
              " 'P00076542': 106,\n",
              " 'P00078542': 107,\n",
              " 'P00078742': 108,\n",
              " 'P00079742': 109,\n",
              " 'P00080342': 110,\n",
              " 'P00081142': 111,\n",
              " 'P00082742': 112,\n",
              " 'P00083342': 113,\n",
              " 'P00084742': 114,\n",
              " 'P00085142': 115,\n",
              " 'P00085242': 116,\n",
              " 'P00085942': 117,\n",
              " 'P00086042': 118,\n",
              " 'P00086442': 119,\n",
              " 'P00087042': 120,\n",
              " 'P00087142': 121,\n",
              " 'P00087342': 122,\n",
              " 'P00088242': 123,\n",
              " 'P00088542': 124,\n",
              " 'P00088642': 125,\n",
              " 'P00090942': 126,\n",
              " 'P00093342': 127,\n",
              " 'P00100442': 128,\n",
              " 'P00102342': 129,\n",
              " 'P00102642': 130,\n",
              " 'P00105142': 131,\n",
              " 'P00105342': 132,\n",
              " 'P00107142': 133,\n",
              " 'P00108542': 134,\n",
              " 'P00109242': 135,\n",
              " 'P00109542': 136,\n",
              " 'P00110742': 137,\n",
              " 'P00110842': 138,\n",
              " 'P00111142': 139,\n",
              " 'P00111642': 140,\n",
              " 'P00112142': 141,\n",
              " 'P00112242': 142,\n",
              " 'P00112542': 143,\n",
              " 'P00112642': 144,\n",
              " 'P00113142': 145,\n",
              " 'P00113242': 146,\n",
              " 'P00113342': 147,\n",
              " 'P00113842': 148,\n",
              " 'P00114342': 149,\n",
              " 'P00114942': 150,\n",
              " 'P00115142': 151,\n",
              " 'P00115342': 152,\n",
              " 'P00115742': 153,\n",
              " 'P00116142': 154,\n",
              " 'P00116842': 155,\n",
              " 'P00116942': 156,\n",
              " 'P00117042': 157,\n",
              " 'P00117342': 158,\n",
              " 'P00117842': 159,\n",
              " 'P00118342': 160,\n",
              " 'P00118642': 161,\n",
              " 'P00119142': 162,\n",
              " 'P00119642': 163,\n",
              " 'P00119742': 164,\n",
              " 'P00120742': 165,\n",
              " 'P00121342': 166,\n",
              " 'P00122442': 167,\n",
              " 'P00125942': 168,\n",
              " 'P00126242': 169,\n",
              " 'P00127342': 170,\n",
              " 'P00127442': 171,\n",
              " 'P00127542': 172,\n",
              " 'P00127642': 173,\n",
              " 'P00127742': 174,\n",
              " 'P00127842': 175,\n",
              " 'P00127942': 176,\n",
              " 'P00128042': 177,\n",
              " 'P00128142': 178,\n",
              " 'P00128242': 179,\n",
              " 'P00128342': 180,\n",
              " 'P00129342': 181,\n",
              " 'P00129842': 182,\n",
              " 'P00130742': 183,\n",
              " 'P00131442': 184,\n",
              " 'P00135242': 185,\n",
              " 'P00136242': 186,\n",
              " 'P00136742': 187,\n",
              " 'P00136842': 188,\n",
              " 'P00137542': 189,\n",
              " 'P00137642': 190,\n",
              " 'P00138042': 191,\n",
              " 'P00138442': 192,\n",
              " 'P00140442': 193,\n",
              " 'P00141942': 194,\n",
              " 'P00142142': 195,\n",
              " 'P00142842': 196,\n",
              " 'P00142942': 197,\n",
              " 'P00143342': 198,\n",
              " 'P00143642': 199,\n",
              " 'P00144042': 200,\n",
              " 'P00144642': 201,\n",
              " 'P00145042': 202,\n",
              " 'P00145642': 203,\n",
              " 'P00145942': 204,\n",
              " 'P00146042': 205,\n",
              " 'P00146142': 206,\n",
              " 'P00146742': 207,\n",
              " 'P00146842': 208,\n",
              " 'P00147142': 209,\n",
              " 'P00148542': 210,\n",
              " 'P00148642': 211,\n",
              " 'P00148842': 212,\n",
              " 'P00149442': 213,\n",
              " 'P00149542': 214,\n",
              " 'P00150842': 215,\n",
              " 'P00150942': 216,\n",
              " 'P00151242': 217,\n",
              " 'P00151742': 218,\n",
              " 'P00151842': 219,\n",
              " 'P00153842': 220,\n",
              " 'P00154042': 221,\n",
              " 'P00154742': 222,\n",
              " 'P00155242': 223,\n",
              " 'P00155442': 224,\n",
              " 'P00156242': 225,\n",
              " 'P00156742': 226,\n",
              " 'P00157642': 227,\n",
              " 'P00158542': 228,\n",
              " 'P00159242': 229,\n",
              " 'P00159542': 230,\n",
              " 'P00160042': 231,\n",
              " 'P00160642': 232,\n",
              " 'P00161242': 233,\n",
              " 'P00161542': 234,\n",
              " 'P00161842': 235,\n",
              " 'P00163242': 236,\n",
              " 'P00163442': 237,\n",
              " 'P00163542': 238,\n",
              " 'P00163742': 239,\n",
              " 'P00164042': 240,\n",
              " 'P00165442': 241,\n",
              " 'P00165642': 242,\n",
              " 'P00166942': 243,\n",
              " 'P00169742': 244,\n",
              " 'P00170242': 245,\n",
              " 'P00170942': 246,\n",
              " 'P00171542': 247,\n",
              " 'P00171642': 248,\n",
              " 'P00173042': 249,\n",
              " 'P00173142': 250,\n",
              " 'P00173342': 251,\n",
              " 'P00173742': 252,\n",
              " 'P00173842': 253,\n",
              " 'P00173942': 254,\n",
              " 'P00174142': 255,\n",
              " 'P00176542': 256,\n",
              " 'P00177442': 257,\n",
              " 'P00178842': 258,\n",
              " 'P00182142': 259,\n",
              " 'P00182242': 260,\n",
              " 'P00182342': 261,\n",
              " 'P00182642': 262,\n",
              " 'P00182742': 263,\n",
              " 'P00182942': 264,\n",
              " 'P00183342': 265,\n",
              " 'P00183642': 266,\n",
              " 'P00183742': 267,\n",
              " 'P00183842': 268,\n",
              " 'P00184442': 269,\n",
              " 'P00184942': 270,\n",
              " 'P00185842': 271,\n",
              " 'P00186142': 272,\n",
              " 'P00186342': 273,\n",
              " 'P00186542': 274,\n",
              " 'P00186642': 275,\n",
              " 'P00187042': 276,\n",
              " 'P00187142': 277,\n",
              " 'P00187342': 278,\n",
              " 'P00187442': 279,\n",
              " 'P00188542': 280,\n",
              " 'P00188742': 281,\n",
              " 'P00189842': 282,\n",
              " 'P00190042': 283,\n",
              " 'P00190142': 284,\n",
              " 'P00190742': 285,\n",
              " 'P00190842': 286,\n",
              " 'P00191242': 287,\n",
              " 'P00191342': 288,\n",
              " 'P00191442': 289,\n",
              " 'P00191642': 290,\n",
              " 'P00191942': 291,\n",
              " 'P00192042': 292,\n",
              " 'P00192242': 293,\n",
              " 'P00192542': 294,\n",
              " 'P00193042': 295,\n",
              " 'P00193642': 296,\n",
              " 'P00194642': 297,\n",
              " 'P00195042': 298,\n",
              " 'P00195842': 299,\n",
              " 'P00196042': 300,\n",
              " 'P00196142': 301,\n",
              " 'P00196242': 302,\n",
              " 'P00196342': 303,\n",
              " 'P00196542': 304,\n",
              " 'P00198142': 305,\n",
              " 'P00198242': 306,\n",
              " 'P00198742': 307,\n",
              " 'P00199142': 308,\n",
              " 'P00199342': 309,\n",
              " 'P00200242': 310,\n",
              " 'P00201342': 311,\n",
              " 'P00201442': 312,\n",
              " 'P00202142': 313,\n",
              " 'P00202742': 314,\n",
              " 'P00205442': 315,\n",
              " 'P00205942': 316,\n",
              " 'P00206442': 317,\n",
              " 'P00207342': 318,\n",
              " 'P00208442': 319,\n",
              " 'P00208742': 320,\n",
              " 'P00209642': 321,\n",
              " 'P00209742': 322,\n",
              " 'P00213042': 323,\n",
              " 'P00214642': 324,\n",
              " 'P00215242': 325,\n",
              " 'P00216242': 326,\n",
              " 'P00216342': 327,\n",
              " 'P00217442': 328,\n",
              " 'P00217542': 329,\n",
              " 'P00217642': 330,\n",
              " 'P00217842': 331,\n",
              " 'P00219742': 332,\n",
              " 'P00220742': 333,\n",
              " 'P00221342': 334,\n",
              " 'P00221442': 335,\n",
              " 'P00222242': 336,\n",
              " 'P00222942': 337,\n",
              " 'P00223042': 338,\n",
              " 'P00223542': 339,\n",
              " 'P00223742': 340,\n",
              " 'P00223842': 341,\n",
              " 'P00225842': 342,\n",
              " 'P00227642': 343,\n",
              " 'P00228342': 344,\n",
              " 'P00229642': 345,\n",
              " 'P00231342': 346,\n",
              " 'P00233142': 347,\n",
              " 'P00233342': 348,\n",
              " 'P00233442': 349,\n",
              " 'P00234642': 350,\n",
              " 'P00234842': 351,\n",
              " 'P00235842': 352,\n",
              " 'P00235942': 353,\n",
              " 'P00237542': 354,\n",
              " 'P00239242': 355,\n",
              " 'P00239742': 356,\n",
              " 'P00240242': 357,\n",
              " 'P00241242': 358,\n",
              " 'P00241342': 359,\n",
              " 'P00241642': 360,\n",
              " 'P00242542': 361,\n",
              " 'P00242742': 362,\n",
              " 'P00243942': 363,\n",
              " 'P00244042': 364,\n",
              " 'P00244142': 365,\n",
              " 'P00244242': 366,\n",
              " 'P00245642': 367,\n",
              " 'P00246142': 368,\n",
              " 'P00247142': 369,\n",
              " 'P00247942': 370,\n",
              " 'P00248942': 371,\n",
              " 'P00249542': 372,\n",
              " 'P00249742': 373,\n",
              " 'P00251642': 374,\n",
              " 'P00251842': 375,\n",
              " 'P00251942': 376,\n",
              " 'P00253142': 377,\n",
              " 'P00254242': 378,\n",
              " 'P00256042': 379,\n",
              " 'P00259842': 380,\n",
              " 'P00262242': 381,\n",
              " 'P00264542': 382,\n",
              " 'P00266642': 383,\n",
              " 'P00266742': 384,\n",
              " 'P00266942': 385,\n",
              " 'P00267342': 386,\n",
              " 'P00269342': 387,\n",
              " 'P00270542': 388,\n",
              " 'P00270942': 389,\n",
              " 'P00273442': 390,\n",
              " 'P00274342': 391,\n",
              " 'P00274842': 392,\n",
              " 'P00275842': 393,\n",
              " 'P00277442': 394,\n",
              " 'P00277542': 395,\n",
              " 'P00277642': 396,\n",
              " 'P00278942': 397,\n",
              " 'P00281742': 398,\n",
              " 'P00282242': 399,\n",
              " 'P00282442': 400,\n",
              " 'P00283142': 401,\n",
              " 'P00284842': 402,\n",
              " 'P00285642': 403,\n",
              " 'P00288942': 404,\n",
              " 'P00289342': 405,\n",
              " 'P00289942': 406,\n",
              " 'P00290242': 407,\n",
              " 'P00293842': 408,\n",
              " 'P00294142': 409,\n",
              " 'P00294442': 410,\n",
              " 'P00295942': 411,\n",
              " 'P00296042': 412,\n",
              " 'P00303442': 413,\n",
              " 'P00303842': 414,\n",
              " 'P00304342': 415,\n",
              " 'P00304642': 416,\n",
              " 'P00305042': 417,\n",
              " 'P00308242': 418,\n",
              " 'P00310842': 419,\n",
              " 'P00313442': 420,\n",
              " 'P00313842': 421,\n",
              " 'P00317642': 422,\n",
              " 'P00318642': 423,\n",
              " 'P00320742': 424,\n",
              " 'P00320842': 425,\n",
              " 'P00320942': 426,\n",
              " 'P00321742': 427,\n",
              " 'P00322942': 428,\n",
              " 'P00324442': 429,\n",
              " 'P00324742': 430,\n",
              " 'P00328942': 431,\n",
              " 'P00329542': 432,\n",
              " 'P00329942': 433,\n",
              " 'P00330342': 434,\n",
              " 'P00334042': 435,\n",
              " 'P00334642': 436,\n",
              " 'P00338942': 437,\n",
              " 'P00339842': 438,\n",
              " 'P00340342': 439,\n",
              " 'P00341342': 440,\n",
              " 'P00341942': 441,\n",
              " 'P00342042': 442,\n",
              " 'P00342142': 443,\n",
              " 'P00342242': 444,\n",
              " 'P00342342': 445,\n",
              " 'P00342442': 446,\n",
              " 'P00344442': 447,\n",
              " 'P00345642': 448,\n",
              " 'P00345742': 449,\n",
              " 'P00345842': 450,\n",
              " 'P00346042': 451,\n",
              " 'P00346442': 452,\n",
              " 'P00346542': 453,\n",
              " 'P00350442': 454,\n",
              " 'P00350942': 455,\n",
              " 'P00351142': 456,\n",
              " 'P00351242': 457,\n",
              " 'P00351342': 458,\n",
              " 'P00351642': 459,\n",
              " 'P00352142': 460,\n",
              " 'P00352242': 461,\n",
              " 'P00352842': 462,\n",
              " 'P00358342': 463,\n",
              " 'P00359042': 464,\n",
              " 'P00359242': 465,\n",
              " 'P00361942': 466,\n",
              " 'P00363242': 467,\n",
              " 'P00364442': 468,\n",
              " 'P00369942': 469,\n",
              " 'P00370042': 470,\n",
              " 'P0094342': 471,\n",
              " 'P0094542': 472,\n",
              " 'P0094742': 473,\n",
              " 'P0095442': 474,\n",
              " 'P0095542': 475,\n",
              " 'P0095842': 476,\n",
              " 'P0096042': 477,\n",
              " 'P0096442': 478,\n",
              " 'P0096542': 479,\n",
              " 'P0096642': 480,\n",
              " 'P0096742': 481,\n",
              " 'P0096842': 482,\n",
              " 'P0097342': 483,\n",
              " 'P0099042': 484,\n",
              " 'P0099742': 485,\n",
              " 'P0099842': 486,\n",
              " 'P0099942': 487}"
            ]
          },
          "execution_count": 90,
          "metadata": {},
          "output_type": "execute_result"
        }
      ],
      "source": [
        "label_mapping=dict(zip(le.classes_,le.transform(le.classes_)))\n",
        "label_mapping"
      ]
    },
    {
      "cell_type": "markdown",
      "metadata": {
        "id": "Vkr-JZhMLmPY"
      },
      "source": [
        "#We have completed the eda part or preprocessing the data"
      ]
    },
    {
      "cell_type": "markdown",
      "metadata": {
        "id": "G7Jufam7LyaS"
      },
      "source": [
        "Statistical Summary"
      ]
    },
    {
      "cell_type": "code",
      "execution_count": null,
      "metadata": {
        "colab": {
          "base_uri": "https://localhost:8080/",
          "height": 320
        },
        "id": "ZxgaQkaoFMCH",
        "outputId": "0cd1c792-d347-47ac-a965-8eb9aa4135bf"
      },
      "outputs": [
        {
          "data": {
            "application/vnd.google.colaboratory.intrinsic+json": {
              "summary": "{\n  \"name\": \"df\",\n  \"rows\": 8,\n  \"fields\": [\n    {\n      \"column\": \"User_ID\",\n      \"properties\": {\n        \"dtype\": \"number\",\n        \"std\": 461920.3084117348,\n        \"min\": 1021.9523596394744,\n        \"max\": 1003539.0,\n        \"num_unique_values\": 8,\n        \"samples\": [\n          1001755.3420277041,\n          1001698.0,\n          6786.0\n        ],\n        \"semantic_type\": \"\",\n        \"description\": \"\"\n      }\n    },\n    {\n      \"column\": \"Gender\",\n      \"properties\": {\n        \"dtype\": \"number\",\n        \"std\": 2398.9510198356484,\n        \"min\": 0.0,\n        \"max\": 6786.0,\n        \"num_unique_values\": 5,\n        \"samples\": [\n          0.7779251399941055,\n          1.0,\n          0.4156718396242554\n        ],\n        \"semantic_type\": \"\",\n        \"description\": \"\"\n      }\n    },\n    {\n      \"column\": \"Age\",\n      \"properties\": {\n        \"dtype\": \"number\",\n        \"std\": 2398.4198857203282,\n        \"min\": 0.0,\n        \"max\": 6786.0,\n        \"num_unique_values\": 8,\n        \"samples\": [\n          2.384320660182729,\n          2.0,\n          6786.0\n        ],\n        \"semantic_type\": \"\",\n        \"description\": \"\"\n      }\n    },\n    {\n      \"column\": \"Occupation\",\n      \"properties\": {\n        \"dtype\": \"number\",\n        \"std\": 2396.2502118994585,\n        \"min\": 0.0,\n        \"max\": 6786.0,\n        \"num_unique_values\": 8,\n        \"samples\": [\n          8.300618921308576,\n          7.0,\n          6786.0\n        ],\n        \"semantic_type\": \"\",\n        \"description\": \"\"\n      }\n    },\n    {\n      \"column\": \"City_Category\",\n      \"properties\": {\n        \"dtype\": \"number\",\n        \"std\": 2398.868074122718,\n        \"min\": 0.0,\n        \"max\": 6786.0,\n        \"num_unique_values\": 6,\n        \"samples\": [\n          6786.0,\n          1.0757441791924551,\n          2.0\n        ],\n        \"semantic_type\": \"\",\n        \"description\": \"\"\n      }\n    },\n    {\n      \"column\": \"Stay_In_Current_City_Years\",\n      \"properties\": {\n        \"dtype\": \"number\",\n        \"std\": 2398.548700226138,\n        \"min\": 0.0,\n        \"max\": 6786.0,\n        \"num_unique_values\": 8,\n        \"samples\": [\n          1.875626289419393,\n          2.0,\n          6786.0\n        ],\n        \"semantic_type\": \"\",\n        \"description\": \"\"\n      }\n    },\n    {\n      \"column\": \"Marital_Status\",\n      \"properties\": {\n        \"dtype\": \"number\",\n        \"std\": 2399.0681089358436,\n        \"min\": 0.0,\n        \"max\": 6786.0,\n        \"num_unique_values\": 5,\n        \"samples\": [\n          0.3881520778072502,\n          1.0,\n          0.4873654116965607\n        ],\n        \"semantic_type\": \"\",\n        \"description\": \"\"\n      }\n    },\n    {\n      \"column\": \"Product_Category_1\",\n      \"properties\": {\n        \"dtype\": \"number\",\n        \"std\": 2397.836711725498,\n        \"min\": 1.0,\n        \"max\": 6786.0,\n        \"num_unique_values\": 6,\n        \"samples\": [\n          6786.0,\n          2.754936634246979,\n          15.0\n        ],\n        \"semantic_type\": \"\",\n        \"description\": \"\"\n      }\n    },\n    {\n      \"column\": \"Product_Category_2\",\n      \"properties\": {\n        \"dtype\": \"number\",\n        \"std\": 2396.8197359146907,\n        \"min\": 2.0,\n        \"max\": 6786.0,\n        \"num_unique_values\": 7,\n        \"samples\": [\n          6786.0,\n          6.963159445918067,\n          10.0\n        ],\n        \"semantic_type\": \"\",\n        \"description\": \"\"\n      }\n    },\n    {\n      \"column\": \"Product_Category_3\",\n      \"properties\": {\n        \"dtype\": \"number\",\n        \"std\": 2395.287577963591,\n        \"min\": 3.0,\n        \"max\": 6786.0,\n        \"num_unique_values\": 8,\n        \"samples\": [\n          12.735779546124373,\n          15.0,\n          6786.0\n        ],\n        \"semantic_type\": \"\",\n        \"description\": \"\"\n      }\n    },\n    {\n      \"column\": \"Purchase\",\n      \"properties\": {\n        \"dtype\": \"number\",\n        \"std\": 7233.225488599632,\n        \"min\": 186.0,\n        \"max\": 23958.0,\n        \"num_unique_values\": 8,\n        \"samples\": [\n          11619.371500147363,\n          11703.0,\n          6786.0\n        ],\n        \"semantic_type\": \"\",\n        \"description\": \"\"\n      }\n    },\n    {\n      \"column\": \"Product_ID \",\n      \"properties\": {\n        \"dtype\": \"number\",\n        \"std\": 2328.63874848404,\n        \"min\": 0.0,\n        \"max\": 6786.0,\n        \"num_unique_values\": 8,\n        \"samples\": [\n          219.6205422929561,\n          198.0,\n          6786.0\n        ],\n        \"semantic_type\": \"\",\n        \"description\": \"\"\n      }\n    }\n  ]\n}",
              "type": "dataframe"
            },
            "text/html": [
              "\n",
              "  <div id=\"df-60e27ac1-8e66-4b6f-948e-083cd9b79bf8\" class=\"colab-df-container\">\n",
              "    <div>\n",
              "<style scoped>\n",
              "    .dataframe tbody tr th:only-of-type {\n",
              "        vertical-align: middle;\n",
              "    }\n",
              "\n",
              "    .dataframe tbody tr th {\n",
              "        vertical-align: top;\n",
              "    }\n",
              "\n",
              "    .dataframe thead th {\n",
              "        text-align: right;\n",
              "    }\n",
              "</style>\n",
              "<table border=\"1\" class=\"dataframe\">\n",
              "  <thead>\n",
              "    <tr style=\"text-align: right;\">\n",
              "      <th></th>\n",
              "      <th>User_ID</th>\n",
              "      <th>Gender</th>\n",
              "      <th>Age</th>\n",
              "      <th>Occupation</th>\n",
              "      <th>City_Category</th>\n",
              "      <th>Stay_In_Current_City_Years</th>\n",
              "      <th>Marital_Status</th>\n",
              "      <th>Product_Category_1</th>\n",
              "      <th>Product_Category_2</th>\n",
              "      <th>Product_Category_3</th>\n",
              "      <th>Purchase</th>\n",
              "      <th>Product_ID</th>\n",
              "    </tr>\n",
              "  </thead>\n",
              "  <tbody>\n",
              "    <tr>\n",
              "      <th>count</th>\n",
              "      <td>6.786000e+03</td>\n",
              "      <td>6786.000000</td>\n",
              "      <td>6786.000000</td>\n",
              "      <td>6786.000000</td>\n",
              "      <td>6786.000000</td>\n",
              "      <td>6786.000000</td>\n",
              "      <td>6786.000000</td>\n",
              "      <td>6786.000000</td>\n",
              "      <td>6786.000000</td>\n",
              "      <td>6786.000000</td>\n",
              "      <td>6786.000000</td>\n",
              "      <td>6786.000000</td>\n",
              "    </tr>\n",
              "    <tr>\n",
              "      <th>mean</th>\n",
              "      <td>1.001755e+06</td>\n",
              "      <td>0.777925</td>\n",
              "      <td>2.384321</td>\n",
              "      <td>8.300619</td>\n",
              "      <td>1.075744</td>\n",
              "      <td>1.875626</td>\n",
              "      <td>0.388152</td>\n",
              "      <td>2.754937</td>\n",
              "      <td>6.963159</td>\n",
              "      <td>12.735780</td>\n",
              "      <td>11619.371500</td>\n",
              "      <td>219.620542</td>\n",
              "    </tr>\n",
              "    <tr>\n",
              "      <th>std</th>\n",
              "      <td>1.021952e+03</td>\n",
              "      <td>0.415672</td>\n",
              "      <td>1.337718</td>\n",
              "      <td>6.525713</td>\n",
              "      <td>0.761942</td>\n",
              "      <td>1.289092</td>\n",
              "      <td>0.487365</td>\n",
              "      <td>2.589630</td>\n",
              "      <td>4.513809</td>\n",
              "      <td>4.112731</td>\n",
              "      <td>5061.668049</td>\n",
              "      <td>137.747442</td>\n",
              "    </tr>\n",
              "    <tr>\n",
              "      <th>min</th>\n",
              "      <td>1.000001e+06</td>\n",
              "      <td>0.000000</td>\n",
              "      <td>0.000000</td>\n",
              "      <td>0.000000</td>\n",
              "      <td>0.000000</td>\n",
              "      <td>0.000000</td>\n",
              "      <td>0.000000</td>\n",
              "      <td>1.000000</td>\n",
              "      <td>2.000000</td>\n",
              "      <td>3.000000</td>\n",
              "      <td>186.000000</td>\n",
              "      <td>0.000000</td>\n",
              "    </tr>\n",
              "    <tr>\n",
              "      <th>25%</th>\n",
              "      <td>1.000890e+06</td>\n",
              "      <td>1.000000</td>\n",
              "      <td>1.000000</td>\n",
              "      <td>3.000000</td>\n",
              "      <td>0.000000</td>\n",
              "      <td>1.000000</td>\n",
              "      <td>0.000000</td>\n",
              "      <td>1.000000</td>\n",
              "      <td>2.000000</td>\n",
              "      <td>9.000000</td>\n",
              "      <td>7886.500000</td>\n",
              "      <td>106.000000</td>\n",
              "    </tr>\n",
              "    <tr>\n",
              "      <th>50%</th>\n",
              "      <td>1.001698e+06</td>\n",
              "      <td>1.000000</td>\n",
              "      <td>2.000000</td>\n",
              "      <td>7.000000</td>\n",
              "      <td>1.000000</td>\n",
              "      <td>2.000000</td>\n",
              "      <td>0.000000</td>\n",
              "      <td>1.000000</td>\n",
              "      <td>6.000000</td>\n",
              "      <td>15.000000</td>\n",
              "      <td>11703.000000</td>\n",
              "      <td>198.000000</td>\n",
              "    </tr>\n",
              "    <tr>\n",
              "      <th>75%</th>\n",
              "      <td>1.002663e+06</td>\n",
              "      <td>1.000000</td>\n",
              "      <td>3.000000</td>\n",
              "      <td>14.000000</td>\n",
              "      <td>2.000000</td>\n",
              "      <td>3.000000</td>\n",
              "      <td>1.000000</td>\n",
              "      <td>4.000000</td>\n",
              "      <td>10.000000</td>\n",
              "      <td>16.000000</td>\n",
              "      <td>15601.000000</td>\n",
              "      <td>343.000000</td>\n",
              "    </tr>\n",
              "    <tr>\n",
              "      <th>max</th>\n",
              "      <td>1.003539e+06</td>\n",
              "      <td>1.000000</td>\n",
              "      <td>6.000000</td>\n",
              "      <td>20.000000</td>\n",
              "      <td>2.000000</td>\n",
              "      <td>4.000000</td>\n",
              "      <td>1.000000</td>\n",
              "      <td>15.000000</td>\n",
              "      <td>16.000000</td>\n",
              "      <td>18.000000</td>\n",
              "      <td>23958.000000</td>\n",
              "      <td>487.000000</td>\n",
              "    </tr>\n",
              "  </tbody>\n",
              "</table>\n",
              "</div>\n",
              "    <div class=\"colab-df-buttons\">\n",
              "\n",
              "  <div class=\"colab-df-container\">\n",
              "    <button class=\"colab-df-convert\" onclick=\"convertToInteractive('df-60e27ac1-8e66-4b6f-948e-083cd9b79bf8')\"\n",
              "            title=\"Convert this dataframe to an interactive table.\"\n",
              "            style=\"display:none;\">\n",
              "\n",
              "  <svg xmlns=\"http://www.w3.org/2000/svg\" height=\"24px\" viewBox=\"0 -960 960 960\">\n",
              "    <path d=\"M120-120v-720h720v720H120Zm60-500h600v-160H180v160Zm220 220h160v-160H400v160Zm0 220h160v-160H400v160ZM180-400h160v-160H180v160Zm440 0h160v-160H620v160ZM180-180h160v-160H180v160Zm440 0h160v-160H620v160Z\"/>\n",
              "  </svg>\n",
              "    </button>\n",
              "\n",
              "  <style>\n",
              "    .colab-df-container {\n",
              "      display:flex;\n",
              "      gap: 12px;\n",
              "    }\n",
              "\n",
              "    .colab-df-convert {\n",
              "      background-color: #E8F0FE;\n",
              "      border: none;\n",
              "      border-radius: 50%;\n",
              "      cursor: pointer;\n",
              "      display: none;\n",
              "      fill: #1967D2;\n",
              "      height: 32px;\n",
              "      padding: 0 0 0 0;\n",
              "      width: 32px;\n",
              "    }\n",
              "\n",
              "    .colab-df-convert:hover {\n",
              "      background-color: #E2EBFA;\n",
              "      box-shadow: 0px 1px 2px rgba(60, 64, 67, 0.3), 0px 1px 3px 1px rgba(60, 64, 67, 0.15);\n",
              "      fill: #174EA6;\n",
              "    }\n",
              "\n",
              "    .colab-df-buttons div {\n",
              "      margin-bottom: 4px;\n",
              "    }\n",
              "\n",
              "    [theme=dark] .colab-df-convert {\n",
              "      background-color: #3B4455;\n",
              "      fill: #D2E3FC;\n",
              "    }\n",
              "\n",
              "    [theme=dark] .colab-df-convert:hover {\n",
              "      background-color: #434B5C;\n",
              "      box-shadow: 0px 1px 3px 1px rgba(0, 0, 0, 0.15);\n",
              "      filter: drop-shadow(0px 1px 2px rgba(0, 0, 0, 0.3));\n",
              "      fill: #FFFFFF;\n",
              "    }\n",
              "  </style>\n",
              "\n",
              "    <script>\n",
              "      const buttonEl =\n",
              "        document.querySelector('#df-60e27ac1-8e66-4b6f-948e-083cd9b79bf8 button.colab-df-convert');\n",
              "      buttonEl.style.display =\n",
              "        google.colab.kernel.accessAllowed ? 'block' : 'none';\n",
              "\n",
              "      async function convertToInteractive(key) {\n",
              "        const element = document.querySelector('#df-60e27ac1-8e66-4b6f-948e-083cd9b79bf8');\n",
              "        const dataTable =\n",
              "          await google.colab.kernel.invokeFunction('convertToInteractive',\n",
              "                                                    [key], {});\n",
              "        if (!dataTable) return;\n",
              "\n",
              "        const docLinkHtml = 'Like what you see? Visit the ' +\n",
              "          '<a target=\"_blank\" href=https://colab.research.google.com/notebooks/data_table.ipynb>data table notebook</a>'\n",
              "          + ' to learn more about interactive tables.';\n",
              "        element.innerHTML = '';\n",
              "        dataTable['output_type'] = 'display_data';\n",
              "        await google.colab.output.renderOutput(dataTable, element);\n",
              "        const docLink = document.createElement('div');\n",
              "        docLink.innerHTML = docLinkHtml;\n",
              "        element.appendChild(docLink);\n",
              "      }\n",
              "    </script>\n",
              "  </div>\n",
              "\n",
              "\n",
              "<div id=\"df-96a44e36-b95a-4cfa-90ed-51d1746b018d\">\n",
              "  <button class=\"colab-df-quickchart\" onclick=\"quickchart('df-96a44e36-b95a-4cfa-90ed-51d1746b018d')\"\n",
              "            title=\"Suggest charts\"\n",
              "            style=\"display:none;\">\n",
              "\n",
              "<svg xmlns=\"http://www.w3.org/2000/svg\" height=\"24px\"viewBox=\"0 0 24 24\"\n",
              "     width=\"24px\">\n",
              "    <g>\n",
              "        <path d=\"M19 3H5c-1.1 0-2 .9-2 2v14c0 1.1.9 2 2 2h14c1.1 0 2-.9 2-2V5c0-1.1-.9-2-2-2zM9 17H7v-7h2v7zm4 0h-2V7h2v10zm4 0h-2v-4h2v4z\"/>\n",
              "    </g>\n",
              "</svg>\n",
              "  </button>\n",
              "\n",
              "<style>\n",
              "  .colab-df-quickchart {\n",
              "      --bg-color: #E8F0FE;\n",
              "      --fill-color: #1967D2;\n",
              "      --hover-bg-color: #E2EBFA;\n",
              "      --hover-fill-color: #174EA6;\n",
              "      --disabled-fill-color: #AAA;\n",
              "      --disabled-bg-color: #DDD;\n",
              "  }\n",
              "\n",
              "  [theme=dark] .colab-df-quickchart {\n",
              "      --bg-color: #3B4455;\n",
              "      --fill-color: #D2E3FC;\n",
              "      --hover-bg-color: #434B5C;\n",
              "      --hover-fill-color: #FFFFFF;\n",
              "      --disabled-bg-color: #3B4455;\n",
              "      --disabled-fill-color: #666;\n",
              "  }\n",
              "\n",
              "  .colab-df-quickchart {\n",
              "    background-color: var(--bg-color);\n",
              "    border: none;\n",
              "    border-radius: 50%;\n",
              "    cursor: pointer;\n",
              "    display: none;\n",
              "    fill: var(--fill-color);\n",
              "    height: 32px;\n",
              "    padding: 0;\n",
              "    width: 32px;\n",
              "  }\n",
              "\n",
              "  .colab-df-quickchart:hover {\n",
              "    background-color: var(--hover-bg-color);\n",
              "    box-shadow: 0 1px 2px rgba(60, 64, 67, 0.3), 0 1px 3px 1px rgba(60, 64, 67, 0.15);\n",
              "    fill: var(--button-hover-fill-color);\n",
              "  }\n",
              "\n",
              "  .colab-df-quickchart-complete:disabled,\n",
              "  .colab-df-quickchart-complete:disabled:hover {\n",
              "    background-color: var(--disabled-bg-color);\n",
              "    fill: var(--disabled-fill-color);\n",
              "    box-shadow: none;\n",
              "  }\n",
              "\n",
              "  .colab-df-spinner {\n",
              "    border: 2px solid var(--fill-color);\n",
              "    border-color: transparent;\n",
              "    border-bottom-color: var(--fill-color);\n",
              "    animation:\n",
              "      spin 1s steps(1) infinite;\n",
              "  }\n",
              "\n",
              "  @keyframes spin {\n",
              "    0% {\n",
              "      border-color: transparent;\n",
              "      border-bottom-color: var(--fill-color);\n",
              "      border-left-color: var(--fill-color);\n",
              "    }\n",
              "    20% {\n",
              "      border-color: transparent;\n",
              "      border-left-color: var(--fill-color);\n",
              "      border-top-color: var(--fill-color);\n",
              "    }\n",
              "    30% {\n",
              "      border-color: transparent;\n",
              "      border-left-color: var(--fill-color);\n",
              "      border-top-color: var(--fill-color);\n",
              "      border-right-color: var(--fill-color);\n",
              "    }\n",
              "    40% {\n",
              "      border-color: transparent;\n",
              "      border-right-color: var(--fill-color);\n",
              "      border-top-color: var(--fill-color);\n",
              "    }\n",
              "    60% {\n",
              "      border-color: transparent;\n",
              "      border-right-color: var(--fill-color);\n",
              "    }\n",
              "    80% {\n",
              "      border-color: transparent;\n",
              "      border-right-color: var(--fill-color);\n",
              "      border-bottom-color: var(--fill-color);\n",
              "    }\n",
              "    90% {\n",
              "      border-color: transparent;\n",
              "      border-bottom-color: var(--fill-color);\n",
              "    }\n",
              "  }\n",
              "</style>\n",
              "\n",
              "  <script>\n",
              "    async function quickchart(key) {\n",
              "      const quickchartButtonEl =\n",
              "        document.querySelector('#' + key + ' button');\n",
              "      quickchartButtonEl.disabled = true;  // To prevent multiple clicks.\n",
              "      quickchartButtonEl.classList.add('colab-df-spinner');\n",
              "      try {\n",
              "        const charts = await google.colab.kernel.invokeFunction(\n",
              "            'suggestCharts', [key], {});\n",
              "      } catch (error) {\n",
              "        console.error('Error during call to suggestCharts:', error);\n",
              "      }\n",
              "      quickchartButtonEl.classList.remove('colab-df-spinner');\n",
              "      quickchartButtonEl.classList.add('colab-df-quickchart-complete');\n",
              "    }\n",
              "    (() => {\n",
              "      let quickchartButtonEl =\n",
              "        document.querySelector('#df-96a44e36-b95a-4cfa-90ed-51d1746b018d button');\n",
              "      quickchartButtonEl.style.display =\n",
              "        google.colab.kernel.accessAllowed ? 'block' : 'none';\n",
              "    })();\n",
              "  </script>\n",
              "</div>\n",
              "\n",
              "    </div>\n",
              "  </div>\n"
            ],
            "text/plain": [
              "            User_ID       Gender          Age   Occupation  City_Category  \\\n",
              "count  6.786000e+03  6786.000000  6786.000000  6786.000000    6786.000000   \n",
              "mean   1.001755e+06     0.777925     2.384321     8.300619       1.075744   \n",
              "std    1.021952e+03     0.415672     1.337718     6.525713       0.761942   \n",
              "min    1.000001e+06     0.000000     0.000000     0.000000       0.000000   \n",
              "25%    1.000890e+06     1.000000     1.000000     3.000000       0.000000   \n",
              "50%    1.001698e+06     1.000000     2.000000     7.000000       1.000000   \n",
              "75%    1.002663e+06     1.000000     3.000000    14.000000       2.000000   \n",
              "max    1.003539e+06     1.000000     6.000000    20.000000       2.000000   \n",
              "\n",
              "       Stay_In_Current_City_Years  Marital_Status  Product_Category_1  \\\n",
              "count                 6786.000000     6786.000000         6786.000000   \n",
              "mean                     1.875626        0.388152            2.754937   \n",
              "std                      1.289092        0.487365            2.589630   \n",
              "min                      0.000000        0.000000            1.000000   \n",
              "25%                      1.000000        0.000000            1.000000   \n",
              "50%                      2.000000        0.000000            1.000000   \n",
              "75%                      3.000000        1.000000            4.000000   \n",
              "max                      4.000000        1.000000           15.000000   \n",
              "\n",
              "       Product_Category_2  Product_Category_3      Purchase  Product_ID   \n",
              "count         6786.000000         6786.000000   6786.000000  6786.000000  \n",
              "mean             6.963159           12.735780  11619.371500   219.620542  \n",
              "std              4.513809            4.112731   5061.668049   137.747442  \n",
              "min              2.000000            3.000000    186.000000     0.000000  \n",
              "25%              2.000000            9.000000   7886.500000   106.000000  \n",
              "50%              6.000000           15.000000  11703.000000   198.000000  \n",
              "75%             10.000000           16.000000  15601.000000   343.000000  \n",
              "max             16.000000           18.000000  23958.000000   487.000000  "
            ]
          },
          "execution_count": 91,
          "metadata": {},
          "output_type": "execute_result"
        }
      ],
      "source": [
        "df.describe()"
      ]
    },
    {
      "cell_type": "markdown",
      "metadata": {
        "id": "49DcPpf5Rl2E"
      },
      "source": [
        " Insights :\n",
        "\n",
        "*    A Person on an average spends 9298 .\n",
        "*   Mean is very much similar to median. Purchase column can be normally\n",
        "  distributed column.\n",
        "\n"
      ]
    },
    {
      "cell_type": "markdown",
      "metadata": {
        "id": "qQq4uh0DVG-Q"
      },
      "source": [
        " # Visualisation"
      ]
    },
    {
      "cell_type": "markdown",
      "metadata": {
        "id": "M5HdpTTBWjVF"
      },
      "source": [
        "Age wise comparison between Male and Female"
      ]
    },
    {
      "cell_type": "code",
      "execution_count": null,
      "metadata": {
        "colab": {
          "base_uri": "https://localhost:8080/",
          "height": 607
        },
        "id": "_BmBvpTkM947",
        "outputId": "f22602c1-2154-44db-c229-d69700926e8d"
      },
      "outputs": [
        {
          "data": {
            "image/png": "[encoded data removed]",
            "text/plain": [
              "<Figure size 662.236x600 with 1 Axes>"
            ]
          },
          "metadata": {},
          "output_type": "display_data"
        }
      ],
      "source": [
        "fig =sns.catplot(data=df,x='Age',y='User_ID',hue='Gender',kind='bar',height=6)"
      ]
    },
    {
      "cell_type": "markdown",
      "metadata": {
        "id": "KLKtmujIim-s"
      },
      "source": [
        "# Insights\n",
        "\n",
        "*  In between,  age groups 18 to 55 we have majority as  female customers\n",
        "*   \n",
        "\n"
      ]
    },
    {
      "cell_type": "markdown",
      "metadata": {
        "id": "IwnpP_LHlPD1"
      },
      "source": [
        "Comparison by Marital Status"
      ]
    },
    {
      "cell_type": "code",
      "execution_count": null,
      "metadata": {
        "colab": {
          "base_uri": "https://localhost:8080/",
          "height": 607
        },
        "id": "UId303mAlSUi",
        "outputId": "8d3ca700-ac7c-4bce-bcec-5be0080f39d2"
      },
      "outputs": [
        {
          "data": {
            "image/png": "[encoded data removed]",
            "text/plain": [
              "<Figure size 662.236x600 with 1 Axes>"
            ]
          },
          "metadata": {},
          "output_type": "display_data"
        }
      ],
      "source": [
        "fig =sns.catplot(data=df,x='Marital_Status',y='User_ID',hue='Gender',kind='bar',height=6)"
      ]
    },
    {
      "cell_type": "markdown",
      "metadata": {
        "id": "YyIB6E0qyWs1"
      },
      "source": [
        "This is unmarried column we are having more female consumers"
      ]
    },
    {
      "cell_type": "markdown",
      "metadata": {
        "id": "c-F9Xord18I9"
      },
      "source": [
        "# Frequency of items in Product category 1"
      ]
    },
    {
      "cell_type": "code",
      "execution_count": null,
      "metadata": {
        "colab": {
          "base_uri": "https://localhost:8080/",
          "height": 482
        },
        "id": "50-vsmIQyP4Z",
        "outputId": "61a57262-d86c-4e16-8042-5109f4e37230"
      },
      "outputs": [
        {
          "data": {
            "text/plain": [
              "<Axes: xlabel='Product_Category_1', ylabel='count'>"
            ]
          },
          "execution_count": 94,
          "metadata": {},
          "output_type": "execute_result"
        },
        {
          "data": {
            "image/png": "[encoded data removed]",
            "text/plain": [
              "<Figure size 1200x500 with 1 Axes>"
            ]
          },
          "metadata": {},
          "output_type": "display_data"
        }
      ],
      "source": [
        "plt.figure(figsize=(12,5))\n",
        "sns.countplot(x=df['Product_Category_1'],palette='rainbow')"
      ]
    },
    {
      "cell_type": "markdown",
      "metadata": {
        "id": "w4v7ZNKY8t4U"
      },
      "source": [
        "# Frequency of items in Product category 2"
      ]
    },
    {
      "cell_type": "code",
      "execution_count": null,
      "metadata": {
        "colab": {
          "base_uri": "https://localhost:8080/",
          "height": 482
        },
        "id": "y0G1ymbI55PI",
        "outputId": "be57d81d-410f-43e4-87a4-820efd5fcc10"
      },
      "outputs": [
        {
          "data": {
            "text/plain": [
              "<Axes: xlabel='Product_Category_2', ylabel='count'>"
            ]
          },
          "execution_count": 95,
          "metadata": {},
          "output_type": "execute_result"
        },
        {
          "data": {
            "image/png": "[encoded data removed]",
            "text/plain": [
              "<Figure size 1200x500 with 1 Axes>"
            ]
          },
          "metadata": {},
          "output_type": "display_data"
        }
      ],
      "source": [
        "plt.figure(figsize=(12,5))\n",
        "sns.countplot(x=df['Product_Category_2'],palette='rainbow')"
      ]
    },
    {
      "cell_type": "markdown",
      "metadata": {
        "id": "ZuMQdhEi8xi2"
      },
      "source": [
        "# Frequency of items in Product category 3"
      ]
    },
    {
      "cell_type": "code",
      "execution_count": null,
      "metadata": {
        "colab": {
          "base_uri": "https://localhost:8080/",
          "height": 482
        },
        "id": "R5-s5x_Xal_p",
        "outputId": "9e72ba16-dfb9-4f53-ce06-74f49a354699"
      },
      "outputs": [
        {
          "data": {
            "text/plain": [
              "<Axes: xlabel='Product_Category_3', ylabel='count'>"
            ]
          },
          "execution_count": 96,
          "metadata": {},
          "output_type": "execute_result"
        },
        {
          "data": {
            "image/png": "[encoded data removed]",
            "text/plain": [
              "<Figure size 1200x500 with 1 Axes>"
            ]
          },
          "metadata": {},
          "output_type": "display_data"
        }
      ],
      "source": [
        "plt.figure(figsize=(12,5))\n",
        "sns.countplot(x=df['Product_Category_3'],palette='rainbow')"
      ]
    },
    {
      "cell_type": "markdown",
      "metadata": {
        "id": "19d78zeR-CqF"
      },
      "source": [
        "# Category3 is more famous"
      ]
    },
    {
      "cell_type": "markdown",
      "metadata": {
        "id": "3F18fn-LARJ_"
      },
      "source": [
        "Comparison for living years"
      ]
    },
    {
      "cell_type": "code",
      "execution_count": null,
      "metadata": {
        "colab": {
          "base_uri": "https://localhost:8080/",
          "height": 487
        },
        "id": "2QuxBuSM9Aa7",
        "outputId": "1de956d4-1174-4c46-88e1-b53f0fee3f5c"
      },
      "outputs": [
        {
          "data": {
            "text/plain": [
              "<Axes: xlabel='Stay_In_Current_City_Years', ylabel='count'>"
            ]
          },
          "execution_count": 97,
          "metadata": {},
          "output_type": "execute_result"
        },
        {
          "data": {
            "image/png": "[encoded data removed]",
            "text/plain": [
              "<Figure size 1200x500 with 1 Axes>"
            ]
          },
          "metadata": {},
          "output_type": "display_data"
        }
      ],
      "source": [
        "plt.figure(figsize=(12,5))\n",
        "sns.countplot(x=df['Stay_In_Current_City_Years'],palette='rainbow')"
      ]
    },
    {
      "cell_type": "markdown",
      "metadata": {
        "id": "9krQnWICBGOa"
      },
      "source": [
        "Majority of consumers are new to the city"
      ]
    },
    {
      "cell_type": "markdown",
      "metadata": {
        "id": "yXhggI3E-rb4"
      },
      "source": [
        "Statistical Tests"
      ]
    },
    {
      "cell_type": "code",
      "execution_count": null,
      "metadata": {
        "id": "NUiipIyMBKf7"
      },
      "outputs": [],
      "source": [
        "a=df.groupby('Age').count()"
      ]
    },
    {
      "cell_type": "code",
      "execution_count": null,
      "metadata": {
        "colab": {
          "base_uri": "https://localhost:8080/",
          "height": 257
        },
        "id": "g3RHgPYm_NIQ",
        "outputId": "28174923-a235-4d25-dcbb-5e9f36ece779"
      },
      "outputs": [
        {
          "data": {
            "application/vnd.google.colaboratory.intrinsic+json": {
              "summary": "{\n  \"name\": \"a\",\n  \"rows\": 7,\n  \"fields\": [\n    {\n      \"column\": \"Age\",\n      \"properties\": {\n        \"dtype\": \"number\",\n        \"std\": 2,\n        \"min\": 0,\n        \"max\": 6,\n        \"num_unique_values\": 7,\n        \"samples\": [\n          0,\n          1,\n          5\n        ],\n        \"semantic_type\": \"\",\n        \"description\": \"\"\n      }\n    },\n    {\n      \"column\": \"User_ID\",\n      \"properties\": {\n        \"dtype\": \"number\",\n        \"std\": 882,\n        \"min\": 201,\n        \"max\": 2565,\n        \"num_unique_values\": 7,\n        \"samples\": [\n          201,\n          1521,\n          452\n        ],\n        \"semantic_type\": \"\",\n        \"description\": \"\"\n      }\n    },\n    {\n      \"column\": \"Product_ID\",\n      \"properties\": {\n        \"dtype\": \"number\",\n        \"std\": 882,\n        \"min\": 201,\n        \"max\": 2565,\n        \"num_unique_values\": 7,\n        \"samples\": [\n          201,\n          1521,\n          452\n        ],\n        \"semantic_type\": \"\",\n        \"description\": \"\"\n      }\n    },\n    {\n      \"column\": \"Gender\",\n      \"properties\": {\n        \"dtype\": \"number\",\n        \"std\": 882,\n        \"min\": 201,\n        \"max\": 2565,\n        \"num_unique_values\": 7,\n        \"samples\": [\n          201,\n          1521,\n          452\n        ],\n        \"semantic_type\": \"\",\n        \"description\": \"\"\n      }\n    },\n    {\n      \"column\": \"Occupation\",\n      \"properties\": {\n        \"dtype\": \"number\",\n        \"std\": 882,\n        \"min\": 201,\n        \"max\": 2565,\n        \"num_unique_values\": 7,\n        \"samples\": [\n          201,\n          1521,\n          452\n        ],\n        \"semantic_type\": \"\",\n        \"description\": \"\"\n      }\n    },\n    {\n      \"column\": \"City_Category\",\n      \"properties\": {\n        \"dtype\": \"number\",\n        \"std\": 882,\n        \"min\": 201,\n        \"max\": 2565,\n        \"num_unique_values\": 7,\n        \"samples\": [\n          201,\n          1521,\n          452\n        ],\n        \"semantic_type\": \"\",\n        \"description\": \"\"\n      }\n    },\n    {\n      \"column\": \"Stay_In_Current_City_Years\",\n      \"properties\": {\n        \"dtype\": \"number\",\n        \"std\": 882,\n        \"min\": 201,\n        \"max\": 2565,\n        \"num_unique_values\": 7,\n        \"samples\": [\n          201,\n          1521,\n          452\n        ],\n        \"semantic_type\": \"\",\n        \"description\": \"\"\n      }\n    },\n    {\n      \"column\": \"Marital_Status\",\n      \"properties\": {\n        \"dtype\": \"number\",\n        \"std\": 882,\n        \"min\": 201,\n        \"max\": 2565,\n        \"num_unique_values\": 7,\n        \"samples\": [\n          201,\n          1521,\n          452\n        ],\n        \"semantic_type\": \"\",\n        \"description\": \"\"\n      }\n    },\n    {\n      \"column\": \"Product_Category_1\",\n      \"properties\": {\n        \"dtype\": \"number\",\n        \"std\": 882,\n        \"min\": 201,\n        \"max\": 2565,\n        \"num_unique_values\": 7,\n        \"samples\": [\n          201,\n          1521,\n          452\n        ],\n        \"semantic_type\": \"\",\n        \"description\": \"\"\n      }\n    },\n    {\n      \"column\": \"Product_Category_2\",\n      \"properties\": {\n        \"dtype\": \"number\",\n        \"std\": 882,\n        \"min\": 201,\n        \"max\": 2565,\n        \"num_unique_values\": 7,\n        \"samples\": [\n          201,\n          1521,\n          452\n        ],\n        \"semantic_type\": \"\",\n        \"description\": \"\"\n      }\n    },\n    {\n      \"column\": \"Product_Category_3\",\n      \"properties\": {\n        \"dtype\": \"number\",\n        \"std\": 882,\n        \"min\": 201,\n        \"max\": 2565,\n        \"num_unique_values\": 7,\n        \"samples\": [\n          201,\n          1521,\n          452\n        ],\n        \"semantic_type\": \"\",\n        \"description\": \"\"\n      }\n    },\n    {\n      \"column\": \"Purchase\",\n      \"properties\": {\n        \"dtype\": \"number\",\n        \"std\": 882,\n        \"min\": 201,\n        \"max\": 2565,\n        \"num_unique_values\": 7,\n        \"samples\": [\n          201,\n          1521,\n          452\n        ],\n        \"semantic_type\": \"\",\n        \"description\": \"\"\n      }\n    },\n    {\n      \"column\": \"Product_ID \",\n      \"properties\": {\n        \"dtype\": \"number\",\n        \"std\": 882,\n        \"min\": 201,\n        \"max\": 2565,\n        \"num_unique_values\": 7,\n        \"samples\": [\n          201,\n          1521,\n          452\n        ],\n        \"semantic_type\": \"\",\n        \"description\": \"\"\n      }\n    }\n  ]\n}",
              "type": "dataframe",
              "variable_name": "a"
            },
            "text/html": [
              "\n",
              "  <div id=\"df-1258fcd2-4864-4f98-8a59-b1248f9ca9fa\" class=\"colab-df-container\">\n",
              "    <div>\n",
              "<style scoped>\n",
              "    .dataframe tbody tr th:only-of-type {\n",
              "        vertical-align: middle;\n",
              "    }\n",
              "\n",
              "    .dataframe tbody tr th {\n",
              "        vertical-align: top;\n",
              "    }\n",
              "\n",
              "    .dataframe thead th {\n",
              "        text-align: right;\n",
              "    }\n",
              "</style>\n",
              "<table border=\"1\" class=\"dataframe\">\n",
              "  <thead>\n",
              "    <tr style=\"text-align: right;\">\n",
              "      <th></th>\n",
              "      <th>User_ID</th>\n",
              "      <th>Product_ID</th>\n",
              "      <th>Gender</th>\n",
              "      <th>Occupation</th>\n",
              "      <th>City_Category</th>\n",
              "      <th>Stay_In_Current_City_Years</th>\n",
              "      <th>Marital_Status</th>\n",
              "      <th>Product_Category_1</th>\n",
              "      <th>Product_Category_2</th>\n",
              "      <th>Product_Category_3</th>\n",
              "      <th>Purchase</th>\n",
              "      <th>Product_ID</th>\n",
              "    </tr>\n",
              "    <tr>\n",
              "      <th>Age</th>\n",
              "      <th></th>\n",
              "      <th></th>\n",
              "      <th></th>\n",
              "      <th></th>\n",
              "      <th></th>\n",
              "      <th></th>\n",
              "      <th></th>\n",
              "      <th></th>\n",
              "      <th></th>\n",
              "      <th></th>\n",
              "      <th></th>\n",
              "      <th></th>\n",
              "    </tr>\n",
              "  </thead>\n",
              "  <tbody>\n",
              "    <tr>\n",
              "      <th>0</th>\n",
              "      <td>201</td>\n",
              "      <td>201</td>\n",
              "      <td>201</td>\n",
              "      <td>201</td>\n",
              "      <td>201</td>\n",
              "      <td>201</td>\n",
              "      <td>201</td>\n",
              "      <td>201</td>\n",
              "      <td>201</td>\n",
              "      <td>201</td>\n",
              "      <td>201</td>\n",
              "      <td>201</td>\n",
              "    </tr>\n",
              "    <tr>\n",
              "      <th>1</th>\n",
              "      <td>1521</td>\n",
              "      <td>1521</td>\n",
              "      <td>1521</td>\n",
              "      <td>1521</td>\n",
              "      <td>1521</td>\n",
              "      <td>1521</td>\n",
              "      <td>1521</td>\n",
              "      <td>1521</td>\n",
              "      <td>1521</td>\n",
              "      <td>1521</td>\n",
              "      <td>1521</td>\n",
              "      <td>1521</td>\n",
              "    </tr>\n",
              "    <tr>\n",
              "      <th>2</th>\n",
              "      <td>2565</td>\n",
              "      <td>2565</td>\n",
              "      <td>2565</td>\n",
              "      <td>2565</td>\n",
              "      <td>2565</td>\n",
              "      <td>2565</td>\n",
              "      <td>2565</td>\n",
              "      <td>2565</td>\n",
              "      <td>2565</td>\n",
              "      <td>2565</td>\n",
              "      <td>2565</td>\n",
              "      <td>2565</td>\n",
              "    </tr>\n",
              "    <tr>\n",
              "      <th>3</th>\n",
              "      <td>1359</td>\n",
              "      <td>1359</td>\n",
              "      <td>1359</td>\n",
              "      <td>1359</td>\n",
              "      <td>1359</td>\n",
              "      <td>1359</td>\n",
              "      <td>1359</td>\n",
              "      <td>1359</td>\n",
              "      <td>1359</td>\n",
              "      <td>1359</td>\n",
              "      <td>1359</td>\n",
              "      <td>1359</td>\n",
              "    </tr>\n",
              "    <tr>\n",
              "      <th>4</th>\n",
              "      <td>468</td>\n",
              "      <td>468</td>\n",
              "      <td>468</td>\n",
              "      <td>468</td>\n",
              "      <td>468</td>\n",
              "      <td>468</td>\n",
              "      <td>468</td>\n",
              "      <td>468</td>\n",
              "      <td>468</td>\n",
              "      <td>468</td>\n",
              "      <td>468</td>\n",
              "      <td>468</td>\n",
              "    </tr>\n",
              "  </tbody>\n",
              "</table>\n",
              "</div>\n",
              "    <div class=\"colab-df-buttons\">\n",
              "\n",
              "  <div class=\"colab-df-container\">\n",
              "    <button class=\"colab-df-convert\" onclick=\"convertToInteractive('df-1258fcd2-4864-4f98-8a59-b1248f9ca9fa')\"\n",
              "            title=\"Convert this dataframe to an interactive table.\"\n",
              "            style=\"display:none;\">\n",
              "\n",
              "  <svg xmlns=\"http://www.w3.org/2000/svg\" height=\"24px\" viewBox=\"0 -960 960 960\">\n",
              "    <path d=\"M120-120v-720h720v720H120Zm60-500h600v-160H180v160Zm220 220h160v-160H400v160Zm0 220h160v-160H400v160ZM180-400h160v-160H180v160Zm440 0h160v-160H620v160ZM180-180h160v-160H180v160Zm440 0h160v-160H620v160Z\"/>\n",
              "  </svg>\n",
              "    </button>\n",
              "\n",
              "  <style>\n",
              "    .colab-df-container {\n",
              "      display:flex;\n",
              "      gap: 12px;\n",
              "    }\n",
              "\n",
              "    .colab-df-convert {\n",
              "      background-color: #E8F0FE;\n",
              "      border: none;\n",
              "      border-radius: 50%;\n",
              "      cursor: pointer;\n",
              "      display: none;\n",
              "      fill: #1967D2;\n",
              "      height: 32px;\n",
              "      padding: 0 0 0 0;\n",
              "      width: 32px;\n",
              "    }\n",
              "\n",
              "    .colab-df-convert:hover {\n",
              "      background-color: #E2EBFA;\n",
              "      box-shadow: 0px 1px 2px rgba(60, 64, 67, 0.3), 0px 1px 3px 1px rgba(60, 64, 67, 0.15);\n",
              "      fill: #174EA6;\n",
              "    }\n",
              "\n",
              "    .colab-df-buttons div {\n",
              "      margin-bottom: 4px;\n",
              "    }\n",
              "\n",
              "    [theme=dark] .colab-df-convert {\n",
              "      background-color: #3B4455;\n",
              "      fill: #D2E3FC;\n",
              "    }\n",
              "\n",
              "    [theme=dark] .colab-df-convert:hover {\n",
              "      background-color: #434B5C;\n",
              "      box-shadow: 0px 1px 3px 1px rgba(0, 0, 0, 0.15);\n",
              "      filter: drop-shadow(0px 1px 2px rgba(0, 0, 0, 0.3));\n",
              "      fill: #FFFFFF;\n",
              "    }\n",
              "  </style>\n",
              "\n",
              "    <script>\n",
              "      const buttonEl =\n",
              "        document.querySelector('#df-1258fcd2-4864-4f98-8a59-b1248f9ca9fa button.colab-df-convert');\n",
              "      buttonEl.style.display =\n",
              "        google.colab.kernel.accessAllowed ? 'block' : 'none';\n",
              "\n",
              "      async function convertToInteractive(key) {\n",
              "        const element = document.querySelector('#df-1258fcd2-4864-4f98-8a59-b1248f9ca9fa');\n",
              "        const dataTable =\n",
              "          await google.colab.kernel.invokeFunction('convertToInteractive',\n",
              "                                                    [key], {});\n",
              "        if (!dataTable) return;\n",
              "\n",
              "        const docLinkHtml = 'Like what you see? Visit the ' +\n",
              "          '<a target=\"_blank\" href=https://colab.research.google.com/notebooks/data_table.ipynb>data table notebook</a>'\n",
              "          + ' to learn more about interactive tables.';\n",
              "        element.innerHTML = '';\n",
              "        dataTable['output_type'] = 'display_data';\n",
              "        await google.colab.output.renderOutput(dataTable, element);\n",
              "        const docLink = document.createElement('div');\n",
              "        docLink.innerHTML = docLinkHtml;\n",
              "        element.appendChild(docLink);\n",
              "      }\n",
              "    </script>\n",
              "  </div>\n",
              "\n",
              "\n",
              "<div id=\"df-0325ecc7-0a15-4e6f-9a40-9f74f520d841\">\n",
              "  <button class=\"colab-df-quickchart\" onclick=\"quickchart('df-0325ecc7-0a15-4e6f-9a40-9f74f520d841')\"\n",
              "            title=\"Suggest charts\"\n",
              "            style=\"display:none;\">\n",
              "\n",
              "<svg xmlns=\"http://www.w3.org/2000/svg\" height=\"24px\"viewBox=\"0 0 24 24\"\n",
              "     width=\"24px\">\n",
              "    <g>\n",
              "        <path d=\"M19 3H5c-1.1 0-2 .9-2 2v14c0 1.1.9 2 2 2h14c1.1 0 2-.9 2-2V5c0-1.1-.9-2-2-2zM9 17H7v-7h2v7zm4 0h-2V7h2v10zm4 0h-2v-4h2v4z\"/>\n",
              "    </g>\n",
              "</svg>\n",
              "  </button>\n",
              "\n",
              "<style>\n",
              "  .colab-df-quickchart {\n",
              "      --bg-color: #E8F0FE;\n",
              "      --fill-color: #1967D2;\n",
              "      --hover-bg-color: #E2EBFA;\n",
              "      --hover-fill-color: #174EA6;\n",
              "      --disabled-fill-color: #AAA;\n",
              "      --disabled-bg-color: #DDD;\n",
              "  }\n",
              "\n",
              "  [theme=dark] .colab-df-quickchart {\n",
              "      --bg-color: #3B4455;\n",
              "      --fill-color: #D2E3FC;\n",
              "      --hover-bg-color: #434B5C;\n",
              "      --hover-fill-color: #FFFFFF;\n",
              "      --disabled-bg-color: #3B4455;\n",
              "      --disabled-fill-color: #666;\n",
              "  }\n",
              "\n",
              "  .colab-df-quickchart {\n",
              "    background-color: var(--bg-color);\n",
              "    border: none;\n",
              "    border-radius: 50%;\n",
              "    cursor: pointer;\n",
              "    display: none;\n",
              "    fill: var(--fill-color);\n",
              "    height: 32px;\n",
              "    padding: 0;\n",
              "    width: 32px;\n",
              "  }\n",
              "\n",
              "  .colab-df-quickchart:hover {\n",
              "    background-color: var(--hover-bg-color);\n",
              "    box-shadow: 0 1px 2px rgba(60, 64, 67, 0.3), 0 1px 3px 1px rgba(60, 64, 67, 0.15);\n",
              "    fill: var(--button-hover-fill-color);\n",
              "  }\n",
              "\n",
              "  .colab-df-quickchart-complete:disabled,\n",
              "  .colab-df-quickchart-complete:disabled:hover {\n",
              "    background-color: var(--disabled-bg-color);\n",
              "    fill: var(--disabled-fill-color);\n",
              "    box-shadow: none;\n",
              "  }\n",
              "\n",
              "  .colab-df-spinner {\n",
              "    border: 2px solid var(--fill-color);\n",
              "    border-color: transparent;\n",
              "    border-bottom-color: var(--fill-color);\n",
              "    animation:\n",
              "      spin 1s steps(1) infinite;\n",
              "  }\n",
              "\n",
              "  @keyframes spin {\n",
              "    0% {\n",
              "      border-color: transparent;\n",
              "      border-bottom-color: var(--fill-color);\n",
              "      border-left-color: var(--fill-color);\n",
              "    }\n",
              "    20% {\n",
              "      border-color: transparent;\n",
              "      border-left-color: var(--fill-color);\n",
              "      border-top-color: var(--fill-color);\n",
              "    }\n",
              "    30% {\n",
              "      border-color: transparent;\n",
              "      border-left-color: var(--fill-color);\n",
              "      border-top-color: var(--fill-color);\n",
              "      border-right-color: var(--fill-color);\n",
              "    }\n",
              "    40% {\n",
              "      border-color: transparent;\n",
              "      border-right-color: var(--fill-color);\n",
              "      border-top-color: var(--fill-color);\n",
              "    }\n",
              "    60% {\n",
              "      border-color: transparent;\n",
              "      border-right-color: var(--fill-color);\n",
              "    }\n",
              "    80% {\n",
              "      border-color: transparent;\n",
              "      border-right-color: var(--fill-color);\n",
              "      border-bottom-color: var(--fill-color);\n",
              "    }\n",
              "    90% {\n",
              "      border-color: transparent;\n",
              "      border-bottom-color: var(--fill-color);\n",
              "    }\n",
              "  }\n",
              "</style>\n",
              "\n",
              "  <script>\n",
              "    async function quickchart(key) {\n",
              "      const quickchartButtonEl =\n",
              "        document.querySelector('#' + key + ' button');\n",
              "      quickchartButtonEl.disabled = true;  // To prevent multiple clicks.\n",
              "      quickchartButtonEl.classList.add('colab-df-spinner');\n",
              "      try {\n",
              "        const charts = await google.colab.kernel.invokeFunction(\n",
              "            'suggestCharts', [key], {});\n",
              "      } catch (error) {\n",
              "        console.error('Error during call to suggestCharts:', error);\n",
              "      }\n",
              "      quickchartButtonEl.classList.remove('colab-df-spinner');\n",
              "      quickchartButtonEl.classList.add('colab-df-quickchart-complete');\n",
              "    }\n",
              "    (() => {\n",
              "      let quickchartButtonEl =\n",
              "        document.querySelector('#df-0325ecc7-0a15-4e6f-9a40-9f74f520d841 button');\n",
              "      quickchartButtonEl.style.display =\n",
              "        google.colab.kernel.accessAllowed ? 'block' : 'none';\n",
              "    })();\n",
              "  </script>\n",
              "</div>\n",
              "\n",
              "    </div>\n",
              "  </div>\n"
            ],
            "text/plain": [
              "     User_ID  Product_ID  Gender  Occupation  City_Category  \\\n",
              "Age                                                           \n",
              "0        201         201     201         201            201   \n",
              "1       1521        1521    1521        1521           1521   \n",
              "2       2565        2565    2565        2565           2565   \n",
              "3       1359        1359    1359        1359           1359   \n",
              "4        468         468     468         468            468   \n",
              "\n",
              "     Stay_In_Current_City_Years  Marital_Status  Product_Category_1  \\\n",
              "Age                                                                   \n",
              "0                           201             201                 201   \n",
              "1                          1521            1521                1521   \n",
              "2                          2565            2565                2565   \n",
              "3                          1359            1359                1359   \n",
              "4                           468             468                 468   \n",
              "\n",
              "     Product_Category_2  Product_Category_3  Purchase  Product_ID   \n",
              "Age                                                                 \n",
              "0                   201                 201       201          201  \n",
              "1                  1521                1521      1521         1521  \n",
              "2                  2565                2565      2565         2565  \n",
              "3                  1359                1359      1359         1359  \n",
              "4                   468                 468       468          468  "
            ]
          },
          "execution_count": 99,
          "metadata": {},
          "output_type": "execute_result"
        }
      ],
      "source": [
        "a.head()"
      ]
    },
    {
      "cell_type": "code",
      "execution_count": null,
      "metadata": {
        "id": "Oleml2eLCnQj"
      },
      "outputs": [],
      "source": [
        "del a"
      ]
    },
    {
      "cell_type": "markdown",
      "metadata": {
        "id": "TD4L08yBEvaL"
      },
      "source": [
        "It was observed that the average purchase made by the mean of the  age 18 -25 was 100000.Is it still th same?"
      ]
    },
    {
      "cell_type": "markdown",
      "metadata": {
        "id": "oPoHTfnCHiKg"
      },
      "source": [
        "Null Hypothesis:The mean is 10000.\n",
        "Alternate Hypotheisis:THE MEAN IS NOT 10000."
      ]
    },
    {
      "cell_type": "markdown",
      "metadata": {
        "id": "ZEy4dlTiIk2b"
      },
      "source": [
        "WE NEED TO GRAB THE DATA FOR AGE_GROUP=1 AND GENDER=1."
      ]
    },
    {
      "cell_type": "code",
      "execution_count": null,
      "metadata": {
        "id": "weOoRMSfC8H6"
      },
      "outputs": [],
      "source": [
        "new_df=df.loc[(df['Age']==1)&df['Gender']==1]"
      ]
    },
    {
      "cell_type": "code",
      "execution_count": null,
      "metadata": {
        "colab": {
          "base_uri": "https://localhost:8080/"
        },
        "id": "1XasWjCKppa3",
        "outputId": "dd0d9542-e6f5-4bfd-ef7c-b3c511f97884"
      },
      "outputs": [
        {
          "data": {
            "text/plain": [
              "(1186, 13)"
            ]
          },
          "execution_count": 107,
          "metadata": {},
          "output_type": "execute_result"
        }
      ],
      "source": [
        "new_df.shape"
      ]
    },
    {
      "cell_type": "code",
      "execution_count": null,
      "metadata": {
        "id": "SsvGyHn_pr9b"
      },
      "outputs": [],
      "source": [
        "sample_df=new_df.sample(25,random_state=0)"
      ]
    },
    {
      "cell_type": "code",
      "execution_count": null,
      "metadata": {
        "colab": {
          "base_uri": "https://localhost:8080/",
          "height": 853
        },
        "id": "tQ21d7SZq8ib",
        "outputId": "13207d7c-d102-4b1f-d8b2-66620645d368"
      },
      "outputs": [
        {
          "data": {
            "application/vnd.google.colaboratory.intrinsic+json": {
              "summary": "{\n  \"name\": \"sample_df\",\n  \"rows\": 25,\n  \"fields\": [\n    {\n      \"column\": \"User_ID\",\n      \"properties\": {\n        \"dtype\": \"number\",\n        \"std\": 991,\n        \"min\": 1000039,\n        \"max\": 1003522,\n        \"num_unique_values\": 24,\n        \"samples\": [\n          1002522,\n          1002744,\n          1002270\n        ],\n        \"semantic_type\": \"\",\n        \"description\": \"\"\n      }\n    },\n    {\n      \"column\": \"Product_ID\",\n      \"properties\": {\n        \"dtype\": \"string\",\n        \"num_unique_values\": 23,\n        \"samples\": [\n          \"P00114942\",\n          \"P00351142\",\n          \"P00295942\"\n        ],\n        \"semantic_type\": \"\",\n        \"description\": \"\"\n      }\n    },\n    {\n      \"column\": \"Gender\",\n      \"properties\": {\n        \"dtype\": \"number\",\n        \"std\": 0,\n        \"min\": 1,\n        \"max\": 1,\n        \"num_unique_values\": 1,\n        \"samples\": [\n          1\n        ],\n        \"semantic_type\": \"\",\n        \"description\": \"\"\n      }\n    },\n    {\n      \"column\": \"Age\",\n      \"properties\": {\n        \"dtype\": \"number\",\n        \"std\": 0,\n        \"min\": 1,\n        \"max\": 1,\n        \"num_unique_values\": 1,\n        \"samples\": [\n          1\n        ],\n        \"semantic_type\": \"\",\n        \"description\": \"\"\n      }\n    },\n    {\n      \"column\": \"Occupation\",\n      \"properties\": {\n        \"dtype\": \"number\",\n        \"std\": 6.487166818676188,\n        \"min\": 0.0,\n        \"max\": 20.0,\n        \"num_unique_values\": 11,\n        \"samples\": [\n          11.0\n        ],\n        \"semantic_type\": \"\",\n        \"description\": \"\"\n      }\n    },\n    {\n      \"column\": \"City_Category\",\n      \"properties\": {\n        \"dtype\": \"number\",\n        \"std\": 0,\n        \"min\": 0,\n        \"max\": 2,\n        \"num_unique_values\": 3,\n        \"samples\": [\n          2\n        ],\n        \"semantic_type\": \"\",\n        \"description\": \"\"\n      }\n    },\n    {\n      \"column\": \"Stay_In_Current_City_Years\",\n      \"properties\": {\n        \"dtype\": \"number\",\n        \"std\": 1.3203534880225574,\n        \"min\": 0.0,\n        \"max\": 4.0,\n        \"num_unique_values\": 5,\n        \"samples\": [\n          1.0\n        ],\n        \"semantic_type\": \"\",\n        \"description\": \"\"\n      }\n    },\n    {\n      \"column\": \"Marital_Status\",\n      \"properties\": {\n        \"dtype\": \"number\",\n        \"std\": 0.47609522856952335,\n        \"min\": 0.0,\n        \"max\": 1.0,\n        \"num_unique_values\": 2,\n        \"samples\": [\n          0.0\n        ],\n        \"semantic_type\": \"\",\n        \"description\": \"\"\n      }\n    },\n    {\n      \"column\": \"Product_Category_1\",\n      \"properties\": {\n        \"dtype\": \"number\",\n        \"std\": 2.254624876411447,\n        \"min\": 1.0,\n        \"max\": 11.0,\n        \"num_unique_values\": 6,\n        \"samples\": [\n          2.0\n        ],\n        \"semantic_type\": \"\",\n        \"description\": \"\"\n      }\n    },\n    {\n      \"column\": \"Product_Category_2\",\n      \"properties\": {\n        \"dtype\": \"number\",\n        \"std\": 4.561797891182818,\n        \"min\": 2.0,\n        \"max\": 15.0,\n        \"num_unique_values\": 8,\n        \"samples\": [\n          2.0\n        ],\n        \"semantic_type\": \"\",\n        \"description\": \"\"\n      }\n    },\n    {\n      \"column\": \"Product_Category_3\",\n      \"properties\": {\n        \"dtype\": \"number\",\n        \"std\": 3.9581140290126395,\n        \"min\": 4.0,\n        \"max\": 17.0,\n        \"num_unique_values\": 10,\n        \"samples\": [\n          4.0\n        ],\n        \"semantic_type\": \"\",\n        \"description\": \"\"\n      }\n    },\n    {\n      \"column\": \"Purchase\",\n      \"properties\": {\n        \"dtype\": \"number\",\n        \"std\": 5100.610091939983,\n        \"min\": 704.0,\n        \"max\": 19379.0,\n        \"num_unique_values\": 25,\n        \"samples\": [\n          19309.0\n        ],\n        \"semantic_type\": \"\",\n        \"description\": \"\"\n      }\n    },\n    {\n      \"column\": \"Product_ID \",\n      \"properties\": {\n        \"dtype\": \"number\",\n        \"std\": 144,\n        \"min\": 18,\n        \"max\": 456,\n        \"num_unique_values\": 23,\n        \"samples\": [\n          150\n        ],\n        \"semantic_type\": \"\",\n        \"description\": \"\"\n      }\n    }\n  ]\n}",
              "type": "dataframe",
              "variable_name": "sample_df"
            },
            "text/html": [
              "\n",
              "  <div id=\"df-c73e03d1-a317-4007-92d7-a9de4190c132\" class=\"colab-df-container\">\n",
              "    <div>\n",
              "<style scoped>\n",
              "    .dataframe tbody tr th:only-of-type {\n",
              "        vertical-align: middle;\n",
              "    }\n",
              "\n",
              "    .dataframe tbody tr th {\n",
              "        vertical-align: top;\n",
              "    }\n",
              "\n",
              "    .dataframe thead th {\n",
              "        text-align: right;\n",
              "    }\n",
              "</style>\n",
              "<table border=\"1\" class=\"dataframe\">\n",
              "  <thead>\n",
              "    <tr style=\"text-align: right;\">\n",
              "      <th></th>\n",
              "      <th>User_ID</th>\n",
              "      <th>Product_ID</th>\n",
              "      <th>Gender</th>\n",
              "      <th>Age</th>\n",
              "      <th>Occupation</th>\n",
              "      <th>City_Category</th>\n",
              "      <th>Stay_In_Current_City_Years</th>\n",
              "      <th>Marital_Status</th>\n",
              "      <th>Product_Category_1</th>\n",
              "      <th>Product_Category_2</th>\n",
              "      <th>Product_Category_3</th>\n",
              "      <th>Purchase</th>\n",
              "      <th>Product_ID</th>\n",
              "    </tr>\n",
              "  </thead>\n",
              "  <tbody>\n",
              "    <tr>\n",
              "      <th>15246</th>\n",
              "      <td>1002270</td>\n",
              "      <td>P00295942</td>\n",
              "      <td>1</td>\n",
              "      <td>1</td>\n",
              "      <td>1.0</td>\n",
              "      <td>2</td>\n",
              "      <td>3.0</td>\n",
              "      <td>1.0</td>\n",
              "      <td>2.0</td>\n",
              "      <td>5.0</td>\n",
              "      <td>15.0</td>\n",
              "      <td>13112.0</td>\n",
              "      <td>411</td>\n",
              "    </tr>\n",
              "    <tr>\n",
              "      <th>9976</th>\n",
              "      <td>1001524</td>\n",
              "      <td>P00244142</td>\n",
              "      <td>1</td>\n",
              "      <td>1</td>\n",
              "      <td>4.0</td>\n",
              "      <td>1</td>\n",
              "      <td>1.0</td>\n",
              "      <td>0.0</td>\n",
              "      <td>1.0</td>\n",
              "      <td>2.0</td>\n",
              "      <td>15.0</td>\n",
              "      <td>11815.0</td>\n",
              "      <td>365</td>\n",
              "    </tr>\n",
              "    <tr>\n",
              "      <th>18380</th>\n",
              "      <td>1002896</td>\n",
              "      <td>P00042142</td>\n",
              "      <td>1</td>\n",
              "      <td>1</td>\n",
              "      <td>14.0</td>\n",
              "      <td>1</td>\n",
              "      <td>0.0</td>\n",
              "      <td>0.0</td>\n",
              "      <td>1.0</td>\n",
              "      <td>2.0</td>\n",
              "      <td>6.0</td>\n",
              "      <td>15278.0</td>\n",
              "      <td>61</td>\n",
              "    </tr>\n",
              "    <tr>\n",
              "      <th>17990</th>\n",
              "      <td>1002837</td>\n",
              "      <td>P00191442</td>\n",
              "      <td>1</td>\n",
              "      <td>1</td>\n",
              "      <td>0.0</td>\n",
              "      <td>1</td>\n",
              "      <td>1.0</td>\n",
              "      <td>0.0</td>\n",
              "      <td>1.0</td>\n",
              "      <td>2.0</td>\n",
              "      <td>15.0</td>\n",
              "      <td>15474.0</td>\n",
              "      <td>289</td>\n",
              "    </tr>\n",
              "    <tr>\n",
              "      <th>5415</th>\n",
              "      <td>1000881</td>\n",
              "      <td>P00138442</td>\n",
              "      <td>1</td>\n",
              "      <td>1</td>\n",
              "      <td>14.0</td>\n",
              "      <td>0</td>\n",
              "      <td>1.0</td>\n",
              "      <td>0.0</td>\n",
              "      <td>1.0</td>\n",
              "      <td>2.0</td>\n",
              "      <td>16.0</td>\n",
              "      <td>4501.0</td>\n",
              "      <td>192</td>\n",
              "    </tr>\n",
              "    <tr>\n",
              "      <th>14333</th>\n",
              "      <td>1002116</td>\n",
              "      <td>P00329542</td>\n",
              "      <td>1</td>\n",
              "      <td>1</td>\n",
              "      <td>4.0</td>\n",
              "      <td>1</td>\n",
              "      <td>4.0</td>\n",
              "      <td>1.0</td>\n",
              "      <td>1.0</td>\n",
              "      <td>15.0</td>\n",
              "      <td>16.0</td>\n",
              "      <td>15453.0</td>\n",
              "      <td>432</td>\n",
              "    </tr>\n",
              "    <tr>\n",
              "      <th>10841</th>\n",
              "      <td>1001655</td>\n",
              "      <td>P00035542</td>\n",
              "      <td>1</td>\n",
              "      <td>1</td>\n",
              "      <td>4.0</td>\n",
              "      <td>2</td>\n",
              "      <td>2.0</td>\n",
              "      <td>1.0</td>\n",
              "      <td>3.0</td>\n",
              "      <td>4.0</td>\n",
              "      <td>12.0</td>\n",
              "      <td>13365.0</td>\n",
              "      <td>53</td>\n",
              "    </tr>\n",
              "    <tr>\n",
              "      <th>10819</th>\n",
              "      <td>1001649</td>\n",
              "      <td>P00113242</td>\n",
              "      <td>1</td>\n",
              "      <td>1</td>\n",
              "      <td>19.0</td>\n",
              "      <td>2</td>\n",
              "      <td>2.0</td>\n",
              "      <td>1.0</td>\n",
              "      <td>1.0</td>\n",
              "      <td>6.0</td>\n",
              "      <td>8.0</td>\n",
              "      <td>19379.0</td>\n",
              "      <td>146</td>\n",
              "    </tr>\n",
              "    <tr>\n",
              "      <th>16367</th>\n",
              "      <td>1002522</td>\n",
              "      <td>P00080342</td>\n",
              "      <td>1</td>\n",
              "      <td>1</td>\n",
              "      <td>11.0</td>\n",
              "      <td>0</td>\n",
              "      <td>1.0</td>\n",
              "      <td>0.0</td>\n",
              "      <td>1.0</td>\n",
              "      <td>6.0</td>\n",
              "      <td>8.0</td>\n",
              "      <td>19309.0</td>\n",
              "      <td>110</td>\n",
              "    </tr>\n",
              "    <tr>\n",
              "      <th>10745</th>\n",
              "      <td>1001644</td>\n",
              "      <td>P00351142</td>\n",
              "      <td>1</td>\n",
              "      <td>1</td>\n",
              "      <td>12.0</td>\n",
              "      <td>0</td>\n",
              "      <td>2.0</td>\n",
              "      <td>0.0</td>\n",
              "      <td>1.0</td>\n",
              "      <td>8.0</td>\n",
              "      <td>17.0</td>\n",
              "      <td>11532.0</td>\n",
              "      <td>456</td>\n",
              "    </tr>\n",
              "    <tr>\n",
              "      <th>221</th>\n",
              "      <td>1000039</td>\n",
              "      <td>P00351142</td>\n",
              "      <td>1</td>\n",
              "      <td>1</td>\n",
              "      <td>4.0</td>\n",
              "      <td>1</td>\n",
              "      <td>2.0</td>\n",
              "      <td>0.0</td>\n",
              "      <td>1.0</td>\n",
              "      <td>8.0</td>\n",
              "      <td>17.0</td>\n",
              "      <td>15319.0</td>\n",
              "      <td>456</td>\n",
              "    </tr>\n",
              "    <tr>\n",
              "      <th>4063</th>\n",
              "      <td>1000671</td>\n",
              "      <td>P00113242</td>\n",
              "      <td>1</td>\n",
              "      <td>1</td>\n",
              "      <td>4.0</td>\n",
              "      <td>2</td>\n",
              "      <td>0.0</td>\n",
              "      <td>0.0</td>\n",
              "      <td>1.0</td>\n",
              "      <td>6.0</td>\n",
              "      <td>8.0</td>\n",
              "      <td>11771.0</td>\n",
              "      <td>146</td>\n",
              "    </tr>\n",
              "    <tr>\n",
              "      <th>8036</th>\n",
              "      <td>1001246</td>\n",
              "      <td>P00198742</td>\n",
              "      <td>1</td>\n",
              "      <td>1</td>\n",
              "      <td>4.0</td>\n",
              "      <td>0</td>\n",
              "      <td>2.0</td>\n",
              "      <td>0.0</td>\n",
              "      <td>1.0</td>\n",
              "      <td>2.0</td>\n",
              "      <td>11.0</td>\n",
              "      <td>15382.0</td>\n",
              "      <td>307</td>\n",
              "    </tr>\n",
              "    <tr>\n",
              "      <th>5323</th>\n",
              "      <td>1000869</td>\n",
              "      <td>P00048042</td>\n",
              "      <td>1</td>\n",
              "      <td>1</td>\n",
              "      <td>20.0</td>\n",
              "      <td>0</td>\n",
              "      <td>4.0</td>\n",
              "      <td>1.0</td>\n",
              "      <td>1.0</td>\n",
              "      <td>6.0</td>\n",
              "      <td>8.0</td>\n",
              "      <td>15629.0</td>\n",
              "      <td>68</td>\n",
              "    </tr>\n",
              "    <tr>\n",
              "      <th>3107</th>\n",
              "      <td>1000510</td>\n",
              "      <td>P00127542</td>\n",
              "      <td>1</td>\n",
              "      <td>1</td>\n",
              "      <td>12.0</td>\n",
              "      <td>2</td>\n",
              "      <td>3.0</td>\n",
              "      <td>0.0</td>\n",
              "      <td>1.0</td>\n",
              "      <td>2.0</td>\n",
              "      <td>15.0</td>\n",
              "      <td>11836.0</td>\n",
              "      <td>172</td>\n",
              "    </tr>\n",
              "    <tr>\n",
              "      <th>2723</th>\n",
              "      <td>1000436</td>\n",
              "      <td>P00012242</td>\n",
              "      <td>1</td>\n",
              "      <td>1</td>\n",
              "      <td>4.0</td>\n",
              "      <td>2</td>\n",
              "      <td>1.0</td>\n",
              "      <td>0.0</td>\n",
              "      <td>2.0</td>\n",
              "      <td>4.0</td>\n",
              "      <td>9.0</td>\n",
              "      <td>3780.0</td>\n",
              "      <td>18</td>\n",
              "    </tr>\n",
              "    <tr>\n",
              "      <th>17379</th>\n",
              "      <td>1002744</td>\n",
              "      <td>P00186142</td>\n",
              "      <td>1</td>\n",
              "      <td>1</td>\n",
              "      <td>17.0</td>\n",
              "      <td>2</td>\n",
              "      <td>1.0</td>\n",
              "      <td>1.0</td>\n",
              "      <td>1.0</td>\n",
              "      <td>2.0</td>\n",
              "      <td>4.0</td>\n",
              "      <td>4512.0</td>\n",
              "      <td>272</td>\n",
              "    </tr>\n",
              "    <tr>\n",
              "      <th>22470</th>\n",
              "      <td>1003522</td>\n",
              "      <td>P00114942</td>\n",
              "      <td>1</td>\n",
              "      <td>1</td>\n",
              "      <td>0.0</td>\n",
              "      <td>2</td>\n",
              "      <td>2.0</td>\n",
              "      <td>0.0</td>\n",
              "      <td>1.0</td>\n",
              "      <td>15.0</td>\n",
              "      <td>16.0</td>\n",
              "      <td>11871.0</td>\n",
              "      <td>150</td>\n",
              "    </tr>\n",
              "    <tr>\n",
              "      <th>4102</th>\n",
              "      <td>1000676</td>\n",
              "      <td>P00057642</td>\n",
              "      <td>1</td>\n",
              "      <td>1</td>\n",
              "      <td>16.0</td>\n",
              "      <td>1</td>\n",
              "      <td>1.0</td>\n",
              "      <td>1.0</td>\n",
              "      <td>1.0</td>\n",
              "      <td>15.0</td>\n",
              "      <td>16.0</td>\n",
              "      <td>15167.0</td>\n",
              "      <td>82</td>\n",
              "    </tr>\n",
              "    <tr>\n",
              "      <th>1726</th>\n",
              "      <td>1000274</td>\n",
              "      <td>P00305042</td>\n",
              "      <td>1</td>\n",
              "      <td>1</td>\n",
              "      <td>4.0</td>\n",
              "      <td>0</td>\n",
              "      <td>4.0</td>\n",
              "      <td>0.0</td>\n",
              "      <td>11.0</td>\n",
              "      <td>13.0</td>\n",
              "      <td>16.0</td>\n",
              "      <td>4547.0</td>\n",
              "      <td>417</td>\n",
              "    </tr>\n",
              "    <tr>\n",
              "      <th>21619</th>\n",
              "      <td>1003411</td>\n",
              "      <td>P00185842</td>\n",
              "      <td>1</td>\n",
              "      <td>1</td>\n",
              "      <td>4.0</td>\n",
              "      <td>0</td>\n",
              "      <td>4.0</td>\n",
              "      <td>0.0</td>\n",
              "      <td>4.0</td>\n",
              "      <td>5.0</td>\n",
              "      <td>15.0</td>\n",
              "      <td>704.0</td>\n",
              "      <td>271</td>\n",
              "    </tr>\n",
              "    <tr>\n",
              "      <th>10032</th>\n",
              "      <td>1001542</td>\n",
              "      <td>P00034742</td>\n",
              "      <td>1</td>\n",
              "      <td>1</td>\n",
              "      <td>17.0</td>\n",
              "      <td>2</td>\n",
              "      <td>4.0</td>\n",
              "      <td>0.0</td>\n",
              "      <td>5.0</td>\n",
              "      <td>14.0</td>\n",
              "      <td>17.0</td>\n",
              "      <td>8899.0</td>\n",
              "      <td>50</td>\n",
              "    </tr>\n",
              "    <tr>\n",
              "      <th>14478</th>\n",
              "      <td>1002145</td>\n",
              "      <td>P00158542</td>\n",
              "      <td>1</td>\n",
              "      <td>1</td>\n",
              "      <td>10.0</td>\n",
              "      <td>2</td>\n",
              "      <td>2.0</td>\n",
              "      <td>1.0</td>\n",
              "      <td>5.0</td>\n",
              "      <td>6.0</td>\n",
              "      <td>13.0</td>\n",
              "      <td>8878.0</td>\n",
              "      <td>228</td>\n",
              "    </tr>\n",
              "    <tr>\n",
              "      <th>13027</th>\n",
              "      <td>1001949</td>\n",
              "      <td>P00025442</td>\n",
              "      <td>1</td>\n",
              "      <td>1</td>\n",
              "      <td>17.0</td>\n",
              "      <td>2</td>\n",
              "      <td>0.0</td>\n",
              "      <td>0.0</td>\n",
              "      <td>1.0</td>\n",
              "      <td>2.0</td>\n",
              "      <td>9.0</td>\n",
              "      <td>19097.0</td>\n",
              "      <td>37</td>\n",
              "    </tr>\n",
              "    <tr>\n",
              "      <th>5410</th>\n",
              "      <td>1000881</td>\n",
              "      <td>P00149542</td>\n",
              "      <td>1</td>\n",
              "      <td>1</td>\n",
              "      <td>14.0</td>\n",
              "      <td>0</td>\n",
              "      <td>1.0</td>\n",
              "      <td>0.0</td>\n",
              "      <td>1.0</td>\n",
              "      <td>6.0</td>\n",
              "      <td>13.0</td>\n",
              "      <td>11848.0</td>\n",
              "      <td>214</td>\n",
              "    </tr>\n",
              "  </tbody>\n",
              "</table>\n",
              "</div>\n",
              "    <div class=\"colab-df-buttons\">\n",
              "\n",
              "  <div class=\"colab-df-container\">\n",
              "    <button class=\"colab-df-convert\" onclick=\"convertToInteractive('df-c73e03d1-a317-4007-92d7-a9de4190c132')\"\n",
              "            title=\"Convert this dataframe to an interactive table.\"\n",
              "            style=\"display:none;\">\n",
              "\n",
              "  <svg xmlns=\"http://www.w3.org/2000/svg\" height=\"24px\" viewBox=\"0 -960 960 960\">\n",
              "    <path d=\"M120-120v-720h720v720H120Zm60-500h600v-160H180v160Zm220 220h160v-160H400v160Zm0 220h160v-160H400v160ZM180-400h160v-160H180v160Zm440 0h160v-160H620v160ZM180-180h160v-160H180v160Zm440 0h160v-160H620v160Z\"/>\n",
              "  </svg>\n",
              "    </button>\n",
              "\n",
              "  <style>\n",
              "    .colab-df-container {\n",
              "      display:flex;\n",
              "      gap: 12px;\n",
              "    }\n",
              "\n",
              "    .colab-df-convert {\n",
              "      background-color: #E8F0FE;\n",
              "      border: none;\n",
              "      border-radius: 50%;\n",
              "      cursor: pointer;\n",
              "      display: none;\n",
              "      fill: #1967D2;\n",
              "      height: 32px;\n",
              "      padding: 0 0 0 0;\n",
              "      width: 32px;\n",
              "    }\n",
              "\n",
              "    .colab-df-convert:hover {\n",
              "      background-color: #E2EBFA;\n",
              "      box-shadow: 0px 1px 2px rgba(60, 64, 67, 0.3), 0px 1px 3px 1px rgba(60, 64, 67, 0.15);\n",
              "      fill: #174EA6;\n",
              "    }\n",
              "\n",
              "    .colab-df-buttons div {\n",
              "      margin-bottom: 4px;\n",
              "    }\n",
              "\n",
              "    [theme=dark] .colab-df-convert {\n",
              "      background-color: #3B4455;\n",
              "      fill: #D2E3FC;\n",
              "    }\n",
              "\n",
              "    [theme=dark] .colab-df-convert:hover {\n",
              "      background-color: #434B5C;\n",
              "      box-shadow: 0px 1px 3px 1px rgba(0, 0, 0, 0.15);\n",
              "      filter: drop-shadow(0px 1px 2px rgba(0, 0, 0, 0.3));\n",
              "      fill: #FFFFFF;\n",
              "    }\n",
              "  </style>\n",
              "\n",
              "    <script>\n",
              "      const buttonEl =\n",
              "        document.querySelector('#df-c73e03d1-a317-4007-92d7-a9de4190c132 button.colab-df-convert');\n",
              "      buttonEl.style.display =\n",
              "        google.colab.kernel.accessAllowed ? 'block' : 'none';\n",
              "\n",
              "      async function convertToInteractive(key) {\n",
              "        const element = document.querySelector('#df-c73e03d1-a317-4007-92d7-a9de4190c132');\n",
              "        const dataTable =\n",
              "          await google.colab.kernel.invokeFunction('convertToInteractive',\n",
              "                                                    [key], {});\n",
              "        if (!dataTable) return;\n",
              "\n",
              "        const docLinkHtml = 'Like what you see? Visit the ' +\n",
              "          '<a target=\"_blank\" href=https://colab.research.google.com/notebooks/data_table.ipynb>data table notebook</a>'\n",
              "          + ' to learn more about interactive tables.';\n",
              "        element.innerHTML = '';\n",
              "        dataTable['output_type'] = 'display_data';\n",
              "        await google.colab.output.renderOutput(dataTable, element);\n",
              "        const docLink = document.createElement('div');\n",
              "        docLink.innerHTML = docLinkHtml;\n",
              "        element.appendChild(docLink);\n",
              "      }\n",
              "    </script>\n",
              "  </div>\n",
              "\n",
              "\n",
              "<div id=\"df-80e1166f-46b7-4b73-9556-922c75f49571\">\n",
              "  <button class=\"colab-df-quickchart\" onclick=\"quickchart('df-80e1166f-46b7-4b73-9556-922c75f49571')\"\n",
              "            title=\"Suggest charts\"\n",
              "            style=\"display:none;\">\n",
              "\n",
              "<svg xmlns=\"http://www.w3.org/2000/svg\" height=\"24px\"viewBox=\"0 0 24 24\"\n",
              "     width=\"24px\">\n",
              "    <g>\n",
              "        <path d=\"M19 3H5c-1.1 0-2 .9-2 2v14c0 1.1.9 2 2 2h14c1.1 0 2-.9 2-2V5c0-1.1-.9-2-2-2zM9 17H7v-7h2v7zm4 0h-2V7h2v10zm4 0h-2v-4h2v4z\"/>\n",
              "    </g>\n",
              "</svg>\n",
              "  </button>\n",
              "\n",
              "<style>\n",
              "  .colab-df-quickchart {\n",
              "      --bg-color: #E8F0FE;\n",
              "      --fill-color: #1967D2;\n",
              "      --hover-bg-color: #E2EBFA;\n",
              "      --hover-fill-color: #174EA6;\n",
              "      --disabled-fill-color: #AAA;\n",
              "      --disabled-bg-color: #DDD;\n",
              "  }\n",
              "\n",
              "  [theme=dark] .colab-df-quickchart {\n",
              "      --bg-color: #3B4455;\n",
              "      --fill-color: #D2E3FC;\n",
              "      --hover-bg-color: #434B5C;\n",
              "      --hover-fill-color: #FFFFFF;\n",
              "      --disabled-bg-color: #3B4455;\n",
              "      --disabled-fill-color: #666;\n",
              "  }\n",
              "\n",
              "  .colab-df-quickchart {\n",
              "    background-color: var(--bg-color);\n",
              "    border: none;\n",
              "    border-radius: 50%;\n",
              "    cursor: pointer;\n",
              "    display: none;\n",
              "    fill: var(--fill-color);\n",
              "    height: 32px;\n",
              "    padding: 0;\n",
              "    width: 32px;\n",
              "  }\n",
              "\n",
              "  .colab-df-quickchart:hover {\n",
              "    background-color: var(--hover-bg-color);\n",
              "    box-shadow: 0 1px 2px rgba(60, 64, 67, 0.3), 0 1px 3px 1px rgba(60, 64, 67, 0.15);\n",
              "    fill: var(--button-hover-fill-color);\n",
              "  }\n",
              "\n",
              "  .colab-df-quickchart-complete:disabled,\n",
              "  .colab-df-quickchart-complete:disabled:hover {\n",
              "    background-color: var(--disabled-bg-color);\n",
              "    fill: var(--disabled-fill-color);\n",
              "    box-shadow: none;\n",
              "  }\n",
              "\n",
              "  .colab-df-spinner {\n",
              "    border: 2px solid var(--fill-color);\n",
              "    border-color: transparent;\n",
              "    border-bottom-color: var(--fill-color);\n",
              "    animation:\n",
              "      spin 1s steps(1) infinite;\n",
              "  }\n",
              "\n",
              "  @keyframes spin {\n",
              "    0% {\n",
              "      border-color: transparent;\n",
              "      border-bottom-color: var(--fill-color);\n",
              "      border-left-color: var(--fill-color);\n",
              "    }\n",
              "    20% {\n",
              "      border-color: transparent;\n",
              "      border-left-color: var(--fill-color);\n",
              "      border-top-color: var(--fill-color);\n",
              "    }\n",
              "    30% {\n",
              "      border-color: transparent;\n",
              "      border-left-color: var(--fill-color);\n",
              "      border-top-color: var(--fill-color);\n",
              "      border-right-color: var(--fill-color);\n",
              "    }\n",
              "    40% {\n",
              "      border-color: transparent;\n",
              "      border-right-color: var(--fill-color);\n",
              "      border-top-color: var(--fill-color);\n",
              "    }\n",
              "    60% {\n",
              "      border-color: transparent;\n",
              "      border-right-color: var(--fill-color);\n",
              "    }\n",
              "    80% {\n",
              "      border-color: transparent;\n",
              "      border-right-color: var(--fill-color);\n",
              "      border-bottom-color: var(--fill-color);\n",
              "    }\n",
              "    90% {\n",
              "      border-color: transparent;\n",
              "      border-bottom-color: var(--fill-color);\n",
              "    }\n",
              "  }\n",
              "</style>\n",
              "\n",
              "  <script>\n",
              "    async function quickchart(key) {\n",
              "      const quickchartButtonEl =\n",
              "        document.querySelector('#' + key + ' button');\n",
              "      quickchartButtonEl.disabled = true;  // To prevent multiple clicks.\n",
              "      quickchartButtonEl.classList.add('colab-df-spinner');\n",
              "      try {\n",
              "        const charts = await google.colab.kernel.invokeFunction(\n",
              "            'suggestCharts', [key], {});\n",
              "      } catch (error) {\n",
              "        console.error('Error during call to suggestCharts:', error);\n",
              "      }\n",
              "      quickchartButtonEl.classList.remove('colab-df-spinner');\n",
              "      quickchartButtonEl.classList.add('colab-df-quickchart-complete');\n",
              "    }\n",
              "    (() => {\n",
              "      let quickchartButtonEl =\n",
              "        document.querySelector('#df-80e1166f-46b7-4b73-9556-922c75f49571 button');\n",
              "      quickchartButtonEl.style.display =\n",
              "        google.colab.kernel.accessAllowed ? 'block' : 'none';\n",
              "    })();\n",
              "  </script>\n",
              "</div>\n",
              "\n",
              "  <div id=\"id_5a99bfa6-c75c-470e-87d8-e68b02140345\">\n",
              "    <style>\n",
              "      .colab-df-generate {\n",
              "        background-color: #E8F0FE;\n",
              "        border: none;\n",
              "        border-radius: 50%;\n",
              "        cursor: pointer;\n",
              "        display: none;\n",
              "        fill: #1967D2;\n",
              "        height: 32px;\n",
              "        padding: 0 0 0 0;\n",
              "        width: 32px;\n",
              "      }\n",
              "\n",
              "      .colab-df-generate:hover {\n",
              "        background-color: #E2EBFA;\n",
              "        box-shadow: 0px 1px 2px rgba(60, 64, 67, 0.3), 0px 1px 3px 1px rgba(60, 64, 67, 0.15);\n",
              "        fill: #174EA6;\n",
              "      }\n",
              "\n",
              "      [theme=dark] .colab-df-generate {\n",
              "        background-color: #3B4455;\n",
              "        fill: #D2E3FC;\n",
              "      }\n",
              "\n",
              "      [theme=dark] .colab-df-generate:hover {\n",
              "        background-color: #434B5C;\n",
              "        box-shadow: 0px 1px 3px 1px rgba(0, 0, 0, 0.15);\n",
              "        filter: drop-shadow(0px 1px 2px rgba(0, 0, 0, 0.3));\n",
              "        fill: #FFFFFF;\n",
              "      }\n",
              "    </style>\n",
              "    <button class=\"colab-df-generate\" onclick=\"generateWithVariable('sample_df')\"\n",
              "            title=\"Generate code using this dataframe.\"\n",
              "            style=\"display:none;\">\n",
              "\n",
              "  <svg xmlns=\"http://www.w3.org/2000/svg\" height=\"24px\"viewBox=\"0 0 24 24\"\n",
              "       width=\"24px\">\n",
              "    <path d=\"M7,19H8.4L18.45,9,17,7.55,7,17.6ZM5,21V16.75L18.45,3.32a2,2,0,0,1,2.83,0l1.4,1.43a1.91,1.91,0,0,1,.58,1.4,1.91,1.91,0,0,1-.58,1.4L9.25,21ZM18.45,9,17,7.55Zm-12,3A5.31,5.31,0,0,0,4.9,8.1,5.31,5.31,0,0,0,1,6.5,5.31,5.31,0,0,0,4.9,4.9,5.31,5.31,0,0,0,6.5,1,5.31,5.31,0,0,0,8.1,4.9,5.31,5.31,0,0,0,12,6.5,5.46,5.46,0,0,0,6.5,12Z\"/>\n",
              "  </svg>\n",
              "    </button>\n",
              "    <script>\n",
              "      (() => {\n",
              "      const buttonEl =\n",
              "        document.querySelector('#id_5a99bfa6-c75c-470e-87d8-e68b02140345 button.colab-df-generate');\n",
              "      buttonEl.style.display =\n",
              "        google.colab.kernel.accessAllowed ? 'block' : 'none';\n",
              "\n",
              "      buttonEl.onclick = () => {\n",
              "        google.colab.notebook.generateWithVariable('sample_df');\n",
              "      }\n",
              "      })();\n",
              "    </script>\n",
              "  </div>\n",
              "\n",
              "    </div>\n",
              "  </div>\n"
            ],
            "text/plain": [
              "       User_ID Product_ID  Gender  Age  Occupation  City_Category  \\\n",
              "15246  1002270  P00295942       1    1         1.0              2   \n",
              "9976   1001524  P00244142       1    1         4.0              1   \n",
              "18380  1002896  P00042142       1    1        14.0              1   \n",
              "17990  1002837  P00191442       1    1         0.0              1   \n",
              "5415   1000881  P00138442       1    1        14.0              0   \n",
              "14333  1002116  P00329542       1    1         4.0              1   \n",
              "10841  1001655  P00035542       1    1         4.0              2   \n",
              "10819  1001649  P00113242       1    1        19.0              2   \n",
              "16367  1002522  P00080342       1    1        11.0              0   \n",
              "10745  1001644  P00351142       1    1        12.0              0   \n",
              "221    1000039  P00351142       1    1         4.0              1   \n",
              "4063   1000671  P00113242       1    1         4.0              2   \n",
              "8036   1001246  P00198742       1    1         4.0              0   \n",
              "5323   1000869  P00048042       1    1        20.0              0   \n",
              "3107   1000510  P00127542       1    1        12.0              2   \n",
              "2723   1000436  P00012242       1    1         4.0              2   \n",
              "17379  1002744  P00186142       1    1        17.0              2   \n",
              "22470  1003522  P00114942       1    1         0.0              2   \n",
              "4102   1000676  P00057642       1    1        16.0              1   \n",
              "1726   1000274  P00305042       1    1         4.0              0   \n",
              "21619  1003411  P00185842       1    1         4.0              0   \n",
              "10032  1001542  P00034742       1    1        17.0              2   \n",
              "14478  1002145  P00158542       1    1        10.0              2   \n",
              "13027  1001949  P00025442       1    1        17.0              2   \n",
              "5410   1000881  P00149542       1    1        14.0              0   \n",
              "\n",
              "       Stay_In_Current_City_Years  Marital_Status  Product_Category_1  \\\n",
              "15246                         3.0             1.0                 2.0   \n",
              "9976                          1.0             0.0                 1.0   \n",
              "18380                         0.0             0.0                 1.0   \n",
              "17990                         1.0             0.0                 1.0   \n",
              "5415                          1.0             0.0                 1.0   \n",
              "14333                         4.0             1.0                 1.0   \n",
              "10841                         2.0             1.0                 3.0   \n",
              "10819                         2.0             1.0                 1.0   \n",
              "16367                         1.0             0.0                 1.0   \n",
              "10745                         2.0             0.0                 1.0   \n",
              "221                           2.0             0.0                 1.0   \n",
              "4063                          0.0             0.0                 1.0   \n",
              "8036                          2.0             0.0                 1.0   \n",
              "5323                          4.0             1.0                 1.0   \n",
              "3107                          3.0             0.0                 1.0   \n",
              "2723                          1.0             0.0                 2.0   \n",
              "17379                         1.0             1.0                 1.0   \n",
              "22470                         2.0             0.0                 1.0   \n",
              "4102                          1.0             1.0                 1.0   \n",
              "1726                          4.0             0.0                11.0   \n",
              "21619                         4.0             0.0                 4.0   \n",
              "10032                         4.0             0.0                 5.0   \n",
              "14478                         2.0             1.0                 5.0   \n",
              "13027                         0.0             0.0                 1.0   \n",
              "5410                          1.0             0.0                 1.0   \n",
              "\n",
              "       Product_Category_2  Product_Category_3  Purchase  Product_ID   \n",
              "15246                 5.0                15.0   13112.0          411  \n",
              "9976                  2.0                15.0   11815.0          365  \n",
              "18380                 2.0                 6.0   15278.0           61  \n",
              "17990                 2.0                15.0   15474.0          289  \n",
              "5415                  2.0                16.0    4501.0          192  \n",
              "14333                15.0                16.0   15453.0          432  \n",
              "10841                 4.0                12.0   13365.0           53  \n",
              "10819                 6.0                 8.0   19379.0          146  \n",
              "16367                 6.0                 8.0   19309.0          110  \n",
              "10745                 8.0                17.0   11532.0          456  \n",
              "221                   8.0                17.0   15319.0          456  \n",
              "4063                  6.0                 8.0   11771.0          146  \n",
              "8036                  2.0                11.0   15382.0          307  \n",
              "5323                  6.0                 8.0   15629.0           68  \n",
              "3107                  2.0                15.0   11836.0          172  \n",
              "2723                  4.0                 9.0    3780.0           18  \n",
              "17379                 2.0                 4.0    4512.0          272  \n",
              "22470                15.0                16.0   11871.0          150  \n",
              "4102                 15.0                16.0   15167.0           82  \n",
              "1726                 13.0                16.0    4547.0          417  \n",
              "21619                 5.0                15.0     704.0          271  \n",
              "10032                14.0                17.0    8899.0           50  \n",
              "14478                 6.0                13.0    8878.0          228  \n",
              "13027                 2.0                 9.0   19097.0           37  \n",
              "5410                  6.0                13.0   11848.0          214  "
            ]
          },
          "execution_count": 110,
          "metadata": {},
          "output_type": "execute_result"
        }
      ],
      "source": [
        "sample_df"
      ]
    },
    {
      "cell_type": "code",
      "execution_count": null,
      "metadata": {
        "id": "ms80rWzzsszO"
      },
      "outputs": [],
      "source": [
        "proposed_mean=10000"
      ]
    },
    {
      "cell_type": "markdown",
      "metadata": {
        "id": "5I4J3HbMsw85"
      },
      "source": [
        "Performing ttest for one sample"
      ]
    },
    {
      "cell_type": "code",
      "execution_count": null,
      "metadata": {
        "id": "-clw_wG2sz0d"
      },
      "outputs": [],
      "source": [
        "from scipy.stats import ttest_1samp\n"
      ]
    },
    {
      "cell_type": "code",
      "execution_count": null,
      "metadata": {
        "id": "qutUl9M3tILN"
      },
      "outputs": [],
      "source": [
        "tstatistic,p_value=ttest_1samp(sample_df['Purchase'],proposed_mean)"
      ]
    },
    {
      "cell_type": "code",
      "execution_count": null,
      "metadata": {
        "colab": {
          "base_uri": "https://localhost:8080/"
        },
        "id": "mZYHDxxhtsFZ",
        "outputId": "139d3de7-858c-4223-daef-f57b7480ff03"
      },
      "outputs": [
        {
          "name": "stdout",
          "output_type": "stream",
          "text": [
            "Failed to  Reject the null hypotheisis.Using this we can conclude Men ofage group 18-25 are having an average purchaseof 10000\n"
          ]
        }
      ],
      "source": [
        "if p_value>0.05:\n",
        "  print('Failed to  Reject the null hypotheisis.Using this we can conclude Men ofage group 18-25 are having an average purchaseof 10000')\n",
        "\n",
        "else:\n",
        "  print('Reject the null hypothesis.There is enough evidence to colclude that the average is 10000')\n"
      ]
    },
    {
      "cell_type": "code",
      "execution_count": null,
      "metadata": {
        "colab": {
          "base_uri": "https://localhost:8080/"
        },
        "id": "wBezymcFwF2W",
        "outputId": "7b193cc4-b7e0-4bd1-ad14-8680e8405cb2"
      },
      "outputs": [
        {
          "name": "stdout",
          "output_type": "stream",
          "text": [
            "P_value0.06950126522214765\n"
          ]
        }
      ],
      "source": [
        "print(f'P_value{p_value}')"
      ]
    },
    {
      "cell_type": "markdown",
      "metadata": {
        "id": "i-ZiDekHzZD1"
      },
      "source": []
    },
    {
      "cell_type": "markdown",
      "metadata": {
        "id": "HaDe-OXLzkOo"
      },
      "source": [
        "# It was observed that the percentage of women of the age that spend more than 10000 was 35%. Is it still the same?"
      ]
    },
    {
      "cell_type": "code",
      "execution_count": null,
      "metadata": {
        "id": "_8r2vcMDwQfH"
      },
      "outputs": [],
      "source": [
        "new_df2=df[(df['Purchase']>10000)]"
      ]
    },
    {
      "cell_type": "code",
      "execution_count": null,
      "metadata": {
        "colab": {
          "base_uri": "https://localhost:8080/"
        },
        "id": "qAX7MwXD0Fha",
        "outputId": "2e513881-e18f-4bbd-8d43-52b6fd55b6be"
      },
      "outputs": [
        {
          "data": {
            "text/plain": [
              "(30995, 12)"
            ]
          },
          "execution_count": 11,
          "metadata": {},
          "output_type": "execute_result"
        },
        {
          "data": {
            "text/plain": [
              "(30995, 12)"
            ]
          },
          "execution_count": 12,
          "metadata": {},
          "output_type": "execute_result"
        }
      ],
      "source": [
        "new_df2.shape"
      ]
    },
    {
      "cell_type": "markdown",
      "metadata": {
        "id": "w8s8Y97H2CQV"
      },
      "source": [
        "How many are females?"
      ]
    },
    {
      "cell_type": "code",
      "execution_count": null,
      "metadata": {
        "id": "MHxeija60Tfg"
      },
      "outputs": [],
      "source": [
        "count=new_df2['Gender'].value_counts()"
      ]
    },
    {
      "cell_type": "code",
      "execution_count": null,
      "metadata": {
        "colab": {
          "base_uri": "https://localhost:8080/"
        },
        "id": "uMLVEXmA2_ZI",
        "outputId": "76233d33-0ccf-4a71-a1ee-5458eeef981c"
      },
      "outputs": [
        {
          "data": {
            "text/plain": [
              "Gender\n",
              "M    24695\n",
              "F     6300\n",
              "Name: count, dtype: int64"
            ]
          },
          "execution_count": 14,
          "metadata": {},
          "output_type": "execute_result"
        }
      ],
      "source": [
        "count"
      ]
    },
    {
      "cell_type": "code",
      "execution_count": null,
      "metadata": {
        "id": "6edjHuJu3i5U"
      },
      "outputs": [],
      "source": [
        "#number of observations\n",
        "nobs=len(new_df2['Gender'])"
      ]
    },
    {
      "cell_type": "code",
      "execution_count": null,
      "metadata": {
        "id": "_VZ7lWyT1T5o"
      },
      "outputs": [],
      "source": [
        "#proportion in consideration :0.35\n",
        "p0=0.35"
      ]
    },
    {
      "cell_type": "markdown",
      "metadata": {
        "id": "2xiMBiqo5OHe"
      },
      "source": [
        "Percentage distribution"
      ]
    },
    {
      "cell_type": "code",
      "execution_count": null,
      "metadata": {
        "colab": {
          "base_uri": "https://localhost:8080/"
        },
        "id": "3Bi1y6rn3mgq",
        "outputId": "4da10442-3e1d-45c3-918c-5702e0d90dca"
      },
      "outputs": [
        {
          "data": {
            "text/plain": [
              "Gender\n",
              "M    0.796741\n",
              "F    0.203259\n",
              "Name: count, dtype: float64"
            ]
          },
          "execution_count": 17,
          "metadata": {},
          "output_type": "execute_result"
        }
      ],
      "source": [
        "new_df2['Gender'].value_counts()/nobs"
      ]
    },
    {
      "cell_type": "code",
      "execution_count": null,
      "metadata": {
        "id": "okUeq2XKuX9N"
      },
      "outputs": [],
      "source": [
        "#Null Hypothesis:The proportion of female is 35%.\n",
        "#Alternate Hypothesis:The proportion of female is not 35%."
      ]
    },
    {
      "cell_type": "code",
      "execution_count": null,
      "metadata": {
        "id": "ylfMOPp7ulhE"
      },
      "outputs": [],
      "source": [
        "from statsmodels.stats.proportion import proportions_ztest\n",
        "\n",
        "zstats,p_value=proportions_ztest(count,nobs,p0)\n"
      ]
    },
    {
      "cell_type": "code",
      "execution_count": null,
      "metadata": {
        "colab": {
          "base_uri": "https://localhost:8080/"
        },
        "id": "rG8eBpxT5IrR",
        "outputId": "8ea2d56f-4b6c-4f0f-99e4-204110d8c636"
      },
      "outputs": [
        {
          "name": "stdout",
          "output_type": "stream",
          "text": [
            "Reject the null hypothesis.There is enough evidence to colclude that the average is 10000\n",
            "Reject the null hypothesis.There is enough evidence to colclude that the average is 10000\n"
          ]
        }
      ],
      "source": [
        "if p_value>0.05:\n",
        "  print('Failed to  Reject the null hypotheisis.Using this we conclude that there is enough evidences that the female proportions is 35%')\n",
        "\n",
        "else:\n",
        "  print('Reject the null hypothesis.There is not the enough evidence to conclude that the proportion is 35% ')"
      ]
    },
    {
      "cell_type": "code",
      "execution_count": null,
      "metadata": {
        "colab": {
          "base_uri": "https://localhost:8080/"
        },
        "id": "RP2jRvsq5Wq6",
        "outputId": "bd670627-87a3-4e54-e641-76e25da09c19"
      },
      "outputs": [
        {
          "name": "stdout",
          "output_type": "stream",
          "text": [
            "p_value0.0\n"
          ]
        }
      ],
      "source": [
        "print(f'p_value{p_value}')"
      ]
    },
    {
      "cell_type": "markdown",
      "metadata": {
        "id": "-wSkpG--8-g-"
      },
      "source": [
        "Are the variances of the purchase amounts significantly different between men and women in the age group 18-25?"
      ]
    },
    {
      "cell_type": "markdown",
      "metadata": {
        "id": "N0VM_JcKGGqW"
      },
      "source": [
        "** Null Hypothesis:Spend will be equal\n",
        "   Alternate Hypothesis:Spend will not be equal.**\n"
      ]
    },
    {
      "cell_type": "code",
      "execution_count": null,
      "metadata": {
        "colab": {
          "base_uri": "https://localhost:8080/"
        },
        "id": "RcpWcgEB80Qq",
        "outputId": "292a96ac-888d-4a8a-a2ad-2ee862eed2d4"
      },
      "outputs": [
        {
          "output_type": "execute_result",
          "data": {
            "text/plain": [
              "(0, 12)"
            ]
          },
          "metadata": {},
          "execution_count": 12
        }
      ],
      "source": [
        "new_df_men=df[(df['Gender']==1) & (df['Age']==1)]\n",
        "\n",
        "new_df_men.shape"
      ]
    },
    {
      "cell_type": "code",
      "execution_count": null,
      "metadata": {
        "colab": {
          "base_uri": "https://localhost:8080/"
        },
        "id": "G2Qmk32mIUl5",
        "outputId": "234a400b-ada5-4492-d393-15e69e41d26e"
      },
      "outputs": [
        {
          "output_type": "execute_result",
          "data": {
            "text/plain": [
              "(0, 12)"
            ]
          },
          "metadata": {},
          "execution_count": 13
        }
      ],
      "source": [
        "new_df_women=df[(df['Gender']==0) & (df['Age']==1)]\n",
        "\n",
        "new_df_women.shape"
      ]
    },
    {
      "cell_type": "markdown",
      "metadata": {
        "id": "MmbYYmVULXNO"
      },
      "source": [
        "Sampling"
      ]
    },
    {
      "cell_type": "code",
      "execution_count": null,
      "metadata": {
        "colab": {
          "base_uri": "https://localhost:8080/",
          "height": 339
        },
        "id": "BNzF0y_4JMIw",
        "outputId": "552f87d1-7a8c-4bf0-83f3-854da6089ff9"
      },
      "outputs": [
        {
          "ename": "ValueError",
          "evalue": "a must be greater than 0 unless no samples are taken",
          "output_type": "error",
          "traceback": [
            "\u001b[0;31m---------------------------------------------------------------------------\u001b[0m",
            "\u001b[0;31mValueError\u001b[0m                                Traceback (most recent call last)",
            "\u001b[0;32m<ipython-input-9-908c3e196684>\u001b[0m in \u001b[0;36m<cell line: 1>\u001b[0;34m()\u001b[0m\n\u001b[0;32m----> 1\u001b[0;31m \u001b[0msample_men\u001b[0m\u001b[0;34m=\u001b[0m\u001b[0mnew_df_men\u001b[0m\u001b[0;34m.\u001b[0m\u001b[0msample\u001b[0m\u001b[0;34m(\u001b[0m\u001b[0;36m500\u001b[0m\u001b[0;34m,\u001b[0m\u001b[0mrandom_state\u001b[0m\u001b[0;34m=\u001b[0m\u001b[0;36m0\u001b[0m\u001b[0;34m)\u001b[0m\u001b[0;34m\u001b[0m\u001b[0;34m\u001b[0m\u001b[0m\n\u001b[0m\u001b[1;32m      2\u001b[0m \u001b[0msample_women\u001b[0m\u001b[0;34m=\u001b[0m\u001b[0mnew_df_women\u001b[0m\u001b[0;34m.\u001b[0m\u001b[0msample\u001b[0m\u001b[0;34m(\u001b[0m\u001b[0;36m500\u001b[0m\u001b[0;34m,\u001b[0m\u001b[0mrandom_state\u001b[0m\u001b[0;34m=\u001b[0m\u001b[0;36m0\u001b[0m\u001b[0;34m)\u001b[0m\u001b[0;34m\u001b[0m\u001b[0;34m\u001b[0m\u001b[0m\n",
            "\u001b[0;32m/usr/local/lib/python3.10/dist-packages/pandas/core/generic.py\u001b[0m in \u001b[0;36msample\u001b[0;34m(self, n, frac, replace, weights, random_state, axis, ignore_index)\u001b[0m\n\u001b[1;32m   5856\u001b[0m             \u001b[0mweights\u001b[0m \u001b[0;34m=\u001b[0m \u001b[0msample\u001b[0m\u001b[0;34m.\u001b[0m\u001b[0mpreprocess_weights\u001b[0m\u001b[0;34m(\u001b[0m\u001b[0mself\u001b[0m\u001b[0;34m,\u001b[0m \u001b[0mweights\u001b[0m\u001b[0;34m,\u001b[0m \u001b[0maxis\u001b[0m\u001b[0;34m)\u001b[0m\u001b[0;34m\u001b[0m\u001b[0;34m\u001b[0m\u001b[0m\n\u001b[1;32m   5857\u001b[0m \u001b[0;34m\u001b[0m\u001b[0m\n\u001b[0;32m-> 5858\u001b[0;31m         \u001b[0msampled_indices\u001b[0m \u001b[0;34m=\u001b[0m \u001b[0msample\u001b[0m\u001b[0;34m.\u001b[0m\u001b[0msample\u001b[0m\u001b[0;34m(\u001b[0m\u001b[0mobj_len\u001b[0m\u001b[0;34m,\u001b[0m \u001b[0msize\u001b[0m\u001b[0;34m,\u001b[0m \u001b[0mreplace\u001b[0m\u001b[0;34m,\u001b[0m \u001b[0mweights\u001b[0m\u001b[0;34m,\u001b[0m \u001b[0mrs\u001b[0m\u001b[0;34m)\u001b[0m\u001b[0;34m\u001b[0m\u001b[0;34m\u001b[0m\u001b[0m\n\u001b[0m\u001b[1;32m   5859\u001b[0m         \u001b[0mresult\u001b[0m \u001b[0;34m=\u001b[0m \u001b[0mself\u001b[0m\u001b[0;34m.\u001b[0m\u001b[0mtake\u001b[0m\u001b[0;34m(\u001b[0m\u001b[0msampled_indices\u001b[0m\u001b[0;34m,\u001b[0m \u001b[0maxis\u001b[0m\u001b[0;34m=\u001b[0m\u001b[0maxis\u001b[0m\u001b[0;34m)\u001b[0m\u001b[0;34m\u001b[0m\u001b[0;34m\u001b[0m\u001b[0m\n\u001b[1;32m   5860\u001b[0m \u001b[0;34m\u001b[0m\u001b[0m\n",
            "\u001b[0;32m/usr/local/lib/python3.10/dist-packages/pandas/core/sample.py\u001b[0m in \u001b[0;36msample\u001b[0;34m(obj_len, size, replace, weights, random_state)\u001b[0m\n\u001b[1;32m    149\u001b[0m             \u001b[0;32mraise\u001b[0m \u001b[0mValueError\u001b[0m\u001b[0;34m(\u001b[0m\u001b[0;34m\"Invalid weights: weights sum to zero\"\u001b[0m\u001b[0;34m)\u001b[0m\u001b[0;34m\u001b[0m\u001b[0;34m\u001b[0m\u001b[0m\n\u001b[1;32m    150\u001b[0m \u001b[0;34m\u001b[0m\u001b[0m\n\u001b[0;32m--> 151\u001b[0;31m     return random_state.choice(obj_len, size=size, replace=replace, p=weights).astype(\n\u001b[0m\u001b[1;32m    152\u001b[0m         \u001b[0mnp\u001b[0m\u001b[0;34m.\u001b[0m\u001b[0mintp\u001b[0m\u001b[0;34m,\u001b[0m \u001b[0mcopy\u001b[0m\u001b[0;34m=\u001b[0m\u001b[0;32mFalse\u001b[0m\u001b[0;34m\u001b[0m\u001b[0;34m\u001b[0m\u001b[0m\n\u001b[1;32m    153\u001b[0m     )\n",
            "\u001b[0;32mmtrand.pyx\u001b[0m in \u001b[0;36mnumpy.random.mtrand.RandomState.choice\u001b[0;34m()\u001b[0m\n",
            "\u001b[0;31mValueError\u001b[0m: a must be greater than 0 unless no samples are taken"
          ]
        }
      ],
      "source": [
        "sample_men=new_df_men.sample(500,random_state=0)\n",
        "sample_women=new_df_women.sample(500,random_state=0)"
      ]
    },
    {
      "cell_type": "markdown",
      "metadata": {
        "id": "qme1hvSOMUog"
      },
      "source": [
        "Check for the variance"
      ]
    },
    {
      "cell_type": "code",
      "execution_count": null,
      "metadata": {
        "colab": {
          "base_uri": "https://localhost:8080/",
          "height": 211
        },
        "id": "OOctHyR9L6h-",
        "outputId": "31c442fd-e53d-4ad3-dcdb-64a2e925cc2f"
      },
      "outputs": [
        {
          "ename": "NameError",
          "evalue": "name 'sample_men' is not defined",
          "output_type": "error",
          "traceback": [
            "\u001b[0;31m---------------------------------------------------------------------------\u001b[0m",
            "\u001b[0;31mNameError\u001b[0m                                 Traceback (most recent call last)",
            "\u001b[0;32m<ipython-input-10-104de6bf1445>\u001b[0m in \u001b[0;36m<cell line: 1>\u001b[0;34m()\u001b[0m\n\u001b[0;32m----> 1\u001b[0;31m \u001b[0ma\u001b[0m\u001b[0;34m=\u001b[0m\u001b[0msample_men\u001b[0m\u001b[0;34m[\u001b[0m\u001b[0;34m'Purchase'\u001b[0m\u001b[0;34m]\u001b[0m\u001b[0;34m.\u001b[0m\u001b[0mvar\u001b[0m\u001b[0;34m(\u001b[0m\u001b[0;34m)\u001b[0m\u001b[0;34m\u001b[0m\u001b[0;34m\u001b[0m\u001b[0m\n\u001b[0m\u001b[1;32m      2\u001b[0m \u001b[0mb\u001b[0m\u001b[0;34m=\u001b[0m\u001b[0msample_women\u001b[0m\u001b[0;34m[\u001b[0m\u001b[0;34m'Purchase'\u001b[0m\u001b[0;34m]\u001b[0m\u001b[0;34m.\u001b[0m\u001b[0mvar\u001b[0m\u001b[0;34m(\u001b[0m\u001b[0;34m)\u001b[0m\u001b[0;34m\u001b[0m\u001b[0;34m\u001b[0m\u001b[0m\n\u001b[1;32m      3\u001b[0m \u001b[0mprint\u001b[0m\u001b[0;34m(\u001b[0m\u001b[0;34mf'Variance of Males:{a}'\u001b[0m\u001b[0;34m)\u001b[0m\u001b[0;34m\u001b[0m\u001b[0;34m\u001b[0m\u001b[0m\n\u001b[1;32m      4\u001b[0m \u001b[0mprint\u001b[0m\u001b[0;34m(\u001b[0m\u001b[0;34mf'Variance of Females:{b}'\u001b[0m\u001b[0;34m)\u001b[0m\u001b[0;34m\u001b[0m\u001b[0;34m\u001b[0m\u001b[0m\n\u001b[1;32m      5\u001b[0m \u001b[0;34m\u001b[0m\u001b[0m\n",
            "\u001b[0;31mNameError\u001b[0m: name 'sample_men' is not defined"
          ]
        }
      ],
      "source": [
        "a=sample_men['Purchase'].var()\n",
        "b=sample_women['Purchase'].var()\n",
        "print(f'Variance of Males:{a}')\n",
        "print(f'Variance of Females:{b}')\n",
        "\n"
      ]
    }
  ],
  "metadata": {
    "colab": {
      "provenance": []
    },
    "kernelspec": {
      "display_name": "Python 3",
      "name": "python3"
    },
    "language_info": {
      "name": "python"
    }
  },
  "nbformat": 4,
  "nbformat_minor": 0
}