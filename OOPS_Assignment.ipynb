{
  "nbformat": 4,
  "nbformat_minor": 0,
  "metadata": {
    "colab": {
      "provenance": []
    },
    "kernelspec": {
      "name": "python3",
      "display_name": "Python 3"
    },
    "language_info": {
      "name": "python"
    }
  },
  "cells": [
    {
      "cell_type": "markdown",
      "source": [
        "Q1. Write a Python program to demonstrate multiple inheritance.\n",
        "1. Employee class has 3 data members EmployeeID, Gender (String), Salary and\n",
        "PerformanceRating(Out of 5) of type int. It has a get() function to get these details from\n",
        "the user.\n",
        "2. JoiningDetail class has a data member DateOfJoining of type Date and a function\n",
        "getDoJ to get the Date of joining of employees.\n",
        "3. Information Class uses the marks from Employee class and the DateOfJoining date\n",
        "from the JoiningDetail class to calculate the top 3 Employees based on their Ratings\n",
        "and then Display, using readData, all the details on these employees in Ascending\n",
        "order of their Date Of Joining."
      ],
      "metadata": {
        "id": "gW05HlyFqHpC"
      }
    },
    {
      "cell_type": "code",
      "source": [
        "import datetime\n",
        "class Employee:\n",
        "  def _init_(self):\n",
        "    self.EmployeeID = 0\n",
        "    self.Gender = \" \"\n",
        "    self.Salary = 0\n",
        "    self.PerformanceRating = 0\n",
        "  def get(self):\n",
        "    self.EmployeeID = int(input(\"Enter Employee ID: \"))\n",
        "    self.Gender = input(\"Enter Gender: \")\n",
        "    self.Salary = float(input(\"Enter Salary: \"))\n",
        "    self.PerformanceRating = int(input(\"Enter Performance Rating (out of 5): \"))\n",
        "class JoiningDetail:\n",
        "  def _init_(self):\n",
        "    self.DateOfJoining = datetime.today()\n",
        "  def getDoJ(self):\n",
        "    year = int(input(\"Enter Joining Year: \"))\n",
        "    month = int(input(\"Enter Joining Month: \"))\n",
        "    day = int(input(\"Enter Joining Day: \"))\n",
        "    self.DateOfJoining = datetime.date(year, month, day)\n",
        "class Information(Employee, JoiningDetail):\n",
        "  def _init_(self):\n",
        "    Employee._init_(self)\n",
        "    JoiningDetail._init_(self)\n",
        "  def readData(self):\n",
        "    employees = []\n",
        "    for _ in range(5):\n",
        "      employee = Information()\n",
        "      employee.get()\n",
        "      employee.getDoJ()\n",
        "      employees.append(employee)\n",
        "    return employees\n",
        "  def display(self, employees):\n",
        "    sorted_employees = sorted(employees, key=lambda x: x.DateOfJoining) #FOR RATING WE HAVE TO USE (EMPLOYEES,key=lamda x:x.PerformanceRating,reverse=TRUE)\n",
        "    print(\"Top 3 Employees based on Ratings and in Ascending order of Date Of Joining:\")\n",
        "    for i, employee in enumerate(sorted_employees[:3]):\n",
        "      print(f'Employee {i+1} Details:')\n",
        "      print(f\"Employee ID: {employee.EmployeeID}\")\n",
        "      print(f\"Gender: {employee.Gender}\")\n",
        "      print(f\"Salary: {employee.Salary}\")\n",
        "      print(f\"Performance Rating: {employee.PerformanceRating}\")\n",
        "      print(f\"Date Of Joining: {employee.DateOfJoining}\")\n",
        "if __name__ == \"__main__\":\n",
        "  info_obj = Information()\n",
        "  employees_data = info_obj.readData()\n",
        "  info_obj.display(employees_data)"
      ],
      "metadata": {
        "colab": {
          "base_uri": "https://localhost:8080/"
        },
        "id": "14YuMhqm0LID",
        "outputId": "13f62284-ad7a-420d-8e3d-90a0ef823d36"
      },
      "execution_count": null,
      "outputs": [
        {
          "output_type": "stream",
          "name": "stdout",
          "text": [
            "Enter Employee ID: 1\n",
            "Enter Gender: MALE\n",
            "Enter Salary: 50000\n",
            "Enter Performance Rating (out of 5): 1\n",
            "Enter Joining Year: 2022\n",
            "Enter Joining Month: 05\n",
            "Enter Joining Day: 15\n",
            "Enter Employee ID: 2\n",
            "Enter Gender: FEMALE\n",
            "Enter Salary: 40000\n",
            "Enter Performance Rating (out of 5): 5\n",
            "Enter Joining Year: 2023\n",
            "Enter Joining Month: 09\n",
            "Enter Joining Day: 14\n",
            "Enter Employee ID: 3\n",
            "Enter Gender: FEMALE\n",
            "Enter Salary: 40000\n",
            "Enter Performance Rating (out of 5): 4\n",
            "Enter Joining Year: 2021\n",
            "Enter Joining Month: 04\n",
            "Enter Joining Day: 14\n",
            "Enter Employee ID: 4\n",
            "Enter Gender: FEMALE\n",
            "Enter Salary: 50000\n",
            "Enter Performance Rating (out of 5): 1\n",
            "Enter Joining Year: 2024\n",
            "Enter Joining Month: 2\n",
            "Enter Joining Day: 12\n",
            "Enter Employee ID: 5\n",
            "Enter Gender: FEMALE\n",
            "Enter Salary: 20000\n",
            "Enter Performance Rating (out of 5): 3\n",
            "Enter Joining Year: 2020\n",
            "Enter Joining Month: 08\n",
            "Enter Joining Day: 11\n",
            "Top 3 Employees based on Ratings and in Ascending order of Date Of Joining:\n",
            "Employee 1 Details:\n",
            "Employee ID: 5\n",
            "Gender: FEMALE\n",
            "Salary: 20000.0\n",
            "Performance Rating: 3\n",
            "Date Of Joining: 2020-08-11\n",
            "Employee 2 Details:\n",
            "Employee ID: 3\n",
            "Gender: FEMALE\n",
            "Salary: 40000.0\n",
            "Performance Rating: 4\n",
            "Date Of Joining: 2021-04-14\n",
            "Employee 3 Details:\n",
            "Employee ID: 1\n",
            "Gender: MALE\n",
            "Salary: 50000.0\n",
            "Performance Rating: 1\n",
            "Date Of Joining: 2022-05-15\n"
          ]
        }
      ]
    },
    {
      "cell_type": "markdown",
      "source": [
        "# Q.2 Write a Python program to demonstrate Polymorphism.\n",
        "1. Class Vehicle with a parameterized function Fare, that takes input value as fare and\n",
        "returns it to calling Objects.\n",
        "2. Create five separate variables Bus, Car, Train, Truck and Ship that call the Fare\n",
        "function.\n",
        "3. Use a third variable TotalFare to store the sum of fare for each Vehicle Type.\n",
        "4. Print the TotalFare."
      ],
      "metadata": {
        "id": "7glQNFkrZc99"
      }
    },
    {
      "cell_type": "code",
      "source": [
        "class Vehicle:\n",
        "\n",
        "  def Fare(self,fareamount):\n",
        "    self.f2=fareamount\n",
        "\n",
        "\n",
        "    n=int(input('How many numbers of  this vehicle are present?'))\n",
        "    TotalFare=self.f2\n",
        "    for i in range(0,n-1):\n",
        "\n",
        "      self.f=int(input(\"Enter  next fare amount \"))\n",
        "      TotalFare=TotalFare+self.f\n",
        "    print(\"Total Fare:\",TotalFare)\n",
        "    return self.f2"
      ],
      "metadata": {
        "id": "MOPkhQO0VwvV"
      },
      "execution_count": null,
      "outputs": []
    },
    {
      "cell_type": "code",
      "source": [
        "\n",
        "\n",
        "Bus=Vehicle()\n",
        "Car=Vehicle()\n",
        "Train=Vehicle()\n",
        "Truck=Vehicle()\n",
        "Ship=Vehicle()\n",
        "Bus.Fare(450)\n",
        "\n",
        "\n",
        "\n",
        "\n"
      ],
      "metadata": {
        "id": "Y6QLPje8OlcG",
        "colab": {
          "base_uri": "https://localhost:8080/"
        },
        "outputId": "7c9b12cc-33c5-4ba5-8fd7-798df61c01dc"
      },
      "execution_count": null,
      "outputs": [
        {
          "output_type": "stream",
          "name": "stdout",
          "text": [
            "How many numbers of  this vehicle are present?3\n",
            "Enter  next fare amount 217\n",
            "Enter  next fare amount 129\n",
            "Total Fare: 796\n"
          ]
        },
        {
          "output_type": "execute_result",
          "data": {
            "text/plain": [
              "450"
            ]
          },
          "metadata": {},
          "execution_count": 47
        }
      ]
    },
    {
      "cell_type": "code",
      "source": [
        "car=Vehicle()\n",
        "Car.Fare(200)\n",
        "Train.Fare(3000)\n",
        "Truck.Fare(500)\n",
        "Ship.Fare(4200)"
      ],
      "metadata": {
        "colab": {
          "base_uri": "https://localhost:8080/"
        },
        "id": "c5oZkZktGhV2",
        "outputId": "20f72ee8-de04-41eb-b5dd-86adec3e72aa"
      },
      "execution_count": null,
      "outputs": [
        {
          "output_type": "stream",
          "name": "stdout",
          "text": [
            "Enter total number of  bus/car/train/truck/ship4\n",
            "Enter  next fare amount 2110\n",
            "Enter  next fare amount 310\n",
            "Enter  next fare amount 4000\n",
            "Total Fare: 6620\n",
            "Enter total number of  bus/car/train/truck/ship2\n",
            "Enter  next fare amount 120\n",
            "Total Fare: 337\n",
            "Enter total number of  bus/car/train/truck/ship3\n",
            "Enter  next fare amount 190\n",
            "Enter  next fare amount 180\n",
            "Total Fare: 499\n",
            "Enter total number of  bus/car/train/truck/ship2\n",
            "Enter  next fare amount 216\n",
            "Total Fare: 355\n",
            "Enter total number of  bus/car/train/truck/ship3\n",
            "Enter  next fare amount 214\n",
            "Enter  next fare amount 213\n",
            "Total Fare: 647\n"
          ]
        },
        {
          "output_type": "execute_result",
          "data": {
            "text/plain": [
              "220"
            ]
          },
          "metadata": {},
          "execution_count": 45
        }
      ]
    },
    {
      "cell_type": "markdown",
      "source": [
        "Test Match 1 :\n",
        "Dhoni : 56 , Balaji : 94\n",
        "Test Match 2 :\n",
        "Balaji : 80 , Dravid : 105\n",
        "Calculate the highest number of runs scored by an individual cricketer in both of the matches.\n",
        "Create a python function Max_Score (M) that reads a dictionary M that recognizes the player\n",
        "with the highest total score. This function will return ( Top player , Total Score ) . You can\n",
        "consider the Top player as String who is the highest scorer and Top score as Integer .\n",
        "Input : Max_Score({‘test1’:{‘Dhoni’:56, ‘Balaji : 85}, ‘test2’:{‘Dhoni’ 87, ‘Balaji’’:200}})\n",
        "Output : (‘Balaji ‘ , 200)"
      ],
      "metadata": {
        "id": "L9d8_S9cLb9-"
      }
    },
    {
      "cell_type": "code",
      "source": [
        "M={\n",
        "    'test1':{'Dhoni':56,'Balaji':94},\n",
        "    'test2':{'Dhoni':80,'Dravid':105}\n",
        "}\n"
      ],
      "metadata": {
        "id": "I5Gz1OnJNL98"
      },
      "execution_count": null,
      "outputs": []
    },
    {
      "cell_type": "code",
      "source": [
        "def MaxScore(M):\n",
        "  top_player=''\n",
        "  top_score=0\n",
        "  for test,scores in M.items():\n",
        "    for player,score in scores.items():\n",
        "      if(top_score<score):\n",
        "        top_score=score\n",
        "        top_player=player\n",
        "\n",
        "  return top_player,top_score\n",
        "\n"
      ],
      "metadata": {
        "id": "8S9F62WSN8GR"
      },
      "execution_count": null,
      "outputs": []
    },
    {
      "cell_type": "code",
      "source": [
        "D=MaxScore(M)\n",
        "print(D)"
      ],
      "metadata": {
        "id": "Ubq7Lw5VWluj",
        "colab": {
          "base_uri": "https://localhost:8080/"
        },
        "outputId": "6c3d1be9-70e8-4570-a914-b7cfa2eb06a2"
      },
      "execution_count": null,
      "outputs": [
        {
          "output_type": "stream",
          "name": "stdout",
          "text": [
            "('Dravid', 105)\n"
          ]
        }
      ]
    },
    {
      "cell_type": "markdown",
      "source": [
        "Q4. Create a simple Card game in which there are 8 cards which are randomly chosen from a\n",
        "deck. The first card is shown face up. The game asks the player to predict whether the next card\n",
        "in the selection will have a higher or lower value than the currently showing card.\n",
        "For example, say the card that’s shown is a 3. The player chooses “higher,” and the next card is\n",
        "shown. If that card has a higher value, the player is correct. In this example, if the player had\n",
        "chosen “lower,” they would have been incorrect. If the player guesses correctly, they get 20\n",
        "points. If they choose incorrectly, they lose 15 points. If the next card to be turned over has the\n",
        "same value as the previous card, the player is incorrect"
      ],
      "metadata": {
        "id": "y-gOTbNRivNU"
      }
    },
    {
      "cell_type": "code",
      "source": [
        "import random\n",
        "\n",
        "# Function to create a deck of cards\n",
        "def create_deck():\n",
        "    suits = ['Hearts', 'Diamonds', 'Clubs', 'Spades']\n",
        "    ranks = ['2', '3', '4', '5', '6', '7', '8', '9', '10', 'Jack', 'Queen', 'King', 'Ace']\n",
        "    deck = [(rank, suit) for rank in ranks for suit in suits]\n",
        "    return deck\n",
        "def card_game():\n",
        "    deck = create_deck()\n",
        "    random.shuffle(deck)\n",
        "\n",
        "    score = 0\n",
        "    current_card = deck.pop()\n",
        "    print(f\"First card is: {current_card[0]} of {current_card[1]}\")\n",
        "\n",
        "    while len(deck) > 0:\n",
        "        user_input = input(\"Predict higher or lower (h/l): \").lower()\n",
        "\n",
        "        next_card = deck.pop()\n",
        "        print(f\"Next card is: {next_card[0]} of {next_card[1]}\")\n",
        "\n",
        "        if ranks.index(next_card[0]) == ranks.index(current_card[0]):\n",
        "            print(\"Same value card! You lose.\")\n",
        "            score -= 15\n",
        "        elif ranks.index(next_card[0]) > ranks.index(current_card[0]) and user_input == 'h':\n",
        "            print(\"Correct! Card was higher.\")\n",
        "            score += 20\n",
        "        elif ranks.index(next_card[0]) < ranks.index(current_card[0]) and user_input == 'l':\n",
        "            print(\"Correct! Card was lower.\")\n",
        "            score += 20\n",
        "        else:\n",
        "            print(\"Incorrect prediction!\")\n",
        "            score -= 15\n",
        "\n",
        "            current_card = next_card\n",
        "        print(f\"Your score: {score}\")\n",
        "\n",
        "        play_again = input(\"Do you want to continue playing? (y/n): \").lower()\n",
        "        if play_again != 'y':\n",
        "            break\n",
        "\n",
        "    print(\"Game Over!\")\n",
        "    print(f\"Your final score is: {score}\")\n",
        "\n",
        "\n",
        "ranks = ['2', '3', '4', '5', '6', '7', '8', '9', '10','Ace','Jack', 'Queen', 'King']\n",
        "\n",
        "# Play the card game\n",
        "card_game()"
      ],
      "metadata": {
        "id": "kf8o-uluJkl6",
        "colab": {
          "base_uri": "https://localhost:8080/"
        },
        "outputId": "8ec22573-5bd9-4a72-9b8b-c20e2a32ba5f"
      },
      "execution_count": null,
      "outputs": [
        {
          "output_type": "stream",
          "name": "stdout",
          "text": [
            "First card is: 3 of Clubs\n",
            "Predict higher or lower (h/l): h\n",
            "Next card is: 2 of Hearts\n",
            "Incorrect prediction!\n",
            "Your score: -15\n",
            "Do you want to continue playing? (y/n): y\n",
            "Predict higher or lower (h/l): l\n",
            "Next card is: Ace of Spades\n",
            "Incorrect prediction!\n",
            "Your score: -30\n",
            "Do you want to continue playing? (y/n): y\n",
            "Predict higher or lower (h/l): h\n",
            "Next card is: 5 of Diamonds\n",
            "Incorrect prediction!\n",
            "Your score: -45\n",
            "Do you want to continue playing? (y/n): n\n",
            "Game Over!\n",
            "Your final score is: -45\n"
          ]
        }
      ]
    },
    {
      "cell_type": "code",
      "source": [
        "fruifruitsts"
      ],
      "metadata": {
        "id": "Mc-QLH5yuRQa"
      },
      "execution_count": null,
      "outputs": []
    },
    {
      "cell_type": "markdown",
      "source": [
        "Q5. Create an empty dictionary called Car_0 . Then fill the dictionary with Keys : color , speed\n",
        ", X_position and Y_position.\n",
        "car_0 = {'x_position': 10, 'y_position': 72, 'speed': 'medium'} .\n",
        "a) If the speed is slow the coordinates of the X_pos get incremented by 2.\n",
        "b) If the speed is Medium the coordinates of the X_pos gets incremented by 9\n",
        "c) Now if the speed is Fast the coordinates of the X_pos gets incremented by 22.\n",
        "Print the modified dictionary."
      ],
      "metadata": {
        "id": "nyCAGfOaSiAx"
      }
    },
    {
      "cell_type": "code",
      "source": [
        "Car_0={}\n",
        "\n"
      ],
      "metadata": {
        "id": "KkCnfjTJSeyc"
      },
      "execution_count": null,
      "outputs": []
    },
    {
      "cell_type": "code",
      "source": [
        "Car_0={\n",
        "    'color':'red',\n",
        "    'speed':'medium',                    #filled the dictionary with keys\n",
        "    'x_pos':10,\n",
        "    'y_pos':72\n",
        "}\n",
        "\n",
        "\n"
      ],
      "metadata": {
        "id": "aFSVyYvoSv6j"
      },
      "execution_count": null,
      "outputs": []
    },
    {
      "cell_type": "code",
      "source": [
        "Car_0['speed']=input('enter fast/slow/medium')\n",
        "if(Car_0['speed']=='slow'):\n",
        "  Car_0['x_pos']+=2                                                         #   based on inout with comes\n",
        "\n",
        "elif(Car_0['speed']=='medium'):\n",
        "  Car_0['x_pos']=Car_0['x_pos']+9\n",
        "\n",
        "elif(Car_0['speed']=='fast'):\n",
        "  Car_0['x_pos']+=22\n"
      ],
      "metadata": {
        "colab": {
          "base_uri": "https://localhost:8080/"
        },
        "id": "vEwK4sPzT5dL",
        "outputId": "33bf9f9e-fc37-4f77-e656-869a6ddb4b82"
      },
      "execution_count": null,
      "outputs": [
        {
          "name": "stdout",
          "output_type": "stream",
          "text": [
            "enter fast/slow/mediumfast\n"
          ]
        }
      ]
    },
    {
      "cell_type": "code",
      "source": [
        "Car_0"
      ],
      "metadata": {
        "colab": {
          "base_uri": "https://localhost:8080/"
        },
        "id": "Bd0LG1X6T9tD",
        "outputId": "609f05b4-40f8-4a5f-e8cc-afaf02884291"
      },
      "execution_count": null,
      "outputs": [
        {
          "output_type": "execute_result",
          "data": {
            "text/plain": [
              "{'color': 'red', 'speed': 'fast', 'x_pos': 43, 'y_pos': 72}"
            ]
          },
          "metadata": {},
          "execution_count": 27
        }
      ]
    },
    {
      "cell_type": "markdown",
      "source": [
        "Show a basic implementation of abstraction in python using the abstract classes.\n",
        "1. Create an abstract class in python.\n",
        "2. Implement abstraction with the other classes and base class as abstract class."
      ],
      "metadata": {
        "id": "UcAZUkrmiRna"
      }
    },
    {
      "cell_type": "code",
      "source": [
        "from abc import ABC, abstractmethod\n",
        "class Square(ABC):\n",
        "  @abstractmethod\n",
        "  def abstract_method(self):\n",
        "      pass\n",
        "\n",
        "class Side(Square):\n",
        "  def abstract_method(self):\n",
        "    print('This is an example of abstraction')\n",
        "\n",
        "\n"
      ],
      "metadata": {
        "id": "gjBUkszLiShj"
      },
      "execution_count": null,
      "outputs": []
    },
    {
      "cell_type": "markdown",
      "source": [
        "Q7. Create a program in python to demonstrate Polymorphism.\n",
        "1. Make use of private and protected members using python name mangling techniques."
      ],
      "metadata": {
        "id": "vdH9EVzGY6Wm"
      }
    },
    {
      "cell_type": "code",
      "source": [
        "class Shape:\n",
        "\n",
        "  def __init__(self ,A,B):\n",
        "    self._a=A                 #protected members\n",
        "    self._b=B\n",
        "  def add(self,a,b):\n",
        "    print(a+b)\n",
        "  def area(self):\n",
        "    pass\n",
        "class Rectangle(Shape):\n",
        "  def __init__(self,A,B):\n",
        "    Shape.__init__(self,A,B)\n",
        "\n",
        "  def add(self,a,b,c):\n",
        "    print(a+b+c)\n",
        "  def area(self):\n",
        "   return self._a*self._b\n",
        "\n",
        "\n",
        "class Square(Shape):\n",
        "  def __init__(self,A):\n",
        "    self.__side=A\n",
        "\n",
        "  def add(self,a,b,c,d):\n",
        "    print(a+b+c+d)\n",
        "\n",
        "\n",
        "  def area(self):\n",
        "    return self.__side**2\n",
        "\n",
        "\n",
        "\n",
        "\n",
        "\n",
        "\n",
        "\n",
        "\n",
        "\n",
        "\n",
        "\n",
        "\n"
      ],
      "metadata": {
        "id": "1y11sInZYIP8"
      },
      "execution_count": null,
      "outputs": []
    },
    {
      "cell_type": "code",
      "source": [
        "s=Square(5)\n",
        "u=s.area()\n",
        "s.add(2,4,6,1)\n",
        "print(u)\n",
        "d=Rectangle(3,4)\n",
        "d.add(4,2,13)\n",
        "e=d.area()\n",
        "print(e)"
      ],
      "metadata": {
        "colab": {
          "base_uri": "https://localhost:8080/"
        },
        "id": "hN4FCiOtcZqS",
        "outputId": "33abcc04-a8bb-45d2-a97f-8386be8a58cd"
      },
      "execution_count": null,
      "outputs": [
        {
          "output_type": "stream",
          "name": "stdout",
          "text": [
            "13\n",
            "25\n",
            "19\n",
            "12\n"
          ]
        }
      ]
    },
    {
      "cell_type": "code",
      "source": [
        "s._Square__side   ##name mangling technique #private member but still it got accessed"
      ],
      "metadata": {
        "colab": {
          "base_uri": "https://localhost:8080/"
        },
        "id": "4nJVwU9hh1k_",
        "outputId": "795a0bdc-d0ca-4c18-ad37-f6d1617ede19"
      },
      "execution_count": null,
      "outputs": [
        {
          "output_type": "execute_result",
          "data": {
            "text/plain": [
              "5"
            ]
          },
          "metadata": {},
          "execution_count": 7
        }
      ]
    },
    {
      "cell_type": "markdown",
      "source": [
        "Q8. Given a list of 50 natural numbers from 1-50. Create a function that will take every element\n",
        "from the list and return the square of each element. Use the python map and filter methods to\n",
        "implement the function on the given list.\n"
      ],
      "metadata": {
        "id": "YE3R7y2yd28f"
      }
    },
    {
      "cell_type": "code",
      "source": [
        "def Square(x):\n",
        "\n",
        "  return x*x\n",
        "\n",
        "\n"
      ],
      "metadata": {
        "id": "dTEUUgF4dBsI"
      },
      "execution_count": null,
      "outputs": []
    },
    {
      "cell_type": "code",
      "source": [
        "#map\n",
        "x=[]\n",
        "for i  in range(1,51):\n",
        "  x.append(i)\n",
        "print(x)\n",
        "new_L=list(map(Square,x))\n",
        "print(new_L)"
      ],
      "metadata": {
        "colab": {
          "base_uri": "https://localhost:8080/"
        },
        "id": "97B070zPe8sd",
        "outputId": "b7d350c7-b927-440e-b7fc-9f96f52b6813"
      },
      "execution_count": null,
      "outputs": [
        {
          "output_type": "stream",
          "name": "stdout",
          "text": [
            "[1, 2, 3, 4, 5, 6, 7, 8, 9, 10, 11, 12, 13, 14, 15, 16, 17, 18, 19, 20, 21, 22, 23, 24, 25, 26, 27, 28, 29, 30, 31, 32, 33, 34, 35, 36, 37, 38, 39, 40, 41, 42, 43, 44, 45, 46, 47, 48, 49, 50]\n",
            "[1, 4, 9, 16, 25, 36, 49, 64, 81, 100, 121, 144, 169, 196, 225, 256, 289, 324, 361, 400, 441, 484, 529, 576, 625, 676, 729, 784, 841, 900, 961, 1024, 1089, 1156, 1225, 1296, 1369, 1444, 1521, 1600, 1681, 1764, 1849, 1936, 2025, 2116, 2209, 2304, 2401, 2500]\n"
          ]
        }
      ]
    },
    {
      "cell_type": "markdown",
      "source": [
        "Q9. Create a class, Triangle. Its init() method should take self, angle1, angle2, and angle3 as\n",
        "arguments."
      ],
      "metadata": {
        "id": "w33p8zvZhBNk"
      }
    },
    {
      "cell_type": "code",
      "source": [
        "class Triangle:\n",
        "  def __init__(self,angle1,angle2,angle3):\n",
        "    self.A=angle1\n",
        "    self.B=angle2\n",
        "    self.C=angle3"
      ],
      "metadata": {
        "id": "PcPxXVRqgdHE"
      },
      "execution_count": null,
      "outputs": []
    },
    {
      "cell_type": "markdown",
      "source": [
        "Q10. Create a class variable named number_of_sides and set it equal to 3."
      ],
      "metadata": {
        "id": "sD4eLa5XhQjb"
      }
    },
    {
      "cell_type": "code",
      "source": [
        "class Shape:\n",
        "  number_of_sides=3\n"
      ],
      "metadata": {
        "id": "Ui3EKBUVg8nx"
      },
      "execution_count": null,
      "outputs": []
    },
    {
      "cell_type": "code",
      "source": [
        "f=Shape()\n",
        "f.number_of_sides"
      ],
      "metadata": {
        "colab": {
          "base_uri": "https://localhost:8080/"
        },
        "id": "Hrr0eDNchdmd",
        "outputId": "7a238b0e-5a45-4bf0-830d-68ee96ddfd74"
      },
      "execution_count": null,
      "outputs": [
        {
          "output_type": "execute_result",
          "data": {
            "text/plain": [
              "3"
            ]
          },
          "metadata": {},
          "execution_count": 49
        }
      ]
    },
    {
      "cell_type": "markdown",
      "source": [
        "Q11. Create a method named check_angles. The sum of a triangle's three angles should return\n",
        "True if the sum is equal to 180, and False otherwise. The method should print whether the\n",
        "angles belong to a triangle or not.\n",
        "11.1 Write methods to verify if the triangle is an acute triangle or obtuse triangle.\n",
        "11.2 Create an instance of the triangle class and call all the defined methods.\n",
        "11.3 Create three child classes of triangle class - isosceles_triangle, right_triangle and\n",
        "equilateral_triangle.\n",
        "11.4 Define methods which check for their properties."
      ],
      "metadata": {
        "id": "IhspdRBzCTWG"
      }
    },
    {
      "cell_type": "code",
      "source": [
        "\n",
        "class Triangle:\n",
        "  def __init__(self,A,B,C,S1,S2,S3):\n",
        "    self.angle1=A\n",
        "    self.angle2=B\n",
        "    self.angle3=C\n",
        "    self.side1=S1\n",
        "    self.side2=S2\n",
        "    self.side3=S3\n",
        "\n",
        "  def check_angles(self):\n",
        "    if (self.angle1+self.angle2+self.angle3==180):\n",
        "      print('the angle belong to the triangle')\n",
        "      return True\n",
        "    else:\n",
        "      print('the angle do not belong to triangle')\n",
        "      return False\n",
        "\n",
        "  def isacute_angled(self):\n",
        "      if((self.angle1<90 and self.angle2<90 and self.angle3<90) and(self.side1>self.side2  and self.side1>self.side3 and (self.side1**2<self.side2**2+self.side3**2) or ((self.side2>self.side3  and self.side2>self.side1) and (self.side2**2<self.side1**2+self.side3**2))or((self.side3>self.side1  and self.side3>self.side2) and (self.side3**2<self.side2**2+self.side1**2)))):\n",
        "          print('Yes it is acute angled triangle')\n",
        "\n",
        "      else :\n",
        "        print('No it is not a acute angled triangle')\n",
        "\n",
        "\n",
        "  def isobtuse_angled(self):\n",
        "      if((self.angle1>90 and ((self.angle2+self.angle3<90))) or (self.angle2>90)and (self.angle1+self.angle3<90) or (self.angle3>90) and (self.angle1+self.angle2<90)):\n",
        "        print('Yes it is obtuse angled triangle')\n",
        "      else:\n",
        "        print('No it is not obtuse angled triangle')\n",
        "\n",
        "class isoceles_triangle(Triangle):\n",
        "  def __init__(self,A,B,C,S1,S2,S3):\n",
        "    Triangle.__init__(self,A,B,C,S1,S2,S3)\n",
        "    Triangle.check_angles(self)\n",
        "    self.side1=S1\n",
        "    self.side2=S2\n",
        "    self.side3=S3\n",
        "  def is_isoceles(self):\n",
        "      if((self.angle1==self.angle2 or self.angle2==self.angle3 or self.angle3==self.angle1) and (self.side1==self.side2 or self.side2==self.side3 or self.side1==self.side3)):\n",
        "        print('Yes it is isoceles triangle')\n",
        "\n",
        "      else:\n",
        "        print('No, it is not a isoceles triangle')\n",
        "\n",
        "class right_triangle(Triangle):\n",
        "  def __init__(self,A,B,C,S1,S2,S3):\n",
        "    Triangle.__init__(self,A,B,C,S1,S2,S3)\n",
        "    Triangle.check_angles(self)\n",
        "\n",
        "  def is_right_angled(self):\n",
        "      if(self.angle1==90 or self.angle2==90 or self.angle3==90):\n",
        "        print('Yes it is right angled triangle')\n",
        "\n",
        "      else:\n",
        "        print('No, it is not a right angled triangle')\n",
        "\n",
        "\n",
        "class equilateral_triangle(Triangle):\n",
        "  def __init__(self,A,B,C,S1,S2,S3):\n",
        "    Triangle.__init__(self,A,B,C,S1,S2,S3)\n",
        "    Triangle.check_angles(self)\n",
        "    self.side1=S1\n",
        "    self.side2=S2\n",
        "    self.side3=S3\n",
        "\n",
        "  def is_equilateral(self):\n",
        "      if((self.angle1==self.angle2==self.angle3==60)and self.side1==self.side2==self.side3 ):\n",
        "        print('Yes it is equilateral triangle')\n",
        "\n",
        "      else:\n",
        "        print('No, it is not equilateral triangle')\n",
        "\n"
      ],
      "metadata": {
        "id": "1mxZSg3d953H"
      },
      "execution_count": null,
      "outputs": []
    },
    {
      "cell_type": "code",
      "source": [
        "t=Triangle(60,40,80,3,3,4)\n",
        "t.check_angles()\n",
        "t.isacute_angled()\n",
        "t.isobtuse_angled()\n",
        "g=Triangle(120,30,30,4,4,6)\n",
        "g.isobtuse_angled()\n",
        "\n"
      ],
      "metadata": {
        "colab": {
          "base_uri": "https://localhost:8080/"
        },
        "id": "6GjspjANBCbG",
        "outputId": "1510c4a6-b9ca-403a-8c6d-58f54e1a1af0"
      },
      "execution_count": null,
      "outputs": [
        {
          "output_type": "stream",
          "name": "stdout",
          "text": [
            "the angle belong to the triangle\n",
            "Yes it is acute angled triangle\n",
            "No it is not obtuse angled triangle\n",
            "Yes it is obtuse angled triangle\n"
          ]
        }
      ]
    },
    {
      "cell_type": "code",
      "source": [
        "j=Triangle(67,43,110,4,5,3)\n",
        "j.check_angles()"
      ],
      "metadata": {
        "colab": {
          "base_uri": "https://localhost:8080/"
        },
        "id": "H11QZ4S4CPnG",
        "outputId": "b0cb8d7f-676f-445f-e795-b84c0aa2d328"
      },
      "execution_count": null,
      "outputs": [
        {
          "output_type": "stream",
          "name": "stdout",
          "text": [
            "the angle do not belong to triangle\n"
          ]
        },
        {
          "output_type": "execute_result",
          "data": {
            "text/plain": [
              "False"
            ]
          },
          "metadata": {},
          "execution_count": 28
        }
      ]
    },
    {
      "cell_type": "code",
      "source": [
        "obj1=equilateral_triangle(60,60,60,3,3,3)\n",
        "obj1.is_equilateral()\n",
        "obj2=right_triangle(80,50,50,3,4,5)\n",
        "obj2.is_right_angled()\n",
        "obj3=isoceles_triangle(50,50,80,5,5,6)\n",
        "obj3.is_isoceles()"
      ],
      "metadata": {
        "colab": {
          "base_uri": "https://localhost:8080/"
        },
        "id": "gAWQ2Z9VGm1X",
        "outputId": "d51c6cf0-1f08-46fc-839f-dfdf7b1dae4a"
      },
      "execution_count": null,
      "outputs": [
        {
          "output_type": "stream",
          "name": "stdout",
          "text": [
            "the angle belong to the triangle\n",
            "Yes it is equilateral triangle\n",
            "the angle belong to the triangle\n",
            "No, it is not a right angled triangle\n",
            "the angle belong to the triangle\n",
            "Yes it is isoceles triangle\n"
          ]
        }
      ]
    },
    {
      "cell_type": "markdown",
      "source": [
        "Create a class isosceles_right_triangle which inherits from isosceles_triangle and\n",
        "right_triangle.\n",
        "12.1 Define methods which check for their properties"
      ],
      "metadata": {
        "id": "NbA28MChJrrj"
      }
    },
    {
      "cell_type": "code",
      "source": [
        "class isoceles_right_triangle(isoceles_triangle,right_triangle):\n",
        "  def __init__(self,A,B,C,S1,S2,S3):\n",
        "    isoceles_triangle.__init__(self,A,B,C,S1,S2,S3)\n",
        "    right_triangle.__init__(self,A,B,C,S1,S2,S3)\n",
        "\n",
        "  def is_isoceles_right_triangle(self):\n",
        "    if((self.angle1==self.angle2 or self.angle2==self.angle3 or self.angle1==self.angle3 )and (self.angle1==90 or self.angle2==90 or self.angle3==90) and(self.angle1+self.angle2+self.angle3)==180):\n",
        "      print('YES it is isoceles right angled triangle')\n",
        "    else:\n",
        "      print('No , it is not isoceles right angled triangle')\n",
        "\n",
        "\n",
        "\n"
      ],
      "metadata": {
        "id": "bzlBX4tcJkni"
      },
      "execution_count": null,
      "outputs": []
    },
    {
      "cell_type": "code",
      "source": [
        "abj=isoceles_right_triangle(45,45,90,4,4,5)\n",
        "abj.is_isoceles_right_triangle()"
      ],
      "metadata": {
        "colab": {
          "base_uri": "https://localhost:8080/"
        },
        "id": "9QmaHWoiNaxu",
        "outputId": "7df882f1-aad9-4a0b-f80a-3ae49e14f23b"
      },
      "execution_count": null,
      "outputs": [
        {
          "output_type": "stream",
          "name": "stdout",
          "text": [
            "the angle belong to the triangle\n",
            "the angle belong to the triangle\n",
            "YES it is isoceles right angled triangle\n"
          ]
        }
      ]
    }
  ]
}