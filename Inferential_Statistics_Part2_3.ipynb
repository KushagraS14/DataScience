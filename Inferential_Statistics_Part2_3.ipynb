{
  "nbformat": 4,
  "nbformat_minor": 0,
  "metadata": {
    "colab": {
      "provenance": []
    },
    "kernelspec": {
      "name": "python3",
      "display_name": "Python 3"
    },
    "language_info": {
      "name": "python"
    }
  },
  "cells": [
    {
      "cell_type": "code",
      "execution_count": null,
      "metadata": {
        "colab": {
          "base_uri": "https://localhost:8080/"
        },
        "id": "iPqy94fH68Tc",
        "outputId": "e92e23c6-c45f-4e6d-df89-d4954ccd7bc0"
      },
      "outputs": [
        {
          "output_type": "stream",
          "name": "stdout",
          "text": [
            "tstat is:10.954451150103322\n",
            "Dof:29\n",
            "tcritical t_value:2.045229642132703\n",
            "p_value:8.02128714022661e-12\n",
            " reject the null hypothesis,Sample mean is significantly diffeernt from population mean\n"
          ]
        }
      ],
      "source": [
        "#one sample t test\n",
        "#data given\n",
        "import numpy as np\n",
        "from scipy import stats\n",
        "#data Given\n",
        "sample_mean=140\n",
        "population_mean=100\n",
        "sample_std=20\n",
        "alpha=0.05\n",
        "n=30\n",
        "degrees_of_freedom=n-1\n",
        "#CALCULATION OF TSTATISTIC\n",
        "t_statistic=(sample_mean-population_mean)/(sample_std/np.sqrt(n))\n",
        "print(f'tstat is:{t_statistic}')\n",
        "print(f'Dof:{degrees_of_freedom}')\n",
        "#calculate critical value\n",
        "critical_t_value=stats.t.ppf(1-alpha/2,degrees_of_freedom)                     #ppf Percent Point Function to calculate the  critical value of any test  we use ppf\n",
        "print(f'tcritical t_value:{critical_t_value}')\n",
        "\n",
        "#calculate p value\n",
        "p_value=stats.t.sf(np.abs(t_statistic),degrees_of_freedom)*2\n",
        "print(f'p_value:{p_value}')\n",
        "\n",
        "\n",
        "#universal line\n",
        "if p_value<alpha:\n",
        "  print(' reject the null hypothesis,Sample mean is significantly different from population mean')                        #this line be remains the same whatever test We conduct\n",
        "else:\n",
        "  print('Fail to reject/Accept ,sample mean is not significantly different from population mean')"
      ]
    },
    {
      "cell_type": "code",
      "source": [
        "#two sample t test\n"
      ],
      "metadata": {
        "id": "aAthYBkTKj3H"
      },
      "execution_count": null,
      "outputs": []
    },
    {
      "cell_type": "code",
      "source": [
        "#example comparing test scores of students from different schools\n",
        "#suppose we have two groups of students.Students from school A and students from school B,We want to determine if we have significant difference on their performance on a standardised test\n",
        "#Group A consist of 30 students from school A\n",
        "#Group B consist of 30 students from school B\n",
        "#both students claim that their teaching methods are superior,so we want to test if there is an evidence supporting their claim"
      ],
      "metadata": {
        "id": "ytaCVeHnDeMr"
      },
      "execution_count": null,
      "outputs": []
    },
    {
      "cell_type": "code",
      "source": [
        "#generate the data\n",
        "import numpy as np\n",
        "#mean=loc ,scale=std deviation\n",
        "school_a_scores=np.random.normal(loc=70,scale=10,size=30)\n",
        "school_b_scores=np.random.normal(loc=50,scale=0,size=30)\n",
        "print(school_a_scores)\n",
        "print(school_b_scores)\n",
        "\n",
        "t_statistic,p_value=stats.ttest_ind(school_a_scores,school_b_scores)\n",
        "print(f't-stats:{t_statistic}')\n",
        "print(f'p_Value:{p_value}')"
      ],
      "metadata": {
        "colab": {
          "base_uri": "https://localhost:8080/"
        },
        "id": "oi18LAsNPXiN",
        "outputId": "fb8a7fc7-9906-46b2-9973-61a92b0b633b"
      },
      "execution_count": null,
      "outputs": [
        {
          "output_type": "stream",
          "name": "stdout",
          "text": [
            "[62.05035286 62.0805235  56.57996979 59.78381697 54.69472581 70.0256424\n",
            " 68.90534189 66.45456235 60.52438498 47.27811067 69.57740299 79.70955587\n",
            " 70.64548894 76.25075345 70.29639287 41.88171824 76.65261861 67.46723326\n",
            " 70.82301629 76.49297783 59.71968408 87.53158574 65.64267235 59.54147686\n",
            " 66.84404594 75.10139299 73.38702792 72.94383241 61.7916675  73.33144003]\n",
            "[50. 50. 50. 50. 50. 50. 50. 50. 50. 50. 50. 50. 50. 50. 50. 50. 50. 50.\n",
            " 50. 50. 50. 50. 50. 50. 50. 50. 50. 50. 50. 50.]\n",
            "t-stats9.623427405113931\n",
            "p_Value1.262260391961218e-13\n"
          ]
        }
      ]
    },
    {
      "cell_type": "code",
      "source": [
        "#Example :examining the effiectiveness of a memory technique\n",
        "#suppose the group of students wants to test the effectiveness of a memory technique called 'method of loci'\n",
        "#each student will recall the list of 20 words both before and after  using the meory technique\n",
        "#we want to determine if there is significant  imporvement in memory performance after using the method of loci\n",
        "stats.ttest_rel"
      ],
      "metadata": {
        "id": "UFhHkczkPgzI"
      },
      "execution_count": null,
      "outputs": []
    },
    {
      "cell_type": "code",
      "source": [
        "import numpy as np\n",
        "from scipy.stats import norm\n",
        "#One sampleZ test\n",
        "#data fromthe  problem\n",
        "population_mean=80\n",
        "sample_mean=78\n",
        "std_Dev=2.5\n",
        "alpha=0.05\n",
        "n=40\n",
        "\n",
        "\n",
        "Z_statistic=(sample_mean-population_mean)/(std_Dev/np.sqrt(n))\n",
        "print(f'z_statistic:{Z_statistic}')\n",
        "Z_criticalvalue=norm.ppf(1-alpha/2)                            #No degrees of freedom in Z , two tailed test so alpha/2\n",
        "print(f'Z_criticalvalue:{Z_criticalvalue}')\n",
        "\n",
        "\n",
        "p_value=2* (1-norm.cdf(abs(Z_statistic)))\n",
        "print(f'P_value{p_value}')\n",
        "if p_value<alpha:\n",
        "  print('Reject the null hypothesis. Actual_mean is different from sample_mean')\n",
        "\n",
        "else:\n",
        "  print('Failed to Reject the Null Hypotesis')\n",
        "\n",
        "\n",
        "\n",
        "\n",
        "                                                                                  #sf fullform is survival function\n"
      ],
      "metadata": {
        "colab": {
          "base_uri": "https://localhost:8080/"
        },
        "id": "yfVIDXhm3Ec3",
        "outputId": "a0b271e5-7cad-4c64-f0f3-90bf183141ce"
      },
      "execution_count": null,
      "outputs": [
        {
          "output_type": "stream",
          "name": "stdout",
          "text": [
            "z_statistic:-5.059644256269407\n",
            "Z_criticalvalue:1.959963984540054\n",
            "P_value4.200393977082939e-07\n",
            "Reject the null hypothesis. Actual_mean is different from sample_mean\n"
          ]
        }
      ]
    },
    {
      "cell_type": "code",
      "source": [
        "alpha=0.01\n",
        "z_critic=norm.ppf(1-alpha/2)\n",
        "print(z_critic)"
      ],
      "metadata": {
        "colab": {
          "base_uri": "https://localhost:8080/"
        },
        "id": "jy3xRTHwmCYC",
        "outputId": "c6742225-73c3-4f54-8468-cb378e8218c3"
      },
      "execution_count": null,
      "outputs": [
        {
          "output_type": "stream",
          "name": "stdout",
          "text": [
            "2.5758293035489004\n"
          ]
        }
      ]
    },
    {
      "cell_type": "code",
      "source": [
        "#Z_test for proportion\n",
        "from statsmodels.stats.proportion import proportions_ztest\n",
        "vegetarian_count=960\n",
        "total_population=1860\n",
        "p_hat=vegetarian_count/total_population\n",
        "print(p_hat)\n",
        "alpha=0.1\n",
        "zstatistic,p_value=proportions_ztest(count=vegetarian_count,nobs=total_population,value=0.50,alternative='two-sided')\n",
        "print(zstatistic)\n",
        "print(p_value)"
      ],
      "metadata": {
        "colab": {
          "base_uri": "https://localhost:8080/"
        },
        "id": "zOaiCBcx7RAv",
        "outputId": "fc94b602-f276-482f-8b03-73a60bfab7ec"
      },
      "execution_count": null,
      "outputs": [
        {
          "output_type": "stream",
          "name": "stdout",
          "text": [
            "0.5161290322580645\n",
            "1.3919410907075043\n",
            "0.16394023748003028\n"
          ]
        }
      ]
    }
  ]
}