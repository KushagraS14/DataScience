{
  "nbformat": 4,
  "nbformat_minor": 0,
  "metadata": {
    "colab": {
      "provenance": []
    },
    "kernelspec": {
      "name": "python3",
      "display_name": "Python 3"
    },
    "language_info": {
      "name": "python"
    }
  },
  "cells": [
    {
      "cell_type": "markdown",
      "source": [
        " # Topic for Discussion"
      ],
      "metadata": {
        "id": "ketoci2ilvRD"
      }
    },
    {
      "cell_type": "markdown",
      "source": [
        "#Practice ,Practice,Practice...."
      ],
      "metadata": {
        "id": "wto5yBcPl0K7"
      }
    },
    {
      "cell_type": "code",
      "source": [
        "def add(a,b):\n",
        "  return a+b\n",
        "\n",
        "def subtract(a,b):\n",
        "  return a-b\n",
        "\n",
        "def multiply(a,b):\n",
        "  return a*b\n",
        "\n",
        "def divide(a,b):\n",
        "  return a/b"
      ],
      "metadata": {
        "id": "0lTpLXjSl6hn"
      },
      "execution_count": null,
      "outputs": []
    },
    {
      "cell_type": "code",
      "source": [
        "c=add(4,5)\n",
        "d=multiply(3,4)\n",
        "r=subtract(9,7)\n",
        "print(c)\n",
        "print(d)\n",
        "print(r)\n",
        "f=divide(6,2)\n",
        "print (f)"
      ],
      "metadata": {
        "colab": {
          "base_uri": "https://localhost:8080/"
        },
        "id": "w-zzdSd8mlbi",
        "outputId": "1b3fd113-0670-4ae3-b7cb-c212e44c8ca3"
      },
      "execution_count": null,
      "outputs": [
        {
          "output_type": "stream",
          "name": "stdout",
          "text": [
            "9\n",
            "12\n",
            "2\n",
            "3.0\n"
          ]
        }
      ]
    },
    {
      "cell_type": "code",
      "source": [
        "import module as m"
      ],
      "metadata": {
        "id": "dkVDmQzbsYaJ"
      },
      "execution_count": null,
      "outputs": []
    },
    {
      "cell_type": "code",
      "source": [
        "m.add(5,6)"
      ],
      "metadata": {
        "colab": {
          "base_uri": "https://localhost:8080/"
        },
        "id": "IE-k2zPgscFK",
        "outputId": "bcd85867-c556-41a4-83db-2ff5ef7c0d63"
      },
      "execution_count": null,
      "outputs": [
        {
          "output_type": "execute_result",
          "data": {
            "text/plain": [
              "11"
            ]
          },
          "metadata": {},
          "execution_count": 7
        }
      ]
    },
    {
      "cell_type": "code",
      "source": [
        " from module import add as a"
      ],
      "metadata": {
        "id": "388ENztMw-f6"
      },
      "execution_count": null,
      "outputs": []
    },
    {
      "cell_type": "code",
      "source": [
        "from module import substract as b"
      ],
      "metadata": {
        "id": "9X9or2Dw2a_H"
      },
      "execution_count": null,
      "outputs": []
    },
    {
      "cell_type": "code",
      "source": [
        "def Greater(a,b):\n",
        "  if(a>b):\n",
        "    print('first number is greater')\n",
        "  elif(b>a):\n",
        "    print('Second Numberis greator')\n",
        "  else:\n",
        "    print('Both numbers are equal')"
      ],
      "metadata": {
        "id": "x5pRxxDcxERh"
      },
      "execution_count": null,
      "outputs": []
    },
    {
      "cell_type": "code",
      "source": [
        "a=int(input('Enter the first number'))\n",
        "b=int(input('Enter the second number'))\n",
        "Greater(a,b)"
      ],
      "metadata": {
        "colab": {
          "base_uri": "https://localhost:8080/"
        },
        "id": "H9DKPpc-x8vT",
        "outputId": "7b6178c3-8987-4dbf-fef8-cff59cec53ad"
      },
      "execution_count": null,
      "outputs": [
        {
          "output_type": "stream",
          "name": "stdout",
          "text": [
            "Enter the first number7\n",
            "Enter the second number7\n",
            "Both numbers are equal\n"
          ]
        }
      ]
    },
    {
      "cell_type": "code",
      "source": [
        "#for armstrong take one number as input\n",
        "#prime please take one number as input"
      ],
      "metadata": {
        "id": "mQDm6O3_ywu9"
      },
      "execution_count": null,
      "outputs": []
    },
    {
      "cell_type": "code",
      "source": [
        "\n",
        "\n",
        "\n"
      ],
      "metadata": {
        "id": "qMipENAny1tZ"
      },
      "execution_count": null,
      "outputs": []
    },
    {
      "cell_type": "code",
      "source": [
        "# check whether the given number is prime or not"
      ],
      "metadata": {
        "id": "svuMCDCn7Ck5"
      },
      "execution_count": null,
      "outputs": []
    },
    {
      "cell_type": "code",
      "source": [
        "def isprime(a):\n",
        "  c=0\n",
        "  if(a==1):\n",
        "    print(\"it is neither prime nor composite\")\n",
        "  for i in range(1,a+1):\n",
        "    if(a%i==0):\n",
        "      c=c+1\n",
        "\n",
        "  if c==2:\n",
        "    print(\"the number is prime\")\n",
        "  else:\n",
        "    print(\"the number is not prime\")\n",
        "\n"
      ],
      "metadata": {
        "id": "4cz_JdPJ7JD4"
      },
      "execution_count": null,
      "outputs": []
    },
    {
      "cell_type": "code",
      "source": [
        "isprime(4)"
      ],
      "metadata": {
        "colab": {
          "base_uri": "https://localhost:8080/"
        },
        "id": "b9hVmlPhETui",
        "outputId": "71fbb5be-0693-4a50-8568-3498bbff229f"
      },
      "execution_count": null,
      "outputs": [
        {
          "output_type": "stream",
          "name": "stdout",
          "text": [
            "the number is not prime\n"
          ]
        }
      ]
    },
    {
      "cell_type": "code",
      "source": [
        "isprime(3)"
      ],
      "metadata": {
        "colab": {
          "base_uri": "https://localhost:8080/"
        },
        "id": "3WglcHgDEj2n",
        "outputId": "4213409a-cdd4-4eb4-df38-3017a5b08d5c"
      },
      "execution_count": null,
      "outputs": [
        {
          "output_type": "stream",
          "name": "stdout",
          "text": [
            "the number is prime\n"
          ]
        }
      ]
    },
    {
      "cell_type": "code",
      "source": [
        "m=int(input('Enter a number'))\n",
        "isprime(m)"
      ],
      "metadata": {
        "colab": {
          "base_uri": "https://localhost:8080/"
        },
        "id": "Yhv7Z6blztf6",
        "outputId": "11442ef2-d8e7-4762-ff29-affebfe6a42d"
      },
      "execution_count": null,
      "outputs": [
        {
          "output_type": "stream",
          "name": "stdout",
          "text": [
            "Enter a number5\n",
            "the number is prime\n"
          ]
        }
      ]
    },
    {
      "cell_type": "code",
      "source": [
        "isprime(m)"
      ],
      "metadata": {
        "colab": {
          "base_uri": "https://localhost:8080/"
        },
        "id": "HF5g6FT2077e",
        "outputId": "6aa70111-5cf6-4140-98bd-2831913ca27f"
      },
      "execution_count": null,
      "outputs": [
        {
          "output_type": "stream",
          "name": "stdout",
          "text": [
            "the number is prime\n"
          ]
        }
      ]
    },
    {
      "cell_type": "code",
      "source": [],
      "metadata": {
        "id": "k8l5kD9m3_Ix"
      },
      "execution_count": null,
      "outputs": []
    },
    {
      "cell_type": "markdown",
      "source": [
        "# Armstrong Number"
      ],
      "metadata": {
        "id": "hK0sBjgy4A84"
      }
    },
    {
      "cell_type": "code",
      "source": [
        "def armstrong(num) :\n",
        "  y=num\n",
        "  v=num\n",
        "  sum=0\n",
        "  cnt=0\n",
        "  while(num>0):\n",
        "    num=num//10\n",
        "    cnt=cnt+1\n",
        "  print(cnt)\n",
        "  while(y>0):\n",
        "      a=y%10\n",
        "      sum=sum + pow(a,cnt)\n",
        "      y=y//10\n",
        "  print(sum)\n",
        "  print(v)\n",
        "  if(v==sum):\n",
        "    print(\"the number is a armstrong number\")\n",
        "  else:\n",
        "    print(\"the number is not a armstrong number\")"
      ],
      "metadata": {
        "id": "z9ouGWmN4HQi"
      },
      "execution_count": null,
      "outputs": []
    },
    {
      "cell_type": "code",
      "source": [
        "num=int(input(\"enter the number\"))\n",
        "armstrong(num)"
      ],
      "metadata": {
        "colab": {
          "base_uri": "https://localhost:8080/"
        },
        "id": "QvoAGfEY6S-R",
        "outputId": "33b4be04-f28a-4170-b090-c896889c0b47"
      },
      "execution_count": null,
      "outputs": [
        {
          "output_type": "stream",
          "name": "stdout",
          "text": [
            "enter the number153\n",
            "3\n",
            "153\n",
            "153\n",
            "the number is a armstrong number\n"
          ]
        }
      ]
    },
    {
      "cell_type": "code",
      "source": [
        "def add(a,b):\n",
        "  return a+b\n",
        "\n",
        "def subtract(a,b):\n",
        "  return a-b\n",
        "\n",
        "def multiply(a,b):\n",
        "  return a*b\n",
        "\n",
        "def floor_divide(a,b):\n",
        "  return a//b\n",
        "\n",
        "\n",
        "\n"
      ],
      "metadata": {
        "id": "wylZDmoORwAI"
      },
      "execution_count": null,
      "outputs": []
    },
    {
      "cell_type": "code",
      "source": [
        "a=int(input(\"Enter the first number\"))\n",
        "b=int(input(\"Enter the second number\"))\n",
        "f=input(\"choose the operation +,-,*,/\")\n",
        "\n",
        "if(f=='+'):\n",
        "  print(\"the result is:\", add(a,b))\n",
        "elif(f=='-'):\n",
        "  print(\"the result is:\", subtract(a,b))\n",
        "if(f=='*'):\n",
        "  print(\"the result is:\", multiply(a,b))\n",
        "if(f=='/'):\n",
        "  print(\"the result is:\", floor_divide(a,b))\n"
      ],
      "metadata": {
        "id": "JYxuKdVV6YMv",
        "colab": {
          "base_uri": "https://localhost:8080/"
        },
        "outputId": "c3ce2533-7848-4567-87d6-161523de97fd"
      },
      "execution_count": null,
      "outputs": [
        {
          "output_type": "stream",
          "name": "stdout",
          "text": [
            "Enter the first number2\n",
            "Enter the second number4\n",
            "choose the operation +,-,*,/+\n",
            "the result is: 6\n"
          ]
        }
      ]
    },
    {
      "cell_type": "markdown",
      "source": [
        "# Fibonacci sequence"
      ],
      "metadata": {
        "id": "US_jm2YEky06"
      }
    },
    {
      "cell_type": "code",
      "source": [
        "def fibonacii(n):\n",
        "  a=0\n",
        "  b=1\n",
        "  print(a)\n",
        "  print(b)\n",
        "\n",
        "  for i in range(0,n):\n",
        "    c=a+b\n",
        "    print(c)\n",
        "    a=b\n",
        "    b=c\n",
        "\n",
        "\n",
        "\n"
      ],
      "metadata": {
        "id": "a5ApjqyxiJDp"
      },
      "execution_count": null,
      "outputs": []
    },
    {
      "cell_type": "code",
      "source": [
        " n=int(input('Enter the length of fibonacci sequence'))\n",
        " fibonaci\n",
        " i(n)"
      ],
      "metadata": {
        "colab": {
          "base_uri": "https://localhost:8080/"
        },
        "id": "SuoC9NSNmer_",
        "outputId": "482c24b5-1e50-4f0b-cf83-4ee683ea6095"
      },
      "execution_count": null,
      "outputs": [
        {
          "output_type": "stream",
          "name": "stdout",
          "text": [
            "Enter the length of fibonacci sequence6\n",
            "0\n",
            "1\n",
            "1\n",
            "2\n",
            "3\n",
            "5\n",
            "8\n",
            "13\n"
          ]
        }
      ]
    },
    {
      "cell_type": "code",
      "source": [
        "a=[]\n",
        "for i in range(0,40):\n",
        "  if(i%2==0):\n",
        "    a.append(i)\n",
        "\n",
        "\n",
        "print(a)\n",
        "print(len(a))\n",
        "b=a[: : -1]\n",
        "print(b)\n",
        "print(a.index(34))\n",
        "a[17]=100\n",
        "print(a)"
      ],
      "metadata": {
        "colab": {
          "base_uri": "https://localhost:8080/"
        },
        "id": "JdjkcqYAo-E8",
        "outputId": "bc9c55ac-ee06-4c0b-f53d-ccf601d7de80"
      },
      "execution_count": null,
      "outputs": [
        {
          "output_type": "stream",
          "name": "stdout",
          "text": [
            "[0, 2, 4, 6, 8, 10, 12, 14, 16, 18, 20, 22, 24, 26, 28, 30, 32, 34, 36, 38]\n",
            "20\n",
            "[38, 36, 34, 32, 30, 28, 26, 24, 22, 20, 18, 16, 14, 12, 10, 8, 6, 4, 2, 0]\n",
            "17\n",
            "[0, 2, 4, 6, 8, 10, 12, 14, 16, 18, 20, 22, 24, 26, 28, 30, 32, 100, 36, 38]\n"
          ]
        }
      ]
    }
  ]
}