{
  "nbformat": 4,
  "nbformat_minor": 0,
  "metadata": {
    "colab": {
      "provenance": []
    },
    "kernelspec": {
      "name": "python3",
      "display_name": "Python 3"
    },
    "language_info": {
      "name": "python"
    }
  },
  "cells": [
    {
      "cell_type": "code",
      "execution_count": null,
      "metadata": {
        "id": "lXYMCJf4fONF"
      },
      "outputs": [],
      "source": [
        "def factor(N):\n",
        "  fact=1\n",
        "  for i in range (1,N):\n",
        "    fact=fact*i\n",
        "  return fact"
      ]
    },
    {
      "cell_type": "code",
      "source": [
        "g=factor(5)\n",
        "g"
      ],
      "metadata": {
        "colab": {
          "base_uri": "https://localhost:8080/"
        },
        "id": "R3_f7_wsfln7",
        "outputId": "e920494f-dde8-4753-f25e-600209bbbfb7"
      },
      "execution_count": null,
      "outputs": [
        {
          "output_type": "execute_result",
          "data": {
            "text/plain": [
              "24"
            ]
          },
          "metadata": {},
          "execution_count": 2
        }
      ]
    },
    {
      "cell_type": "code",
      "source": [
        "def check_string():\n",
        "  f=input(\"enter your string\")\n",
        "  n=len(f)\n",
        "  for i in range(0,len(f)):\n",
        "    if f[i]=='s' :\n",
        "      return True\n",
        "\n",
        "    else:\n",
        "      return False\n"
      ],
      "metadata": {
        "id": "SCuOpzARhoip"
      },
      "execution_count": null,
      "outputs": []
    },
    {
      "cell_type": "code",
      "source": [
        "check_string()"
      ],
      "metadata": {
        "colab": {
          "base_uri": "https://localhost:8080/"
        },
        "id": "fhD5mBWXjfyZ",
        "outputId": "648be6a7-8d45-43d8-91f4-14c61672a5cb"
      },
      "execution_count": null,
      "outputs": [
        {
          "name": "stdout",
          "output_type": "stream",
          "text": [
            "enter your stringschool\n"
          ]
        },
        {
          "output_type": "execute_result",
          "data": {
            "text/plain": [
              "True"
            ]
          },
          "metadata": {},
          "execution_count": 9
        }
      ]
    },
    {
      "cell_type": "code",
      "source": [
        "double_num=lambda a: 2*a"
      ],
      "metadata": {
        "id": "Bt8agkCPlpnd"
      },
      "execution_count": null,
      "outputs": []
    },
    {
      "cell_type": "code",
      "source": [
        "double_num(4)"
      ],
      "metadata": {
        "colab": {
          "base_uri": "https://localhost:8080/"
        },
        "id": "dT6rAkWGl_Qo",
        "outputId": "884f3e06-bcf7-4b0a-ef09-46f4e3521a67"
      },
      "execution_count": null,
      "outputs": [
        {
          "output_type": "execute_result",
          "data": {
            "text/plain": [
              "8"
            ]
          },
          "metadata": {},
          "execution_count": 13
        }
      ]
    },
    {
      "cell_type": "code",
      "source": [
        "def check_palindrome():\n",
        "  st=input(\"Enter the string\")\n",
        "  g=st[::-1]\n",
        "\n",
        "  print(g)\n",
        "  if(g==st):\n",
        "    return True\n",
        "  else:\n",
        "    return False"
      ],
      "metadata": {
        "id": "KitbqhvAmMX_"
      },
      "execution_count": null,
      "outputs": []
    },
    {
      "cell_type": "code",
      "source": [
        "check_palindrome()"
      ],
      "metadata": {
        "colab": {
          "base_uri": "https://localhost:8080/"
        },
        "id": "KE0PfK96mbil",
        "outputId": "95cdf0ca-7a6c-439f-d4a2-460a2abd342f"
      },
      "execution_count": null,
      "outputs": [
        {
          "output_type": "stream",
          "name": "stdout",
          "text": [
            "Enter the stringgfg\n",
            "gfg\n"
          ]
        },
        {
          "output_type": "execute_result",
          "data": {
            "text/plain": [
              "True"
            ]
          },
          "metadata": {},
          "execution_count": 20
        }
      ]
    },
    {
      "cell_type": "code",
      "source": [
        "class Super():\n",
        "  def fun1():\n",
        "    print('This is fun1 function in the super class')\n",
        "\n",
        "class Modified_Super(Super):\n",
        "  def fun1(self):\n",
        "    print('This is the fun1 in the modified super class')\n",
        "  def fun2(self):\n",
        "    print('This is th fun2 of the modified super class')"
      ],
      "metadata": {
        "id": "5GridAqUt2Jc"
      },
      "execution_count": null,
      "outputs": []
    },
    {
      "cell_type": "code",
      "source": [
        "obj=Modified_Super()\n",
        "obj.fun1()"
      ],
      "metadata": {
        "colab": {
          "base_uri": "https://localhost:8080/"
        },
        "id": "4zt1bdS-vJXN",
        "outputId": "4c1a30f0-f415-4dde-c3be-8575b7b526bf"
      },
      "execution_count": null,
      "outputs": [
        {
          "output_type": "stream",
          "name": "stdout",
          "text": [
            "This is the fun1 in the modified super class\n"
          ]
        }
      ]
    },
    {
      "cell_type": "code",
      "source": [
        "class Shape():\n",
        "  def area(self):\n",
        "    print(\"this is area\")\n",
        "\n",
        "class Rectangle(Shape):\n",
        "  def __init__(self):\n",
        "    self.l=int(input(\"Enter the length\"))\n",
        "    self.b=int(input(\"Enter the breadth\"))\n",
        "  def area(self):\n",
        "    area=self.l*self.b\n",
        "    return area\n"
      ],
      "metadata": {
        "id": "FdFDmzqlwcWy"
      },
      "execution_count": null,
      "outputs": []
    },
    {
      "cell_type": "code",
      "source": [
        "s=Rectangle()"
      ],
      "metadata": {
        "colab": {
          "base_uri": "https://localhost:8080/"
        },
        "id": "DjY1AE2SxMCR",
        "outputId": "ab1931fc-4034-4dd5-ab4b-4fa20ea052ec"
      },
      "execution_count": null,
      "outputs": [
        {
          "name": "stdout",
          "output_type": "stream",
          "text": [
            "Enter the length3\n",
            "Enter the breadth4\n"
          ]
        }
      ]
    },
    {
      "cell_type": "code",
      "source": [
        "A=s.area()\n",
        "A"
      ],
      "metadata": {
        "colab": {
          "base_uri": "https://localhost:8080/"
        },
        "id": "fkFq381BxTrv",
        "outputId": "1ccb516e-553f-4071-a494-acb3b064567e"
      },
      "execution_count": null,
      "outputs": [
        {
          "output_type": "execute_result",
          "data": {
            "text/plain": [
              "12"
            ]
          },
          "metadata": {},
          "execution_count": 29
        }
      ]
    },
    {
      "cell_type": "code",
      "source": [],
      "metadata": {
        "id": "CTRbJ3gJzJgZ"
      },
      "execution_count": null,
      "outputs": []
    },
    {
      "cell_type": "code",
      "source": [
        "class Person():\n",
        "    def fun1(self):\n",
        "      pass\n",
        "\n",
        "\n",
        "class Address():\n",
        "    def fun2(self):\n",
        "      pass\n",
        "\n",
        "\n",
        "class Contact(Person,Address):\n",
        "  def __init__(self,N,E,Add):\n",
        "    self.name=N\n",
        "    self.email=E\n",
        "    self.address=Add\n"
      ],
      "metadata": {
        "id": "AwvQUJOnzKUL"
      },
      "execution_count": null,
      "outputs": []
    },
    {
      "cell_type": "code",
      "source": [
        "class Student:\n",
        "  def __init__(self,Name,Roll_num,divison,Phone_num):\n",
        "    self.name=Name\n",
        "    self.ROll_num:Roll_num\n",
        "    self.divison:divison\n",
        "    self.phone=Phone_num\n",
        "  def display(self):\n",
        "    print(f\"Name:{self.name},ROll_Num: {self.Roll_num},Divison:{self.divison},:Phone_num:{self.phone}\")"
      ],
      "metadata": {
        "id": "gNLStCes3iS4"
      },
      "execution_count": null,
      "outputs": []
    }
  ]
}