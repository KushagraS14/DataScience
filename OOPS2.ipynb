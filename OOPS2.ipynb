{
  "nbformat": 4,
  "nbformat_minor": 0,
  "metadata": {
    "colab": {
      "provenance": []
    },
    "kernelspec": {
      "name": "python3",
      "display_name": "Python 3"
    },
    "language_info": {
      "name": "python"
    }
  },
  "cells": [
    {
      "cell_type": "code",
      "source": [
        "class Parent1:\n",
        "  def __init__(self):\n",
        "    self.name='Kushagra'\n",
        "\n",
        "\n",
        "class Parent2:\n",
        "  def __init__(self):\n",
        "    self.prof='DATA ANALYST'\n",
        "\n",
        "class child(Parent1,Parent2):\n",
        "  def __init__(self):\n",
        "    Parent1.__init__(self)\n",
        "    Parent2.__init__(self)\n",
        "    self.city=\"Varanasi\"\n",
        "  def display(self):\n",
        "    print(self.name,self.prof,self.city)\n"
      ],
      "metadata": {
        "id": "IZgWtnENoZr8"
      },
      "execution_count": null,
      "outputs": []
    },
    {
      "cell_type": "code",
      "source": [
        "ch=child()"
      ],
      "metadata": {
        "id": "IqjfUTTBrh-r"
      },
      "execution_count": null,
      "outputs": []
    },
    {
      "cell_type": "code",
      "source": [
        "ch.display()"
      ],
      "metadata": {
        "colab": {
          "base_uri": "https://localhost:8080/"
        },
        "id": "_M3uy7BprvoY",
        "outputId": "0560ab5b-a3d1-48e1-b764-a1b55d46d8ed"
      },
      "execution_count": null,
      "outputs": [
        {
          "output_type": "stream",
          "name": "stdout",
          "text": [
            "Kushagra DATA ANALYST Varanasi\n"
          ]
        }
      ]
    },
    {
      "cell_type": "code",
      "source": [
        "#hierarical inheritance:when there is one parent class and more than one child class inheriting from that parent"
      ],
      "metadata": {
        "id": "m1ccPWvXtB0T"
      },
      "execution_count": null,
      "outputs": []
    },
    {
      "cell_type": "code",
      "source": [
        "class Parent:\n",
        "  def __init__(self):\n",
        "    self.name='Kushagra'\n",
        "    self.prof='DataScientist'\n",
        "\n",
        "class child1(Parent):\n",
        "  def __init__(self):\n",
        "    Parent.__init__(self)\n",
        "    self.city='Varanasi'\n",
        "\n",
        "  def disp(self):\n",
        "    print(self.name,self.prof,self.city)\n",
        "\n",
        "class child2(Parent):\n",
        "  def __init__(self):\n",
        "    self.country=\"India\"\n",
        "    Parent.__init__(self)\n",
        "  def Display(self):\n",
        "    print(self.name,self.country,self.prof)\n",
        "\n",
        "\n",
        "\n",
        "\n"
      ],
      "metadata": {
        "id": "YbUDbdu7uJo9"
      },
      "execution_count": null,
      "outputs": []
    },
    {
      "cell_type": "code",
      "source": [
        "j=child1()\n",
        "k=child2()"
      ],
      "metadata": {
        "id": "xnCSiv2rxlRI"
      },
      "execution_count": null,
      "outputs": []
    },
    {
      "cell_type": "code",
      "source": [
        "j.disp()\n",
        "k.Display()"
      ],
      "metadata": {
        "colab": {
          "base_uri": "https://localhost:8080/"
        },
        "id": "hG-LOhk56NxP",
        "outputId": "58292af8-8624-4564-ee73-32b3403192d4"
      },
      "execution_count": null,
      "outputs": [
        {
          "output_type": "stream",
          "name": "stdout",
          "text": [
            "Kushagra DataScientist Varanasi\n",
            "Kushagra India DataScientist\n"
          ]
        }
      ]
    },
    {
      "cell_type": "code",
      "source": [
        "#encapsulation"
      ],
      "metadata": {
        "id": "vh8PK5BY_3-a"
      },
      "execution_count": null,
      "outputs": []
    },
    {
      "cell_type": "code",
      "source": [
        "\"\"\"\n",
        "#access modifiers\n",
        "#private\n",
        "#public\n",
        "#protected\n",
        "\n",
        "#__:private(double underscore) wardgrobe\n",
        "#_:protected(single underscore)Room(only inheriting members)\n",
        "#:public Drawing room\n",
        "\"\"\"\n",
        "##it creates a sense of securityt to the organisation\n"
      ],
      "metadata": {
        "id": "oFOzPSsWqbsY"
      },
      "execution_count": null,
      "outputs": []
    },
    {
      "cell_type": "code",
      "source": [
        "class Parent:\n",
        "  def __init__(self):\n",
        "    self.__name='Kushagra'\n",
        "    self._prof='DataScientist'\n",
        "\n",
        "  def Display(self):\n",
        "    print(self.__name,self._prof)\n",
        "class Child(Parent):\n",
        "  def __init__(self):\n",
        "    self.city='Varanasi'\n",
        "    Parent.__init__(self)\n",
        "  def disp(self):\n",
        "    print(self.city,self._prof)\n",
        "\n",
        "\n",
        "\n",
        "\n",
        "\n",
        "\n",
        "\n",
        "#cant access private members outside the class"
      ],
      "metadata": {
        "id": "mKaLoez90GWy"
      },
      "execution_count": null,
      "outputs": []
    },
    {
      "cell_type": "code",
      "source": [
        "p=Parent()\n",
        "c=Child()"
      ],
      "metadata": {
        "id": "IkK6jEaz2Q-H"
      },
      "execution_count": null,
      "outputs": []
    },
    {
      "cell_type": "code",
      "source": [
        "p.Display()\n",
        "c.disp()"
      ],
      "metadata": {
        "colab": {
          "base_uri": "https://localhost:8080/"
        },
        "id": "DU_ggoGd3EA5",
        "outputId": "fc231bed-9031-4cd6-aa6a-a88c046f6ee6"
      },
      "execution_count": null,
      "outputs": [
        {
          "output_type": "stream",
          "name": "stdout",
          "text": [
            "Kushagra DataScientist\n",
            "Varanasi DataScientist\n"
          ]
        }
      ]
    },
    {
      "cell_type": "code",
      "source": [
        "#abstraction-->hiding unnecessary information"
      ],
      "metadata": {
        "id": "ebnJcdx04q9X"
      },
      "execution_count": null,
      "outputs": []
    },
    {
      "cell_type": "code",
      "source": [
        "import numpy as np\n",
        "\n",
        "arr=np.array([1,3,4,6,7]) # there is an inside code working\n",
        "\n",
        "\n"
      ],
      "metadata": {
        "id": "hxKIpgdl5Wao"
      },
      "execution_count": null,
      "outputs": []
    },
    {
      "cell_type": "code",
      "source": [
        "import matplotlib.pyplot as plt\n",
        "import seaborn as sns\n",
        "\n",
        "data=np.random.choice([\"A\" ,\"B\",\"C\"],size=100)\n",
        "\n",
        "sns.countplot(x=data)\n",
        "plt.show()"
      ],
      "metadata": {
        "colab": {
          "base_uri": "https://localhost:8080/",
          "height": 430
        },
        "id": "nPsNCfxmAAfM",
        "outputId": "4a82bb51-ac88-495c-fe8b-6bf636ba2cd9"
      },
      "execution_count": null,
      "outputs": [
        {
          "output_type": "display_data",
          "data": {
            "text/plain": [
              "<Figure size 640x480 with 1 Axes>"
            ],
            "image/png": "[encoded data removed]"
          },
          "metadata": {}
        }
      ]
    },
    {
      "cell_type": "code",
      "source": [
        "from abc import ABC ,abstractmethod\n",
        "\n",
        "class Sample(ABC):\n",
        "  @abstractmethod\n",
        "  def abstract_method(self):\n",
        "    pass\n",
        "\n",
        "class child(Sample):\n",
        "  def abstract_method(self):\n",
        "    print(\"Example of Abstraction\")\n",
        "\n",
        "\n",
        "\n"
      ],
      "metadata": {
        "id": "cVAp2f-OC69d"
      },
      "execution_count": null,
      "outputs": []
    },
    {
      "cell_type": "code",
      "source": [
        "ch=child()\n",
        "ch.abstract_method()"
      ],
      "metadata": {
        "colab": {
          "base_uri": "https://localhost:8080/"
        },
        "id": "U5jW3E3ZH8ew",
        "outputId": "d7413a73-12c5-4f38-93cc-fc0fe5d75fda"
      },
      "execution_count": null,
      "outputs": [
        {
          "output_type": "stream",
          "name": "stdout",
          "text": [
            "Example of Abstraction\n"
          ]
        }
      ]
    },
    {
      "cell_type": "code",
      "source": [
        "#polymorphism:same entity having different functionalities\n",
        "\n",
        "class Parent:\n",
        "  def __init__(self):\n",
        "    self.shape='Square'\n",
        "    self.side=4\n",
        "\n",
        "  def area(self):\n",
        "    print(f\"The area of the {self.shape} is{self.side*self.side}\")\n",
        "\n",
        "class child():\n",
        "  def __init__(self):\n",
        "    self.shape=\"Rectangle\"\n",
        "    self.L=15\n",
        "    self.B=4\n",
        "  def area(self):\n",
        "    print(f\"the area of{self.shape}  is{self.L*self.B}\")\n",
        "\n"
      ],
      "metadata": {
        "id": "pZQOHWWRIbin"
      },
      "execution_count": null,
      "outputs": []
    },
    {
      "cell_type": "code",
      "source": [
        "p=Parent()\n",
        "p.area()"
      ],
      "metadata": {
        "colab": {
          "base_uri": "https://localhost:8080/"
        },
        "id": "R8rkqd_ihJ4Q",
        "outputId": "65c0f4a3-a9a5-4ba2-e2bf-115c8db1d5ce"
      },
      "execution_count": null,
      "outputs": [
        {
          "output_type": "stream",
          "name": "stdout",
          "text": [
            "The area of the Square is16\n"
          ]
        }
      ]
    },
    {
      "cell_type": "code",
      "source": [
        "c=child()\n",
        "c.area()"
      ],
      "metadata": {
        "colab": {
          "base_uri": "https://localhost:8080/"
        },
        "id": "K_IGPHidhYxk",
        "outputId": "bcfcc01a-e941-4ec3-c4aa-9551d9ff6f1b"
      },
      "execution_count": null,
      "outputs": [
        {
          "output_type": "stream",
          "name": "stdout",
          "text": [
            "the area ofRect  is60\n"
          ]
        }
      ]
    }
  ]
}