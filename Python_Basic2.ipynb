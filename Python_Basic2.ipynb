{
  "nbformat": 4,
  "nbformat_minor": 0,
  "metadata": {
    "colab": {
      "provenance": []
    },
    "kernelspec": {
      "name": "python3",
      "display_name": "Python 3"
    },
    "language_info": {
      "name": "python"
    }
  },
  "cells": [
    {
      "cell_type": "code",
      "execution_count": null,
      "metadata": {
        "id": "dqhVdYLp7SP-"
      },
      "outputs": [],
      "source": []
    },
    {
      "cell_type": "markdown",
      "source": [
        "TOPIC FOR TODAY\n",
        "\n",
        "*   DICTIONARY\n",
        "ADDING\n",
        "ACCESSING\n",
        "DELETION\n",
        "*   SETS\n",
        "\n",
        "*   CONDITIONAL STATEMENTS\n",
        "*   LOOPS\n",
        "\n",
        "*   FUNCTIONS\n",
        "\n",
        "\n",
        "*   LAMDA FUNCTIONS\n",
        "\n",
        "\n",
        "\n",
        "\n",
        "\n",
        "\n",
        "\n"
      ],
      "metadata": {
        "id": "aCTnLhms8HXK"
      }
    },
    {
      "cell_type": "markdown",
      "source": [
        "\n",
        "\n",
        "**1.   Sets**\n",
        "*italicized text*\n",
        "\n"
      ],
      "metadata": {
        "id": "NQm-EvSC9Im-"
      }
    },
    {
      "cell_type": "markdown",
      "source": [
        "Sets Def: It is the data type that is used for removing the duplicacy and containing the unique elements.In this data type we don't have the changebiluty criteria nor the concept of indexing and positioning.\n",
        "create={}"
      ],
      "metadata": {
        "id": "ZDohrqAF-n4G"
      }
    },
    {
      "cell_type": "code",
      "source": [
        "set1={1,1,2,3,4,5,5,6,7,8,9,9,10}\n",
        "#as per our conclusion,there are 13 elements"
      ],
      "metadata": {
        "id": "9J40eRIqBdg2"
      },
      "execution_count": null,
      "outputs": []
    },
    {
      "cell_type": "code",
      "source": [
        "len(set1)"
      ],
      "metadata": {
        "colab": {
          "base_uri": "https://localhost:8080/"
        },
        "id": "g0kAaFmiA611",
        "outputId": "de574746-3c49-4407-f14a-b98c7dd3d029"
      },
      "execution_count": null,
      "outputs": [
        {
          "output_type": "execute_result",
          "data": {
            "text/plain": [
              "10"
            ]
          },
          "metadata": {},
          "execution_count": 3
        }
      ]
    },
    {
      "cell_type": "code",
      "source": [
        "set1"
      ],
      "metadata": {
        "colab": {
          "base_uri": "https://localhost:8080/"
        },
        "id": "6fXPq-MdAkMv",
        "outputId": "53fafa48-39cd-4232-f7d6-474c3d1be0e1"
      },
      "execution_count": null,
      "outputs": [
        {
          "output_type": "execute_result",
          "data": {
            "text/plain": [
              "{1, 2, 3, 4, 5, 6, 7, 8, 9, 10}"
            ]
          },
          "metadata": {},
          "execution_count": 4
        }
      ]
    },
    {
      "cell_type": "code",
      "source": [
        "textset={'Dev','Dev','Varchasava','Manoj','Manoj','Sachin','Jaymin','Aishwariya','Aishwariya'}"
      ],
      "metadata": {
        "id": "_MxXGcvTCeuQ"
      },
      "execution_count": null,
      "outputs": []
    },
    {
      "cell_type": "code",
      "source": [
        "textset,len(textset)"
      ],
      "metadata": {
        "colab": {
          "base_uri": "https://localhost:8080/"
        },
        "id": "HFb-xsT9-bh-",
        "outputId": "a885a601-36f0-4ee9-ee02-a3424f152cd7"
      },
      "execution_count": null,
      "outputs": [
        {
          "output_type": "execute_result",
          "data": {
            "text/plain": [
              "({'Aishwariya', 'Dev', 'Jaymin', 'Manoj', 'Sachin', 'Varchasava'}, 6)"
            ]
          },
          "metadata": {},
          "execution_count": 9
        }
      ]
    },
    {
      "cell_type": "code",
      "source": [
        "textList=['Dev','Dev','Varchasava','Manoj','Manoj','Sachin','Jaymin','Aishwariya','Aishwariya']\n",
        "\n",
        "tetset2=set(textList)  # concept of typecasting"
      ],
      "metadata": {
        "id": "vsFr0nIJFNTX"
      },
      "execution_count": null,
      "outputs": []
    },
    {
      "cell_type": "code",
      "source": [
        "tetset2"
      ],
      "metadata": {
        "colab": {
          "base_uri": "https://localhost:8080/"
        },
        "id": "amgJiA7VFcxV",
        "outputId": "41970d9a-b8d8-445f-ccd8-8f2056082d8f"
      },
      "execution_count": null,
      "outputs": [
        {
          "output_type": "execute_result",
          "data": {
            "text/plain": [
              "{'Aishwariya', 'Dev', 'Jaymin', 'Manoj', 'Sachin', 'Varchasava'}"
            ]
          },
          "metadata": {},
          "execution_count": 11
        }
      ]
    },
    {
      "cell_type": "code",
      "source": [
        "#we can't change elements in sets , we can only remove elements or add elemets"
      ],
      "metadata": {
        "id": "QFDUQ7jwIt1L"
      },
      "execution_count": null,
      "outputs": []
    },
    {
      "cell_type": "code",
      "source": [
        "#syntax setname.add('element to be added)\n",
        "tetset2.add('Mary')"
      ],
      "metadata": {
        "id": "n2uFEgqoI_ly"
      },
      "execution_count": null,
      "outputs": []
    },
    {
      "cell_type": "code",
      "source": [
        "tetset2"
      ],
      "metadata": {
        "colab": {
          "base_uri": "https://localhost:8080/"
        },
        "id": "yhVwf4cwJmRl",
        "outputId": "5c98354b-e14b-43f4-8540-291e58db2a79"
      },
      "execution_count": null,
      "outputs": [
        {
          "output_type": "execute_result",
          "data": {
            "text/plain": [
              "{'Aishwariya', 'Dev', 'Jaymin', 'Manoj', 'Mary', 'Sachin', 'Varchasava'}"
            ]
          },
          "metadata": {},
          "execution_count": 14
        }
      ]
    },
    {
      "cell_type": "markdown",
      "source": [
        "Only one method for adding the elements"
      ],
      "metadata": {
        "id": "hAnYeVArKxcb"
      }
    },
    {
      "cell_type": "code",
      "source": [
        "#deletion-->pop,discard,delete"
      ],
      "metadata": {
        "id": "e0EqkbU4K3rH"
      },
      "execution_count": null,
      "outputs": []
    },
    {
      "cell_type": "code",
      "source": [
        "tetset2.pop()  #pop function deletes and returns a value that has been deleted"
      ],
      "metadata": {
        "colab": {
          "base_uri": "https://localhost:8080/",
          "height": 35
        },
        "id": "defrnKYTO0lO",
        "outputId": "6be1bd06-4a76-4886-f9fc-d30f6cb44907"
      },
      "execution_count": null,
      "outputs": [
        {
          "output_type": "execute_result",
          "data": {
            "text/plain": [
              "'Aishwariya'"
            ],
            "application/vnd.google.colaboratory.intrinsic+json": {
              "type": "string"
            }
          },
          "metadata": {},
          "execution_count": 18
        }
      ]
    },
    {
      "cell_type": "code",
      "source": [
        "tetset2.discard('Sachin')"
      ],
      "metadata": {
        "id": "NFpthPwqRPLp"
      },
      "execution_count": null,
      "outputs": []
    },
    {
      "cell_type": "code",
      "source": [
        "tetset2"
      ],
      "metadata": {
        "colab": {
          "base_uri": "https://localhost:8080/"
        },
        "id": "tVRXcDcpVdw4",
        "outputId": "f4e87aee-b118-4c0b-9ea0-e0a10003434e"
      },
      "execution_count": null,
      "outputs": [
        {
          "output_type": "execute_result",
          "data": {
            "text/plain": [
              "{'Dev', 'Jaymin', 'Manoj', 'Mary', 'Varchasava'}"
            ]
          },
          "metadata": {},
          "execution_count": 20
        }
      ]
    },
    {
      "cell_type": "code",
      "source": [
        "#error handling is poor in discard while it is good in remove"
      ],
      "metadata": {
        "id": "wQLM-xrxXCvC"
      },
      "execution_count": null,
      "outputs": []
    },
    {
      "cell_type": "code",
      "source": [
        "tetset2.discard('Kushagra')  #kushagra  is already not present in the list"
      ],
      "metadata": {
        "id": "fmS3l_G5XQb0"
      },
      "execution_count": null,
      "outputs": []
    },
    {
      "cell_type": "code",
      "source": [
        "tetset2.remove('Kushagra')  #kushagra is already not present"
      ],
      "metadata": {
        "colab": {
          "base_uri": "https://localhost:8080/",
          "height": 175
        },
        "id": "Zd_bQ0OMXWfH",
        "outputId": "780196aa-5d2c-4540-b657-5f6c17e173c4"
      },
      "execution_count": null,
      "outputs": [
        {
          "output_type": "error",
          "ename": "KeyError",
          "evalue": "'Kushagra'",
          "traceback": [
            "\u001b[0;31m---------------------------------------------------------------------------\u001b[0m",
            "\u001b[0;31mKeyError\u001b[0m                                  Traceback (most recent call last)",
            "\u001b[0;32m<ipython-input-22-ae38700df56b>\u001b[0m in \u001b[0;36m<cell line: 1>\u001b[0;34m()\u001b[0m\n\u001b[0;32m----> 1\u001b[0;31m \u001b[0mtetset2\u001b[0m\u001b[0;34m.\u001b[0m\u001b[0mremove\u001b[0m\u001b[0;34m(\u001b[0m\u001b[0;34m'Kushagra'\u001b[0m\u001b[0;34m)\u001b[0m  \u001b[0;31m#kushagra is already not present\u001b[0m\u001b[0;34m\u001b[0m\u001b[0;34m\u001b[0m\u001b[0m\n\u001b[0m",
            "\u001b[0;31mKeyError\u001b[0m: 'Kushagra'"
          ]
        }
      ]
    },
    {
      "cell_type": "code",
      "source": [
        "settext={'Dev','Jaymin'}"
      ],
      "metadata": {
        "id": "mgsCzU7bXv5L"
      },
      "execution_count": null,
      "outputs": []
    },
    {
      "cell_type": "code",
      "source": [
        "settext.issubset(tetset2)"
      ],
      "metadata": {
        "colab": {
          "base_uri": "https://localhost:8080/"
        },
        "id": "4A3A0YXya_SH",
        "outputId": "ad43b7f0-0750-4d95-ad17-b739dbdab61e"
      },
      "execution_count": null,
      "outputs": [
        {
          "output_type": "execute_result",
          "data": {
            "text/plain": [
              "True"
            ]
          },
          "metadata": {},
          "execution_count": 27
        }
      ]
    },
    {
      "cell_type": "code",
      "source": [
        "#Topic--2 Dictionary"
      ],
      "metadata": {
        "id": "1G53Z_L2bTjO"
      },
      "execution_count": null,
      "outputs": []
    },
    {
      "cell_type": "code",
      "source": [
        "# it is a datatype that is based on key value pairs and instead of indexing we use the concept of keys for acceing elements or for posisitoning"
      ],
      "metadata": {
        "id": "ycpJZ7GAcw16"
      },
      "execution_count": null,
      "outputs": []
    },
    {
      "cell_type": "code",
      "source": [
        "ContactDetails={\n",
        "    'Name':'Kushagra Srivastava',\n",
        "    'email':'Kushagra@gmail.com',\n",
        "    'PhoneNo.':'7890422331',\n",
        "    'address':'Allahabad',\n",
        "    'comments':'python/datascience'\n",
        "\n",
        "}"
      ],
      "metadata": {
        "id": "pWhKpzGFiDso"
      },
      "execution_count": null,
      "outputs": []
    },
    {
      "cell_type": "code",
      "source": [
        "type(ContactDetails)"
      ],
      "metadata": {
        "colab": {
          "base_uri": "https://localhost:8080/"
        },
        "id": "zja4fRHRjFgA",
        "outputId": "d9185c99-3f81-4773-deec-18f1de95b2fd"
      },
      "execution_count": null,
      "outputs": [
        {
          "output_type": "execute_result",
          "data": {
            "text/plain": [
              "dict"
            ]
          },
          "metadata": {},
          "execution_count": 29
        }
      ]
    },
    {
      "cell_type": "code",
      "source": [
        "ContactDetails                # example: google forms"
      ],
      "metadata": {
        "colab": {
          "base_uri": "https://localhost:8080/"
        },
        "id": "Q2lCMLfRjKSw",
        "outputId": "09e8425d-01f5-4d72-f40d-475d2c3b5007"
      },
      "execution_count": null,
      "outputs": [
        {
          "output_type": "execute_result",
          "data": {
            "text/plain": [
              "{'Name': 'Kushagra Srivastava',\n",
              " 'email': 'Kushagra@gmail.com',\n",
              " 'contact_Details': '7890422331',\n",
              " 'address': 'Allahabad',\n",
              " 'comments': 'python/datascience'}"
            ]
          },
          "metadata": {},
          "execution_count": 30
        }
      ]
    },
    {
      "cell_type": "code",
      "source": [
        "dict1={\n",
        "    'Name':{'User1':'kushagra','User2':'Sonam','User3':'Lokesh'},\n",
        "    'CourseName':'DS/AI'\n",
        "}\n",
        "\n",
        "\n"
      ],
      "metadata": {
        "id": "rrreoWwKxw-5"
      },
      "execution_count": null,
      "outputs": []
    },
    {
      "cell_type": "code",
      "source": [
        "dict1                       #nested dictionary (dict under dict)"
      ],
      "metadata": {
        "colab": {
          "base_uri": "https://localhost:8080/"
        },
        "id": "noSkdxAwyPek",
        "outputId": "b25bfe02-d823-4e0b-fe6c-bfe42b90227f"
      },
      "execution_count": null,
      "outputs": [
        {
          "output_type": "execute_result",
          "data": {
            "text/plain": [
              "{'Name': {'User1': 'kushagra', 'User2': 'Sonam', 'User3': 'Lokesh'},\n",
              " 'CourseName': 'DS/AI'}"
            ]
          },
          "metadata": {},
          "execution_count": 35
        }
      ]
    },
    {
      "cell_type": "code",
      "source": [
        "ContactDetails['Name']"
      ],
      "metadata": {
        "colab": {
          "base_uri": "https://localhost:8080/",
          "height": 35
        },
        "id": "8-NZm2n7yiWZ",
        "outputId": "b893738c-e8c6-4d24-d59d-f9b6577def69"
      },
      "execution_count": null,
      "outputs": [
        {
          "output_type": "execute_result",
          "data": {
            "text/plain": [
              "'Kushagra Srivastava'"
            ],
            "application/vnd.google.colaboratory.intrinsic+json": {
              "type": "string"
            }
          },
          "metadata": {},
          "execution_count": 36
        }
      ]
    },
    {
      "cell_type": "code",
      "source": [
        "#syn dict[name]=new values\n",
        "ContactDetails['Address']='DELHI,INDIA'\n",
        "ContactDetails"
      ],
      "metadata": {
        "colab": {
          "base_uri": "https://localhost:8080/"
        },
        "id": "UFNSnnf33Nbj",
        "outputId": "e4a707f0-da65-479c-896a-8608fb56b7c1"
      },
      "execution_count": null,
      "outputs": [
        {
          "output_type": "execute_result",
          "data": {
            "text/plain": [
              "{'Name': 'Kushagra Srivastava',\n",
              " 'email': 'Kushagra@gmail.com',\n",
              " 'contact_Details': '7890422331',\n",
              " 'address': 'Allahabad',\n",
              " 'comments': 'python/datascience',\n",
              " 'Address': 'DELHI,INDIA'}"
            ]
          },
          "metadata": {},
          "execution_count": 40
        }
      ]
    },
    {
      "cell_type": "code",
      "source": [
        "#DUPLICACY CAN BE THERE WITH THEVALUES BUT NOT WITH THE KEYS"
      ],
      "metadata": {
        "id": "2gFyH0sX5fUf"
      },
      "execution_count": null,
      "outputs": []
    },
    {
      "cell_type": "code",
      "source": [
        "car_Details={\n",
        "    \"brand\":'FORD',\n",
        "    'MODEL':'MUSTANG',\n",
        "    'YEAR':'2017',\n",
        "    'KMS DRIVEN':'20000',\n",
        "    'COLOR':'RED',\n",
        "    'COLOR':'BLACK'\n",
        "\n",
        "}\n",
        "\n",
        "\n",
        "\n",
        "\n",
        "\n",
        "\n",
        "\n",
        "\n"
      ],
      "metadata": {
        "id": "rziQcyXc6kEY"
      },
      "execution_count": null,
      "outputs": []
    },
    {
      "cell_type": "markdown",
      "source": [
        "#Add something to dictionary"
      ],
      "metadata": {
        "id": "Oz7nHhMHMUwZ"
      }
    },
    {
      "cell_type": "code",
      "source": [
        "#dictname[newkey]=[new value]"
      ],
      "metadata": {
        "id": "tArZ0SO77zJf"
      },
      "execution_count": null,
      "outputs": []
    },
    {
      "cell_type": "code",
      "source": [
        "car_Details['Price']='$123,$132'"
      ],
      "metadata": {
        "id": "Eqy-UQpbM8EJ"
      },
      "execution_count": null,
      "outputs": []
    },
    {
      "cell_type": "code",
      "source": [
        "car_Details"
      ],
      "metadata": {
        "colab": {
          "base_uri": "https://localhost:8080/"
        },
        "id": "ftC4gKSMNP0W",
        "outputId": "0cd93391-6eb8-4b25-8ad1-cc6a063167dd"
      },
      "execution_count": null,
      "outputs": [
        {
          "output_type": "execute_result",
          "data": {
            "text/plain": [
              "{'brand': 'FORD',\n",
              " 'MODEL': 'MUSTANG',\n",
              " 'YEAR': '2017',\n",
              " 'KMS DRIVEN': '20000',\n",
              " 'COLOR': 'BLACK',\n",
              " 'Price': '$123,$132'}"
            ]
          },
          "metadata": {},
          "execution_count": 51
        }
      ]
    },
    {
      "cell_type": "markdown",
      "source": [
        "# Delete something to dictionary"
      ],
      "metadata": {
        "id": "W6A_KD7ePl9y"
      }
    },
    {
      "cell_type": "markdown",
      "source": [
        "#syn dictname.pop(key)"
      ],
      "metadata": {
        "id": "_DXeiB2GPurU"
      }
    },
    {
      "cell_type": "markdown",
      "source": [],
      "metadata": {
        "id": "nZV-kCorQNq_"
      }
    },
    {
      "cell_type": "code",
      "source": [
        "car_Details.pop('COLOR')"
      ],
      "metadata": {
        "colab": {
          "base_uri": "https://localhost:8080/",
          "height": 35
        },
        "id": "TNVoNxPHQOCm",
        "outputId": "c06ce2d6-759d-4b82-a82c-c8043b06e806"
      },
      "execution_count": null,
      "outputs": [
        {
          "output_type": "execute_result",
          "data": {
            "text/plain": [
              "'BLACK'"
            ],
            "application/vnd.google.colaboratory.intrinsic+json": {
              "type": "string"
            }
          },
          "metadata": {},
          "execution_count": 53
        }
      ]
    },
    {
      "cell_type": "code",
      "source": [
        "car_Details"
      ],
      "metadata": {
        "colab": {
          "base_uri": "https://localhost:8080/"
        },
        "id": "FaA8LwZlQblP",
        "outputId": "5e6b5a54-c3de-477a-f2da-141695b256fd"
      },
      "execution_count": null,
      "outputs": [
        {
          "output_type": "execute_result",
          "data": {
            "text/plain": [
              "{'brand': 'FORD',\n",
              " 'MODEL': 'MUSTANG',\n",
              " 'YEAR': '2017',\n",
              " 'KMS DRIVEN': '20000',\n",
              " 'Price': '$123,$132'}"
            ]
          },
          "metadata": {},
          "execution_count": 54
        }
      ]
    },
    {
      "cell_type": "code",
      "source": [
        "car_Details.keys()"
      ],
      "metadata": {
        "colab": {
          "base_uri": "https://localhost:8080/"
        },
        "id": "ppI86-E1QmRh",
        "outputId": "0cb9adaf-f064-43ee-fa7f-0de6d6f5597b"
      },
      "execution_count": null,
      "outputs": [
        {
          "output_type": "execute_result",
          "data": {
            "text/plain": [
              "dict_keys(['brand', 'MODEL', 'YEAR', 'KMS DRIVEN', 'Price'])"
            ]
          },
          "metadata": {},
          "execution_count": 55
        }
      ]
    },
    {
      "cell_type": "code",
      "source": [
        "car_Details.values()"
      ],
      "metadata": {
        "colab": {
          "base_uri": "https://localhost:8080/"
        },
        "id": "f-RLflMZUgdo",
        "outputId": "9895c201-47ab-4dd7-bc7b-ebd9a4435eeb"
      },
      "execution_count": null,
      "outputs": [
        {
          "output_type": "execute_result",
          "data": {
            "text/plain": [
              "dict_values(['FORD', 'MUSTANG', '2017', '20000', '$123,$132'])"
            ]
          },
          "metadata": {},
          "execution_count": 57
        }
      ]
    },
    {
      "cell_type": "code",
      "source": [
        "car_Details.items()"
      ],
      "metadata": {
        "colab": {
          "base_uri": "https://localhost:8080/"
        },
        "id": "GGpX3sj8UmsP",
        "outputId": "fcc5c8a3-e2ac-4ffb-9acb-dbe41fbe01cf"
      },
      "execution_count": null,
      "outputs": [
        {
          "output_type": "execute_result",
          "data": {
            "text/plain": [
              "dict_items([('brand', 'FORD'), ('MODEL', 'MUSTANG'), ('YEAR', '2017'), ('KMS DRIVEN', '20000'), ('Price', '$123,$132')])"
            ]
          },
          "metadata": {},
          "execution_count": 59
        }
      ]
    },
    {
      "cell_type": "code",
      "source": [
        "multival_Dict={\n",
        "\n",
        "    'name':{'1':'Kushagra','2':'Swati','3':'lokesh'}\n",
        "\n",
        "\n",
        "\n",
        "}"
      ],
      "metadata": {
        "id": "4_lLPkpZWL5j"
      },
      "execution_count": null,
      "outputs": []
    },
    {
      "cell_type": "code",
      "source": [
        "multival_Dict"
      ],
      "metadata": {
        "colab": {
          "base_uri": "https://localhost:8080/"
        },
        "id": "l9InoJ-xW5DZ",
        "outputId": "5048920c-5004-4d4a-84c6-b646b03586dd"
      },
      "execution_count": null,
      "outputs": [
        {
          "output_type": "execute_result",
          "data": {
            "text/plain": [
              "{'name': {'1': 'Kushagra', '2': 'Swati', '3': 'lokesh'}}"
            ]
          },
          "metadata": {},
          "execution_count": 61
        }
      ]
    },
    {
      "cell_type": "markdown",
      "source": [
        "#Conditional Statements"
      ],
      "metadata": {
        "id": "NiDh4zAtzZQt"
      }
    },
    {
      "cell_type": "code",
      "source": [
        "biscuit=input('Enter the name')\n",
        "cake=input(\"Enter cake name\")\n",
        "if biscuit=='Orange Biscuit':\n",
        "  print('Buy')\n",
        "elif cake=='Chocolate':\n",
        "  print('Buy cake')\n",
        "else:\n",
        "  print('Give it a drive')\n",
        "\n",
        "\n"
      ],
      "metadata": {
        "id": "z5QBJSOlUvvk"
      },
      "execution_count": null,
      "outputs": []
    },
    {
      "cell_type": "code",
      "source": [
        "Status=input(\"Enter the status\")\n",
        "\n",
        "if Status=='Recieved':\n",
        "  print('Working on it')\n",
        "                                  #using elif used for analysing more than two codition\n",
        "elif Status==\"in transit\":\n",
        "  print(',Waiting for the file')\n",
        "elif Status=='Error Occurred':\n",
        "  print('Error happened!Try to resolve')\n",
        "\n",
        "else:\n",
        "  print('Not Recieved')\n",
        "\n"
      ],
      "metadata": {
        "colab": {
          "base_uri": "https://localhost:8080/"
        },
        "id": "KAMrNkFSzefv",
        "outputId": "f468850c-7f81-426e-929d-84eaf5738a93"
      },
      "execution_count": null,
      "outputs": [
        {
          "output_type": "stream",
          "name": "stdout",
          "text": [
            "Enter the statusin transit\n",
            "in transit!,Waiting for the file\n"
          ]
        }
      ]
    },
    {
      "cell_type": "markdown",
      "source": [
        "# Topic 4: LOOPS"
      ],
      "metadata": {
        "id": "yLm5GgS83naW"
      }
    },
    {
      "cell_type": "code",
      "source": [
        "#while loop"
      ],
      "metadata": {
        "id": "x6lYGIk69Jj8"
      },
      "execution_count": null,
      "outputs": []
    },
    {
      "cell_type": "code",
      "source": [
        "#for loop\n",
        "#syn for i in range(start rane,end range+1)\n",
        "for i in range(1,21):\n",
        "  print(f'the number is {i}')"
      ],
      "metadata": {
        "colab": {
          "base_uri": "https://localhost:8080/"
        },
        "id": "iQXDnnXY3wZ9",
        "outputId": "920b4064-bc70-4218-c8db-3035b0ad70ca"
      },
      "execution_count": null,
      "outputs": [
        {
          "output_type": "stream",
          "name": "stdout",
          "text": [
            "the number is 1\n",
            "the number is 2\n",
            "the number is 3\n",
            "the number is 4\n",
            "the number is 5\n",
            "the number is 6\n",
            "the number is 7\n",
            "the number is 8\n",
            "the number is 9\n",
            "the number is 10\n",
            "the number is 11\n",
            "the number is 12\n",
            "the number is 13\n",
            "the number is 14\n",
            "the number is 15\n",
            "the number is 16\n",
            "the number is 17\n",
            "the number is 18\n",
            "the number is 19\n",
            "the number is 20\n"
          ]
        }
      ]
    },
    {
      "cell_type": "code",
      "source": [
        "list1=['1','2','3','4','5','6','kushagra','Swati']\n",
        "for x in list1:\n",
        "  print(f\"the element is {x}\")\n",
        "\n",
        "\n"
      ],
      "metadata": {
        "colab": {
          "base_uri": "https://localhost:8080/"
        },
        "id": "HSc4HoFy8_-2",
        "outputId": "04e412a2-7d7a-4b6e-b01c-4b40e5aa0de7"
      },
      "execution_count": null,
      "outputs": [
        {
          "output_type": "stream",
          "name": "stdout",
          "text": [
            "the element is 1\n",
            "the element is 2\n",
            "the element is 3\n",
            "the element is 4\n",
            "the element is 5\n",
            "the element is 6\n",
            "the element is kushagra\n",
            "the element is Swati\n"
          ]
        }
      ]
    },
    {
      "cell_type": "code",
      "source": [
        "#syn #range(startpos,endpos+1,step)\n",
        "\n",
        "\n"
      ],
      "metadata": {
        "id": "o7NODtBx8vkS"
      },
      "execution_count": null,
      "outputs": []
    },
    {
      "cell_type": "code",
      "source": [
        "#whileloop\n",
        "dist_distance=0\n",
        "while dist_distance<=5:\n",
        "  print(\"Running!!\")\n",
        "  print(f\"Distance covered in this round: {dist_distance}\")\n",
        "  dist_distance=dist_distance+1"
      ],
      "metadata": {
        "colab": {
          "base_uri": "https://localhost:8080/"
        },
        "id": "JGlgYvSvQyHX",
        "outputId": "3e566587-f6cc-4d7c-91f7-3065b80dbdd5"
      },
      "execution_count": null,
      "outputs": [
        {
          "output_type": "stream",
          "name": "stdout",
          "text": [
            "Running!!\n",
            "Distance covered in this round: 0\n",
            "Running!!\n",
            "Distance covered in this round: 1\n",
            "Running!!\n",
            "Distance covered in this round: 2\n",
            "Running!!\n",
            "Distance covered in this round: 3\n",
            "Running!!\n",
            "Distance covered in this round: 4\n",
            "Running!!\n",
            "Distance covered in this round: 5\n"
          ]
        }
      ]
    },
    {
      "cell_type": "markdown",
      "source": [
        "# Topic 5 Function"
      ],
      "metadata": {
        "id": "llUNUQ8VT5B3"
      }
    },
    {
      "cell_type": "code",
      "source": [
        "friendlist=[\"Kushagra\",\"Swati\",\"Ayush\",\"Ramesh\",\"Swapnil\"]"
      ],
      "metadata": {
        "id": "aIhYqSitYn_M"
      },
      "execution_count": null,
      "outputs": []
    },
    {
      "cell_type": "code",
      "source": [
        "def invitefunc(parameter):\n",
        "  for i in parameter:\n",
        "    print(f\"Dear {i},You are invited to the party at 7:30 am Thank You!\"\n",
        "                \"Venue:ABC TOWERS\"\n",
        "          )\n",
        "\n"
      ],
      "metadata": {
        "id": "VlsNO6H4T4mb"
      },
      "execution_count": null,
      "outputs": []
    },
    {
      "cell_type": "code",
      "source": [
        "invitefunc(friendlist)"
      ],
      "metadata": {
        "colab": {
          "base_uri": "https://localhost:8080/"
        },
        "id": "I33soeuAY62G",
        "outputId": "e78610c3-ea5d-4165-857c-90f7dcd9fb11"
      },
      "execution_count": null,
      "outputs": [
        {
          "output_type": "stream",
          "name": "stdout",
          "text": [
            "Dear Kushagra,You are invited to the party at 7:30 am Thank You!Venue:ABC TOWERS\n",
            "Dear Swati,You are invited to the party at 7:30 am Thank You!Venue:ABC TOWERS\n",
            "Dear Ayush,You are invited to the party at 7:30 am Thank You!Venue:ABC TOWERS\n",
            "Dear Ramesh,You are invited to the party at 7:30 am Thank You!Venue:ABC TOWERS\n",
            "Dear Swapnil,You are invited to the party at 7:30 am Thank You!Venue:ABC TOWERS\n"
          ]
        }
      ]
    },
    {
      "cell_type": "markdown",
      "source": [
        "# Topic 6 Lambda Function"
      ],
      "metadata": {
        "id": "TiqyEF25aswM"
      }
    },
    {
      "cell_type": "code",
      "source": [
        "#syn funcname=lambda para1 para2 :operation"
      ],
      "metadata": {
        "id": "rdmq2MXPaehz"
      },
      "execution_count": null,
      "outputs": []
    },
    {
      "cell_type": "code",
      "source": [
        "sumfunc=lambda a,b:a+b"
      ],
      "metadata": {
        "id": "20lJtYUGakuY"
      },
      "execution_count": null,
      "outputs": []
    },
    {
      "cell_type": "code",
      "source": [
        "sumfunc(51,42)"
      ],
      "metadata": {
        "colab": {
          "base_uri": "https://localhost:8080/"
        },
        "id": "eSeyww9yb9dt",
        "outputId": "6a9fb989-8e3e-4360-f62f-9116664fb5f5"
      },
      "execution_count": null,
      "outputs": [
        {
          "output_type": "execute_result",
          "data": {
            "text/plain": [
              "93"
            ]
          },
          "metadata": {},
          "execution_count": 36
        }
      ]
    }
  ]
}